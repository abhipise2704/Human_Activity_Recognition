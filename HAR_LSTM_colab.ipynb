{
  "nbformat": 4,
  "nbformat_minor": 0,
  "metadata": {
    "kernelspec": {
      "display_name": "Python 3",
      "language": "python",
      "name": "python3"
    },
    "language_info": {
      "codemirror_mode": {
        "name": "ipython",
        "version": 3
      },
      "file_extension": ".py",
      "mimetype": "text/x-python",
      "name": "python",
      "nbconvert_exporter": "python",
      "pygments_lexer": "ipython3",
      "version": "3.6.1"
    },
    "colab": {
      "name": "HAR_LSTM_colab.ipynb",
      "provenance": [],
      "collapsed_sections": [],
      "include_colab_link": true
    },
    "accelerator": "GPU"
  },
  "cells": [
    {
      "cell_type": "markdown",
      "metadata": {
        "id": "view-in-github",
        "colab_type": "text"
      },
      "source": [
        "<a href=\"https://colab.research.google.com/github/abhipise2704/Human_Activity_Recognition/blob/master/HAR_LSTM_colab.ipynb\" target=\"_parent\"><img src=\"https://colab.research.google.com/assets/colab-badge.svg\" alt=\"Open In Colab\"/></a>"
      ]
    },
    {
      "cell_type": "markdown",
      "metadata": {
        "id": "wmlUtLGnPAVc",
        "colab_type": "text"
      },
      "source": [
        "# Assignment 21\n",
        "## LSTM ON HUMAN ACTIVITY RECOGNITION\n",
        "## abhipise2704@gmail.com_21"
      ]
    },
    {
      "cell_type": "markdown",
      "metadata": {
        "id": "4Ai7Cu78PZBB",
        "colab_type": "text"
      },
      "source": [
        "# 1: DATA UPLOADING /DATA PREPROCESSING "
      ]
    },
    {
      "cell_type": "markdown",
      "metadata": {
        "id": "FEY40-caOwzf",
        "colab_type": "text"
      },
      "source": [
        "### 1.1 Loading Folder HAR on  google drive "
      ]
    },
    {
      "cell_type": "code",
      "metadata": {
        "id": "giCLr-di82tb",
        "colab_type": "code",
        "colab": {
          "base_uri": "https://localhost:8080/",
          "height": 34
        },
        "outputId": "f8f92a22-00ee-498c-aa54-25b59cc0c733"
      },
      "source": [
        "#https://colab.research.google.com/notebooks/io.ipynb#scrollTo=XDg9OBaYqRMd\n",
        "#https://medium.com/@master_yi/importing-datasets-in-google-colab-c816fc654f97\n",
        "# Code to read csv file into Colaboratory:\n",
        "#!pip install -U -q PyDrive\n",
        "from pydrive.auth import GoogleAuth\n",
        "from pydrive.drive import GoogleDrive\n",
        "from google.colab import auth\n",
        "from oauth2client.client import GoogleCredentials\n",
        "# Authenticate and create the PyDrive client.\n",
        "auth.authenticate_user()\n",
        "gauth = GoogleAuth()\n",
        "gauth.credentials = GoogleCredentials.get_application_default()\n",
        "drive = GoogleDrive(gauth)\n",
        "\n",
        "link = 'https://drive.google.com/open?id=118toouH8ifByKJHmmowyjOjGyir-YAvi'\n",
        "\n",
        "fluff, id = link.split('=')\n",
        "print (id) # Verify that you have everything after '='\n",
        "\n",
        "\n",
        "downloaded = drive.CreateFile({'id':id}) \n",
        "downloaded.GetContentFile('HumanActivityRecognition.zip')  \n",
        "#data = pd.read_csv('preprocessed_data')\n",
        "# Dataset is now stored in a Pandas Dataframe\n",
        "#data.shape"
      ],
      "execution_count": 1,
      "outputs": [
        {
          "output_type": "stream",
          "text": [
            "118toouH8ifByKJHmmowyjOjGyir-YAvi\n"
          ],
          "name": "stdout"
        }
      ]
    },
    {
      "cell_type": "code",
      "metadata": {
        "id": "r5r0QTs6iZ8d",
        "colab_type": "code",
        "colab": {}
      },
      "source": [
        "import zipfile\n",
        "\n",
        "\n",
        "zip_ref = zipfile.ZipFile(\"/content/HumanActivityRecognition.zip\", 'r')\n",
        "zip_ref.extractall(\"\")\n",
        "zip_ref.close()"
      ],
      "execution_count": 0,
      "outputs": []
    },
    {
      "cell_type": "markdown",
      "metadata": {
        "id": "sUMfj2wqOqt9",
        "colab_type": "text"
      },
      "source": [
        "### 1.2 Importing Library "
      ]
    },
    {
      "cell_type": "code",
      "metadata": {
        "id": "dopXtCSp7GR1",
        "colab_type": "code",
        "colab": {}
      },
      "source": [
        "import pandas as pd\n",
        "import numpy as np"
      ],
      "execution_count": 0,
      "outputs": []
    },
    {
      "cell_type": "code",
      "metadata": {
        "id": "VhheFj_D7GSI",
        "colab_type": "code",
        "colab": {}
      },
      "source": [
        "# Activities are the class labels\n",
        "# It is a 6 class classification\n",
        "ACTIVITIES = {\n",
        "    0: 'WALKING',\n",
        "    1: 'WALKING_UPSTAIRS',\n",
        "    2: 'WALKING_DOWNSTAIRS',\n",
        "    3: 'SITTING',\n",
        "    4: 'STANDING',\n",
        "    5: 'LAYING',\n",
        "}\n",
        "\n",
        "# Utility function to print the confusion matrix\n",
        "def confusion_matrix(Y_true, Y_pred):\n",
        "    Y_true = pd.Series([ACTIVITIES[y] for y in np.argmax(Y_true, axis=1)])\n",
        "    Y_pred = pd.Series([ACTIVITIES[y] for y in np.argmax(Y_pred, axis=1)])\n",
        "\n",
        "    return pd.crosstab(Y_true, Y_pred, rownames=['True'], colnames=['Pred'])"
      ],
      "execution_count": 0,
      "outputs": []
    },
    {
      "cell_type": "markdown",
      "metadata": {
        "id": "kqK7JzV07GSc",
        "colab_type": "text"
      },
      "source": [
        "### 1.4 Data Reading to Xtrain Xtest y_train and y_test"
      ]
    },
    {
      "cell_type": "code",
      "metadata": {
        "id": "umKFSQ2l7GSf",
        "colab_type": "code",
        "colab": {}
      },
      "source": [
        "# Data directory\n",
        "DATADIR = 'UCI_HAR_Dataset'"
      ],
      "execution_count": 0,
      "outputs": []
    },
    {
      "cell_type": "code",
      "metadata": {
        "id": "2er-3Rpi7GS1",
        "colab_type": "code",
        "colab": {}
      },
      "source": [
        "# Raw data signals\n",
        "# Signals are from Accelerometer and Gyroscope\n",
        "# The signals are in x,y,z directions\n",
        "# Sensor signals are filtered to have only body acceleration\n",
        "# excluding the acceleration due to gravity\n",
        "# Triaxial acceleration from the accelerometer is total acceleration\n",
        "SIGNALS = [\n",
        "    \"body_acc_x\",\n",
        "    \"body_acc_y\",\n",
        "    \"body_acc_z\",\n",
        "    \"body_gyro_x\",\n",
        "    \"body_gyro_y\",\n",
        "    \"body_gyro_z\",\n",
        "    \"total_acc_x\",\n",
        "    \"total_acc_y\",\n",
        "    \"total_acc_z\"\n",
        "]"
      ],
      "execution_count": 0,
      "outputs": []
    },
    {
      "cell_type": "code",
      "metadata": {
        "id": "Ju5bI8Rc7GTH",
        "colab_type": "code",
        "colab": {}
      },
      "source": [
        "# Utility function to read the data from csv file\n",
        "def _read_csv(filename):\n",
        "    return pd.read_csv(filename, delim_whitespace=True, header=None)\n",
        "\n",
        "# Utility function to load the load\n",
        "def load_signals(subset):\n",
        "    signals_data = []\n",
        "\n",
        "    for signal in SIGNALS:\n",
        "        filename = f'HAR/UCI_HAR_Dataset/{subset}/Inertial Signals/{signal}_{subset}.txt'\n",
        "        df=_read_csv(filename)\n",
        "        df=df.values\n",
        "        signals_data.append(np.asmatrix(df))\n",
        "\n",
        "    # Transpose is used to change the dimensionality of the output,\n",
        "    # aggregating the signals by combination of sample/timestep.\n",
        "    # Resultant shape is (7352 train/2947 test samples, 128 timesteps, 9 signals)\n",
        "    return np.transpose(signals_data, (1, 2, 0))"
      ],
      "execution_count": 0,
      "outputs": []
    },
    {
      "cell_type": "code",
      "metadata": {
        "id": "F8HQd42n7GTb",
        "colab_type": "code",
        "colab": {}
      },
      "source": [
        "\n",
        "def load_y(subset):\n",
        "    \"\"\"\n",
        "    The objective that we are trying to predict is a integer, from 1 to 6,\n",
        "    that represents a human activity. We return a binary representation of \n",
        "    every sample objective as a 6 bits vector using One Hot Encoding\n",
        "    (https://pandas.pydata.org/pandas-docs/stable/generated/pandas.get_dummies.html)\n",
        "    \"\"\"\n",
        "    filename = f'HAR/UCI_HAR_Dataset/{subset}/y_{subset}.txt'\n",
        "    y = _read_csv(filename)[0]\n",
        "    y=pd.get_dummies(y)\n",
        "    y=y.values\n",
        "    #y=np.asmatrix(y)\n",
        "    \n",
        "\n",
        "    return y"
      ],
      "execution_count": 0,
      "outputs": []
    },
    {
      "cell_type": "code",
      "metadata": {
        "id": "LcfU-DWM7GTr",
        "colab_type": "code",
        "colab": {}
      },
      "source": [
        "def load_data():\n",
        "    \"\"\"\n",
        "    Obtain the dataset from multiple files.\n",
        "    Returns: X_train, X_test, y_train, y_test\n",
        "    \"\"\"\n",
        "    X_train, X_test = load_signals('train'), load_signals('test')\n",
        "    y_train, y_test = load_y('train'), load_y('test')\n",
        "\n",
        "    return X_train, X_test, y_train, y_test"
      ],
      "execution_count": 0,
      "outputs": []
    },
    {
      "cell_type": "code",
      "metadata": {
        "id": "RqCjuP7D7GT5",
        "colab_type": "code",
        "colab": {}
      },
      "source": [
        "# Importing tensorflow\n",
        "np.random.seed(42)\n",
        "import tensorflow as tf\n",
        "tf.random.set_seed(42)"
      ],
      "execution_count": 0,
      "outputs": []
    },
    {
      "cell_type": "code",
      "metadata": {
        "id": "4gBk04tO7GUF",
        "colab_type": "code",
        "colab": {}
      },
      "source": [
        "# Configuring a session\n",
        "session_conf = tf.compat.v1.ConfigProto(\n",
        "    intra_op_parallelism_threads=1,\n",
        "    inter_op_parallelism_threads=1\n",
        ")"
      ],
      "execution_count": 0,
      "outputs": []
    },
    {
      "cell_type": "code",
      "metadata": {
        "id": "rZdMNPFZ7GUX",
        "colab_type": "code",
        "colab": {
          "base_uri": "https://localhost:8080/",
          "height": 50
        },
        "outputId": "765fc8da-ccc1-461f-efbc-1b4ae1f08930"
      },
      "source": [
        "# Import Keras\n",
        "from keras import backend as K\n",
        "sess = tf.compat.v1.Session(graph=tf.compat.v1.get_default_graph(), config=session_conf)\n",
        "tf.compat.v1.keras.backend.get_session(sess)"
      ],
      "execution_count": 12,
      "outputs": [
        {
          "output_type": "stream",
          "text": [
            "Using TensorFlow backend.\n"
          ],
          "name": "stderr"
        },
        {
          "output_type": "execute_result",
          "data": {
            "text/plain": [
              "<tensorflow.python.client.session.Session at 0x7f5206f0e668>"
            ]
          },
          "metadata": {
            "tags": []
          },
          "execution_count": 12
        }
      ]
    },
    {
      "cell_type": "code",
      "metadata": {
        "id": "jXga27_Y7GUm",
        "colab_type": "code",
        "colab": {}
      },
      "source": [
        "# Importing libraries\n",
        "from keras.models import Sequential\n",
        "from keras.layers import LSTM\n",
        "from keras.layers.core import Dense, Dropout"
      ],
      "execution_count": 0,
      "outputs": []
    },
    {
      "cell_type": "code",
      "metadata": {
        "id": "MjW7JVr77GU2",
        "colab_type": "code",
        "colab": {}
      },
      "source": [
        "# Initializing parameters\n",
        "epochs = 30\n",
        "batch_size = 27\n",
        "n_hidden = 32"
      ],
      "execution_count": 0,
      "outputs": []
    },
    {
      "cell_type": "code",
      "metadata": {
        "id": "6NNnnDrm7GVA",
        "colab_type": "code",
        "colab": {}
      },
      "source": [
        "# Utility function to count the number of classes\n",
        "def _count_classes(y):\n",
        "    return len(set([tuple(category) for category in y]))"
      ],
      "execution_count": 0,
      "outputs": []
    },
    {
      "cell_type": "code",
      "metadata": {
        "id": "r9I6cUGh7GVK",
        "colab_type": "code",
        "colab": {}
      },
      "source": [
        "# Loading the train and test data\n",
        "X_train, X_test, Y_train, Y_test = load_data()"
      ],
      "execution_count": 0,
      "outputs": []
    },
    {
      "cell_type": "code",
      "metadata": {
        "id": "C4C3s--y7GVW",
        "colab_type": "code",
        "colab": {
          "base_uri": "https://localhost:8080/",
          "height": 67
        },
        "outputId": "92d30a1d-c0fe-45e5-d2aa-624e7fb4a2c2"
      },
      "source": [
        "timesteps = len(X_train[0])\n",
        "input_dim = len(X_train[0][0])\n",
        "n_classes = _count_classes(Y_train)\n",
        "\n",
        "print(timesteps)\n",
        "print(input_dim)\n",
        "print(len(X_train))"
      ],
      "execution_count": 17,
      "outputs": [
        {
          "output_type": "stream",
          "text": [
            "128\n",
            "9\n",
            "7352\n"
          ],
          "name": "stdout"
        }
      ]
    },
    {
      "cell_type": "markdown",
      "metadata": {
        "id": "XcEvsbo_7GVt",
        "colab_type": "text"
      },
      "source": [
        "# 2 Defining the Architecture of LSTM(model 1)"
      ]
    },
    {
      "cell_type": "markdown",
      "metadata": {
        "id": "H2kTr8StP6J6",
        "colab_type": "text"
      },
      "source": [
        "### 2.1 Initialize Model"
      ]
    },
    {
      "cell_type": "code",
      "metadata": {
        "id": "mFmVJd-J7GVw",
        "colab_type": "code",
        "colab": {
          "base_uri": "https://localhost:8080/",
          "height": 252
        },
        "outputId": "99b53db0-e00d-4617-e377-cd06e1bbb229"
      },
      "source": [
        "# Initiliazing the sequential model\n",
        "model = Sequential()\n",
        "# Configuring the parameters\n",
        "model.add(LSTM(n_hidden, input_shape=(timesteps, input_dim)))\n",
        "# Adding a dropout layer\n",
        "model.add(Dropout(0.5))\n",
        "# Adding a dense output layer with sigmoid activation\n",
        "model.add(Dense(n_classes, activation='sigmoid'))\n",
        "model.summary()"
      ],
      "execution_count": 50,
      "outputs": [
        {
          "output_type": "stream",
          "text": [
            "Model: \"sequential_3\"\n",
            "_________________________________________________________________\n",
            "Layer (type)                 Output Shape              Param #   \n",
            "=================================================================\n",
            "lstm_5 (LSTM)                (None, 32)                5376      \n",
            "_________________________________________________________________\n",
            "dropout_5 (Dropout)          (None, 32)                0         \n",
            "_________________________________________________________________\n",
            "dense_3 (Dense)              (None, 6)                 198       \n",
            "=================================================================\n",
            "Total params: 5,574\n",
            "Trainable params: 5,574\n",
            "Non-trainable params: 0\n",
            "_________________________________________________________________\n"
          ],
          "name": "stdout"
        }
      ]
    },
    {
      "cell_type": "markdown",
      "metadata": {
        "id": "Lz29Zt9ZQA8j",
        "colab_type": "text"
      },
      "source": [
        "### 2.2 Model Compilation & Evaluation "
      ]
    },
    {
      "cell_type": "code",
      "metadata": {
        "id": "s7OMqaOI7GV_",
        "colab_type": "code",
        "colab": {}
      },
      "source": [
        "# Compiling the model\n",
        "model.compile(loss='categorical_crossentropy',\n",
        "              optimizer='rmsprop',\n",
        "              metrics=['accuracy'])"
      ],
      "execution_count": 0,
      "outputs": []
    },
    {
      "cell_type": "code",
      "metadata": {
        "id": "hfBod7ps7GWN",
        "colab_type": "code",
        "colab": {
          "base_uri": "https://localhost:8080/",
          "height": 1078
        },
        "outputId": "175e822f-d7c9-40fe-a950-c8d24f147dfe"
      },
      "source": [
        "# Training the model\n",
        "model.fit(X_train,\n",
        "          Y_train,\n",
        "          batch_size=batch_size,\n",
        "          validation_data=(X_test, Y_test),\n",
        "          epochs=epochs)"
      ],
      "execution_count": 59,
      "outputs": [
        {
          "output_type": "stream",
          "text": [
            "Train on 7352 samples, validate on 2947 samples\n",
            "Epoch 1/30\n",
            "7352/7352 [==============================] - 96s 13ms/step - loss: 1.3178 - accuracy: 0.4506 - val_loss: 1.1267 - val_accuracy: 0.5151\n",
            "Epoch 2/30\n",
            "7352/7352 [==============================] - 92s 13ms/step - loss: 0.9312 - accuracy: 0.6034 - val_loss: 0.8452 - val_accuracy: 0.6121\n",
            "Epoch 3/30\n",
            "7352/7352 [==============================] - 93s 13ms/step - loss: 0.7748 - accuracy: 0.6434 - val_loss: 0.7749 - val_accuracy: 0.6125\n",
            "Epoch 4/30\n",
            "7352/7352 [==============================] - 94s 13ms/step - loss: 0.7149 - accuracy: 0.6604 - val_loss: 0.7583 - val_accuracy: 0.5993\n",
            "Epoch 5/30\n",
            "7352/7352 [==============================] - 98s 13ms/step - loss: 0.6708 - accuracy: 0.6800 - val_loss: 1.0034 - val_accuracy: 0.6295\n",
            "Epoch 6/30\n",
            "7352/7352 [==============================] - 99s 13ms/step - loss: 0.6183 - accuracy: 0.7199 - val_loss: 0.6839 - val_accuracy: 0.7448\n",
            "Epoch 7/30\n",
            "7352/7352 [==============================] - 97s 13ms/step - loss: 0.5507 - accuracy: 0.7742 - val_loss: 0.7963 - val_accuracy: 0.7268\n",
            "Epoch 8/30\n",
            "7352/7352 [==============================] - 95s 13ms/step - loss: 0.5212 - accuracy: 0.7855 - val_loss: 0.6395 - val_accuracy: 0.7547\n",
            "Epoch 9/30\n",
            "7352/7352 [==============================] - 97s 13ms/step - loss: 0.5130 - accuracy: 0.7983 - val_loss: 0.5978 - val_accuracy: 0.7832\n",
            "Epoch 10/30\n",
            "7352/7352 [==============================] - 95s 13ms/step - loss: 0.4609 - accuracy: 0.8105 - val_loss: 0.5706 - val_accuracy: 0.7984\n",
            "Epoch 11/30\n",
            "7352/7352 [==============================] - 95s 13ms/step - loss: 0.4520 - accuracy: 0.8327 - val_loss: 0.6005 - val_accuracy: 0.7862\n",
            "Epoch 12/30\n",
            "7352/7352 [==============================] - 95s 13ms/step - loss: 0.4161 - accuracy: 0.8594 - val_loss: 0.5256 - val_accuracy: 0.8551\n",
            "Epoch 13/30\n",
            "7352/7352 [==============================] - 96s 13ms/step - loss: 0.3478 - accuracy: 0.9015 - val_loss: 0.4695 - val_accuracy: 0.8782\n",
            "Epoch 14/30\n",
            "7352/7352 [==============================] - 94s 13ms/step - loss: 0.3081 - accuracy: 0.9140 - val_loss: 0.5279 - val_accuracy: 0.8721\n",
            "Epoch 15/30\n",
            "7352/7352 [==============================] - 95s 13ms/step - loss: 0.2811 - accuracy: 0.9195 - val_loss: 0.4663 - val_accuracy: 0.8751\n",
            "Epoch 16/30\n",
            "7352/7352 [==============================] - 95s 13ms/step - loss: 0.2480 - accuracy: 0.9237 - val_loss: 0.5973 - val_accuracy: 0.8755\n",
            "Epoch 17/30\n",
            "7352/7352 [==============================] - 94s 13ms/step - loss: 0.2557 - accuracy: 0.9293 - val_loss: 0.4258 - val_accuracy: 0.8867\n",
            "Epoch 18/30\n",
            "7352/7352 [==============================] - 95s 13ms/step - loss: 0.2037 - accuracy: 0.9354 - val_loss: 0.4181 - val_accuracy: 0.8853\n",
            "Epoch 19/30\n",
            "7352/7352 [==============================] - 95s 13ms/step - loss: 0.2137 - accuracy: 0.9344 - val_loss: 0.6966 - val_accuracy: 0.8599\n",
            "Epoch 20/30\n",
            "7352/7352 [==============================] - 93s 13ms/step - loss: 0.2132 - accuracy: 0.9384 - val_loss: 0.6220 - val_accuracy: 0.8619\n",
            "Epoch 21/30\n",
            "7352/7352 [==============================] - 95s 13ms/step - loss: 0.1972 - accuracy: 0.9378 - val_loss: 0.4640 - val_accuracy: 0.8823\n",
            "Epoch 22/30\n",
            "7352/7352 [==============================] - 94s 13ms/step - loss: 0.2088 - accuracy: 0.9396 - val_loss: 0.4406 - val_accuracy: 0.8755\n",
            "Epoch 23/30\n",
            "7352/7352 [==============================] - 93s 13ms/step - loss: 0.2359 - accuracy: 0.9344 - val_loss: 0.4642 - val_accuracy: 0.8968\n",
            "Epoch 24/30\n",
            "7352/7352 [==============================] - 95s 13ms/step - loss: 0.1972 - accuracy: 0.9389 - val_loss: 0.7632 - val_accuracy: 0.8565\n",
            "Epoch 25/30\n",
            "7352/7352 [==============================] - 95s 13ms/step - loss: 0.1678 - accuracy: 0.9419 - val_loss: 0.4583 - val_accuracy: 0.9026\n",
            "Epoch 26/30\n",
            "7352/7352 [==============================] - 96s 13ms/step - loss: 0.1641 - accuracy: 0.9438 - val_loss: 0.5014 - val_accuracy: 0.8894\n",
            "Epoch 27/30\n",
            "7352/7352 [==============================] - 94s 13ms/step - loss: 0.1674 - accuracy: 0.9438 - val_loss: 0.4171 - val_accuracy: 0.8894\n",
            "Epoch 28/30\n",
            "7352/7352 [==============================] - 95s 13ms/step - loss: 0.1711 - accuracy: 0.9483 - val_loss: 0.3357 - val_accuracy: 0.9009\n",
            "Epoch 29/30\n",
            "7352/7352 [==============================] - 95s 13ms/step - loss: 0.1867 - accuracy: 0.9444 - val_loss: 0.3000 - val_accuracy: 0.9118\n",
            "Epoch 30/30\n",
            "7352/7352 [==============================] - 94s 13ms/step - loss: 0.1609 - accuracy: 0.9486 - val_loss: 0.4108 - val_accuracy: 0.9009\n"
          ],
          "name": "stdout"
        },
        {
          "output_type": "execute_result",
          "data": {
            "text/plain": [
              "<keras.callbacks.callbacks.History at 0x7f737b1ae898>"
            ]
          },
          "metadata": {
            "tags": []
          },
          "execution_count": 59
        }
      ]
    },
    {
      "cell_type": "markdown",
      "metadata": {
        "id": "A3hJwzWJQHcI",
        "colab_type": "text"
      },
      "source": [
        "### 2.4 Confusion Matrix on Test Data for Model 1 "
      ]
    },
    {
      "cell_type": "code",
      "metadata": {
        "id": "c2kc6PJg7GWb",
        "colab_type": "code",
        "colab": {},
        "outputId": "fb88804d-11df-47d8-fcd0-af486275eedf"
      },
      "source": [
        "# Confusion Matrix\n",
        "print(confusion_matrix(Y_test, model.predict(X_test)))"
      ],
      "execution_count": 0,
      "outputs": [
        {
          "output_type": "stream",
          "text": [
            "Pred                LAYING  SITTING  STANDING  WALKING  WALKING_DOWNSTAIRS  \\\n",
            "True                                                                         \n",
            "LAYING                 512        0        25        0                   0   \n",
            "SITTING                  3      410        75        0                   0   \n",
            "STANDING                 0       87       445        0                   0   \n",
            "WALKING                  0        0         0      481                   2   \n",
            "WALKING_DOWNSTAIRS       0        0         0        0                 382   \n",
            "WALKING_UPSTAIRS         0        0         0        2                  18   \n",
            "\n",
            "Pred                WALKING_UPSTAIRS  \n",
            "True                                  \n",
            "LAYING                             0  \n",
            "SITTING                            3  \n",
            "STANDING                           0  \n",
            "WALKING                           13  \n",
            "WALKING_DOWNSTAIRS                38  \n",
            "WALKING_UPSTAIRS                 451  \n"
          ],
          "name": "stdout"
        }
      ]
    },
    {
      "cell_type": "code",
      "metadata": {
        "id": "AevNjne47GWk",
        "colab_type": "code",
        "colab": {},
        "outputId": "e16159de-15ac-436b-b6a0-71145fca6c45"
      },
      "source": [
        "score = model.evaluate(X_test, Y_test)"
      ],
      "execution_count": 0,
      "outputs": [
        {
          "output_type": "stream",
          "text": [
            "2947/2947 [==============================] - 4s 2ms/step\n"
          ],
          "name": "stdout"
        }
      ]
    },
    {
      "cell_type": "code",
      "metadata": {
        "id": "9sRGPBPJ7GWx",
        "colab_type": "code",
        "colab": {},
        "outputId": "1f10c788-ca14-4c34-e7a9-0d9b2ecdd56c"
      },
      "source": [
        "score"
      ],
      "execution_count": 0,
      "outputs": [
        {
          "output_type": "execute_result",
          "data": {
            "text/plain": [
              "[0.3087582236972612, 0.9097387173396675]"
            ]
          },
          "metadata": {
            "tags": []
          },
          "execution_count": 28
        }
      ]
    },
    {
      "cell_type": "markdown",
      "metadata": {
        "id": "Lw4VQ5-U7GW-",
        "colab_type": "text"
      },
      "source": [
        "- With a simple 2 layer architecture we got 90.09% accuracy and a loss of 0.30\n",
        "- We can further imporve the performace with Hyperparameter tuning"
      ]
    },
    {
      "cell_type": "markdown",
      "metadata": {
        "id": "j2TbKm3WQSHQ",
        "colab_type": "text"
      },
      "source": [
        "# 3 LSTM model 2 "
      ]
    },
    {
      "cell_type": "markdown",
      "metadata": {
        "id": "3MDxWbquNcCJ",
        "colab_type": "text"
      },
      "source": [
        "### 3.1 GridSearchCV for droprOut and LSTM units \n"
      ]
    },
    {
      "cell_type": "markdown",
      "metadata": {
        "id": "CRscSw5nNkJj",
        "colab_type": "text"
      },
      "source": [
        "##### Model Function  "
      ]
    },
    {
      "cell_type": "code",
      "metadata": {
        "id": "qufsxoU9sBfg",
        "colab_type": "code",
        "colab": {}
      },
      "source": [
        "#https://github.com/krishnaik06/Hidden-Layers-Neurons/blob/master/How%20to%20Select%20how%20many%20hidden%20layer%20and%20neurons%20in%20a%20neural%20network.ipynb\n",
        "#https://machinelearningmastery.com/grid-search-hyperparameters-deep-learning-models-python-keras/\n",
        "from keras.layers import BatchNormalization\n",
        "\n",
        "\n",
        "def create_model(lstm_units_1,lstm_units_2,dropout_1,dropout_2):\n",
        "    # create model\n",
        "    model = Sequential()\n",
        "    \n",
        "    model.add(LSTM(lstm_units_1,return_sequences=True,\n",
        "                   input_shape=(timesteps, input_dim)))\n",
        "    model.add(BatchNormalization())\n",
        "    model.add(Dropout(dropout_1))\n",
        "    \n",
        "    model.add(LSTM(lstm_units_2))\n",
        "    model.add(Dropout(dropout_2))\n",
        "    \n",
        "    model.add(Dense(n_classes, activation='softmax'))\n",
        "    # Compile model\n",
        "    model.compile(loss='binary_crossentropy', optimizer='rmsprop', metrics=['accuracy'])\n",
        "    return model\n"
      ],
      "execution_count": 0,
      "outputs": []
    },
    {
      "cell_type": "markdown",
      "metadata": {
        "id": "JFfUHBo7NxID",
        "colab_type": "text"
      },
      "source": [
        "### 3.2 GridSearchCV to Hyperparametr tuning "
      ]
    },
    {
      "cell_type": "code",
      "metadata": {
        "id": "jwWjR5GqtJ3q",
        "colab_type": "code",
        "colab": {}
      },
      "source": [
        "from keras.wrappers.scikit_learn import KerasClassifier\n",
        "from sklearn.model_selection import GridSearchCV\n",
        "from sklearn.model_selection import RandomizedSearchCV\n",
        "\n",
        "model = KerasClassifier(build_fn=create_model, verbose=10)"
      ],
      "execution_count": 0,
      "outputs": []
    },
    {
      "cell_type": "code",
      "metadata": {
        "id": "N3CxId_gtEGF",
        "colab_type": "code",
        "colab": {}
      },
      "source": [
        "#https://machinelearningmastery.com/grid-search-hyperparameters-deep-learning-models-python-keras/\n",
        "\n",
        "lstm_units_1_list=[100,150]\n",
        "lstm_units_2_list=[50,100]\n",
        "dropout_1_list=[0.6,0.7,0.8]\n",
        "dropout_2_list=[0.7,0.8,0.9]\n",
        "#kernel_ini_list=['random_uniform','glorot_normal']\n",
        "param_grid_dict = dict(lstm_units_1=lstm_units_1_list, \n",
        "                  lstm_units_2=lstm_units_2_list,\n",
        "                  dropout_1 = dropout_1_list,\n",
        "                  dropout_2=dropout_2_list)\n",
        "\n",
        "grid = GridSearchCV( estimator=model,param_grid=param_grid_dict,verbose=10,cv=3)"
      ],
      "execution_count": 0,
      "outputs": []
    },
    {
      "cell_type": "code",
      "metadata": {
        "id": "-gWHgT_MsrpQ",
        "colab_type": "code",
        "colab": {
          "base_uri": "https://localhost:8080/",
          "height": 8131
        },
        "outputId": "63662136-0fbd-46d1-9483-ae81b7faec6b"
      },
      "source": [
        "#https://machinelearningmastery.com/grid-search-hyperparameters-deep-learning-models-python-keras/\n",
        "\n",
        "grid_result = grid.fit(X_train,Y_train,epochs=2, batch_size=500)\n",
        "\n",
        "# summarize results\n",
        "print(\"Best: %f using %s\" % (grid_result.best_score_, grid_result.best_params_))\n",
        "means = grid_result.cv_results_['mean_test_score']\n",
        "stds = grid_result.cv_results_['std_test_score']\n",
        "params = grid_result.cv_results_['params']\n",
        "for mean, stdev, param in zip(means, stds, params):\n",
        "    print(\"%f (%f) with: %r\" % (mean, stdev, param))\n",
        "\n"
      ],
      "execution_count": 36,
      "outputs": [
        {
          "output_type": "stream",
          "text": [
            "Fitting 3 folds for each of 36 candidates, totalling 108 fits\n",
            "[CV] dropout_1=0.6, dropout_2=0.7, lstm_units_1=100, lstm_units_2=50 .\n"
          ],
          "name": "stdout"
        },
        {
          "output_type": "stream",
          "text": [
            "[Parallel(n_jobs=1)]: Using backend SequentialBackend with 1 concurrent workers.\n"
          ],
          "name": "stderr"
        },
        {
          "output_type": "stream",
          "text": [
            "Epoch 1/2\n",
            "Epoch 2/2\n",
            "[CV]  dropout_1=0.6, dropout_2=0.7, lstm_units_1=100, lstm_units_2=50, score=0.186, total=  20.7s\n",
            "[CV] dropout_1=0.6, dropout_2=0.7, lstm_units_1=100, lstm_units_2=50 .\n"
          ],
          "name": "stdout"
        },
        {
          "output_type": "stream",
          "text": [
            "[Parallel(n_jobs=1)]: Done   1 out of   1 | elapsed:   20.7s remaining:    0.0s\n"
          ],
          "name": "stderr"
        },
        {
          "output_type": "stream",
          "text": [
            "Epoch 1/2\n",
            "Epoch 2/2\n",
            "[CV]  dropout_1=0.6, dropout_2=0.7, lstm_units_1=100, lstm_units_2=50, score=0.307, total=  18.8s\n",
            "[CV] dropout_1=0.6, dropout_2=0.7, lstm_units_1=100, lstm_units_2=50 .\n"
          ],
          "name": "stdout"
        },
        {
          "output_type": "stream",
          "text": [
            "[Parallel(n_jobs=1)]: Done   2 out of   2 | elapsed:   39.5s remaining:    0.0s\n"
          ],
          "name": "stderr"
        },
        {
          "output_type": "stream",
          "text": [
            "Epoch 1/2\n",
            "Epoch 2/2\n",
            "[CV]  dropout_1=0.6, dropout_2=0.7, lstm_units_1=100, lstm_units_2=50, score=0.315, total=  18.6s\n",
            "[CV] dropout_1=0.6, dropout_2=0.7, lstm_units_1=100, lstm_units_2=100 \n"
          ],
          "name": "stdout"
        },
        {
          "output_type": "stream",
          "text": [
            "[Parallel(n_jobs=1)]: Done   3 out of   3 | elapsed:   58.1s remaining:    0.0s\n"
          ],
          "name": "stderr"
        },
        {
          "output_type": "stream",
          "text": [
            "Epoch 1/2\n",
            "Epoch 2/2\n",
            "[CV]  dropout_1=0.6, dropout_2=0.7, lstm_units_1=100, lstm_units_2=100, score=0.237, total=  18.8s\n",
            "[CV] dropout_1=0.6, dropout_2=0.7, lstm_units_1=100, lstm_units_2=100 \n"
          ],
          "name": "stdout"
        },
        {
          "output_type": "stream",
          "text": [
            "[Parallel(n_jobs=1)]: Done   4 out of   4 | elapsed:  1.3min remaining:    0.0s\n"
          ],
          "name": "stderr"
        },
        {
          "output_type": "stream",
          "text": [
            "Epoch 1/2\n",
            "Epoch 2/2\n",
            "[CV]  dropout_1=0.6, dropout_2=0.7, lstm_units_1=100, lstm_units_2=100, score=0.354, total=  18.1s\n",
            "[CV] dropout_1=0.6, dropout_2=0.7, lstm_units_1=100, lstm_units_2=100 \n"
          ],
          "name": "stdout"
        },
        {
          "output_type": "stream",
          "text": [
            "[Parallel(n_jobs=1)]: Done   5 out of   5 | elapsed:  1.6min remaining:    0.0s\n"
          ],
          "name": "stderr"
        },
        {
          "output_type": "stream",
          "text": [
            "Epoch 1/2\n",
            "Epoch 2/2\n",
            "[CV]  dropout_1=0.6, dropout_2=0.7, lstm_units_1=100, lstm_units_2=100, score=0.280, total=  18.7s\n",
            "[CV] dropout_1=0.6, dropout_2=0.7, lstm_units_1=150, lstm_units_2=50 .\n"
          ],
          "name": "stdout"
        },
        {
          "output_type": "stream",
          "text": [
            "[Parallel(n_jobs=1)]: Done   6 out of   6 | elapsed:  1.9min remaining:    0.0s\n"
          ],
          "name": "stderr"
        },
        {
          "output_type": "stream",
          "text": [
            "Epoch 1/2\n",
            "Epoch 2/2\n",
            "[CV]  dropout_1=0.6, dropout_2=0.7, lstm_units_1=150, lstm_units_2=50, score=0.216, total=  18.3s\n",
            "[CV] dropout_1=0.6, dropout_2=0.7, lstm_units_1=150, lstm_units_2=50 .\n"
          ],
          "name": "stdout"
        },
        {
          "output_type": "stream",
          "text": [
            "[Parallel(n_jobs=1)]: Done   7 out of   7 | elapsed:  2.2min remaining:    0.0s\n"
          ],
          "name": "stderr"
        },
        {
          "output_type": "stream",
          "text": [
            "Epoch 1/2\n",
            "Epoch 2/2\n",
            "[CV]  dropout_1=0.6, dropout_2=0.7, lstm_units_1=150, lstm_units_2=50, score=0.309, total=  18.2s\n",
            "[CV] dropout_1=0.6, dropout_2=0.7, lstm_units_1=150, lstm_units_2=50 .\n"
          ],
          "name": "stdout"
        },
        {
          "output_type": "stream",
          "text": [
            "[Parallel(n_jobs=1)]: Done   8 out of   8 | elapsed:  2.5min remaining:    0.0s\n"
          ],
          "name": "stderr"
        },
        {
          "output_type": "stream",
          "text": [
            "Epoch 1/2\n",
            "Epoch 2/2\n",
            "[CV]  dropout_1=0.6, dropout_2=0.7, lstm_units_1=150, lstm_units_2=50, score=0.274, total=  18.9s\n",
            "[CV] dropout_1=0.6, dropout_2=0.7, lstm_units_1=150, lstm_units_2=100 \n"
          ],
          "name": "stdout"
        },
        {
          "output_type": "stream",
          "text": [
            "[Parallel(n_jobs=1)]: Done   9 out of   9 | elapsed:  2.8min remaining:    0.0s\n"
          ],
          "name": "stderr"
        },
        {
          "output_type": "stream",
          "text": [
            "Epoch 1/2\n",
            "Epoch 2/2\n",
            "[CV]  dropout_1=0.6, dropout_2=0.7, lstm_units_1=150, lstm_units_2=100, score=0.291, total=  19.0s\n",
            "[CV] dropout_1=0.6, dropout_2=0.7, lstm_units_1=150, lstm_units_2=100 \n",
            "Epoch 1/2\n",
            "Epoch 2/2\n",
            "[CV]  dropout_1=0.6, dropout_2=0.7, lstm_units_1=150, lstm_units_2=100, score=0.241, total=  18.5s\n",
            "[CV] dropout_1=0.6, dropout_2=0.7, lstm_units_1=150, lstm_units_2=100 \n",
            "Epoch 1/2\n",
            "Epoch 2/2\n",
            "[CV]  dropout_1=0.6, dropout_2=0.7, lstm_units_1=150, lstm_units_2=100, score=0.330, total=  19.3s\n",
            "[CV] dropout_1=0.6, dropout_2=0.8, lstm_units_1=100, lstm_units_2=50 .\n",
            "Epoch 1/2\n",
            "Epoch 2/2\n",
            "[CV]  dropout_1=0.6, dropout_2=0.8, lstm_units_1=100, lstm_units_2=50, score=0.251, total=  19.5s\n",
            "[CV] dropout_1=0.6, dropout_2=0.8, lstm_units_1=100, lstm_units_2=50 .\n",
            "Epoch 1/2\n",
            "Epoch 2/2\n",
            "[CV]  dropout_1=0.6, dropout_2=0.8, lstm_units_1=100, lstm_units_2=50, score=0.261, total=  19.6s\n",
            "[CV] dropout_1=0.6, dropout_2=0.8, lstm_units_1=100, lstm_units_2=50 .\n",
            "Epoch 1/2\n",
            "Epoch 2/2\n",
            "[CV]  dropout_1=0.6, dropout_2=0.8, lstm_units_1=100, lstm_units_2=50, score=0.210, total=  18.0s\n",
            "[CV] dropout_1=0.6, dropout_2=0.8, lstm_units_1=100, lstm_units_2=100 \n",
            "Epoch 1/2\n",
            "Epoch 2/2\n",
            "[CV]  dropout_1=0.6, dropout_2=0.8, lstm_units_1=100, lstm_units_2=100, score=0.307, total=  19.1s\n",
            "[CV] dropout_1=0.6, dropout_2=0.8, lstm_units_1=100, lstm_units_2=100 \n",
            "Epoch 1/2\n",
            "Epoch 2/2\n",
            "[CV]  dropout_1=0.6, dropout_2=0.8, lstm_units_1=100, lstm_units_2=100, score=0.302, total=  18.8s\n",
            "[CV] dropout_1=0.6, dropout_2=0.8, lstm_units_1=100, lstm_units_2=100 \n",
            "Epoch 1/2\n",
            "Epoch 2/2\n",
            "[CV]  dropout_1=0.6, dropout_2=0.8, lstm_units_1=100, lstm_units_2=100, score=0.386, total=  19.8s\n",
            "[CV] dropout_1=0.6, dropout_2=0.8, lstm_units_1=150, lstm_units_2=50 .\n",
            "Epoch 1/2\n",
            "Epoch 2/2\n",
            "[CV]  dropout_1=0.6, dropout_2=0.8, lstm_units_1=150, lstm_units_2=50, score=0.228, total=  19.3s\n",
            "[CV] dropout_1=0.6, dropout_2=0.8, lstm_units_1=150, lstm_units_2=50 .\n",
            "Epoch 1/2\n",
            "Epoch 2/2\n",
            "[CV]  dropout_1=0.6, dropout_2=0.8, lstm_units_1=150, lstm_units_2=50, score=0.355, total=  19.0s\n",
            "[CV] dropout_1=0.6, dropout_2=0.8, lstm_units_1=150, lstm_units_2=50 .\n",
            "Epoch 1/2\n",
            "Epoch 2/2\n",
            "[CV]  dropout_1=0.6, dropout_2=0.8, lstm_units_1=150, lstm_units_2=50, score=0.224, total=  18.4s\n",
            "[CV] dropout_1=0.6, dropout_2=0.8, lstm_units_1=150, lstm_units_2=100 \n",
            "Epoch 1/2\n",
            "Epoch 2/2\n",
            "[CV]  dropout_1=0.6, dropout_2=0.8, lstm_units_1=150, lstm_units_2=100, score=0.192, total=  19.8s\n",
            "[CV] dropout_1=0.6, dropout_2=0.8, lstm_units_1=150, lstm_units_2=100 \n",
            "Epoch 1/2\n",
            "Epoch 2/2\n",
            "[CV]  dropout_1=0.6, dropout_2=0.8, lstm_units_1=150, lstm_units_2=100, score=0.282, total=  18.5s\n",
            "[CV] dropout_1=0.6, dropout_2=0.8, lstm_units_1=150, lstm_units_2=100 \n",
            "Epoch 1/2\n",
            "Epoch 2/2\n",
            "[CV]  dropout_1=0.6, dropout_2=0.8, lstm_units_1=150, lstm_units_2=100, score=0.398, total=  18.3s\n",
            "[CV] dropout_1=0.6, dropout_2=0.9, lstm_units_1=100, lstm_units_2=50 .\n",
            "Epoch 1/2\n",
            "Epoch 2/2\n",
            "[CV]  dropout_1=0.6, dropout_2=0.9, lstm_units_1=100, lstm_units_2=50, score=0.220, total=  18.9s\n",
            "[CV] dropout_1=0.6, dropout_2=0.9, lstm_units_1=100, lstm_units_2=50 .\n",
            "Epoch 1/2\n",
            "Epoch 2/2\n",
            "[CV]  dropout_1=0.6, dropout_2=0.9, lstm_units_1=100, lstm_units_2=50, score=0.348, total=  19.4s\n",
            "[CV] dropout_1=0.6, dropout_2=0.9, lstm_units_1=100, lstm_units_2=50 .\n",
            "Epoch 1/2\n",
            "Epoch 2/2\n",
            "[CV]  dropout_1=0.6, dropout_2=0.9, lstm_units_1=100, lstm_units_2=50, score=0.260, total=  19.0s\n",
            "[CV] dropout_1=0.6, dropout_2=0.9, lstm_units_1=100, lstm_units_2=100 \n",
            "Epoch 1/2\n",
            "Epoch 2/2\n",
            "[CV]  dropout_1=0.6, dropout_2=0.9, lstm_units_1=100, lstm_units_2=100, score=0.235, total=  19.7s\n",
            "[CV] dropout_1=0.6, dropout_2=0.9, lstm_units_1=100, lstm_units_2=100 \n",
            "Epoch 1/2\n",
            "Epoch 2/2\n",
            "[CV]  dropout_1=0.6, dropout_2=0.9, lstm_units_1=100, lstm_units_2=100, score=0.363, total=  19.4s\n",
            "[CV] dropout_1=0.6, dropout_2=0.9, lstm_units_1=100, lstm_units_2=100 \n",
            "Epoch 1/2\n",
            "Epoch 2/2\n",
            "[CV]  dropout_1=0.6, dropout_2=0.9, lstm_units_1=100, lstm_units_2=100, score=0.371, total=  19.4s\n",
            "[CV] dropout_1=0.6, dropout_2=0.9, lstm_units_1=150, lstm_units_2=50 .\n",
            "Epoch 1/2\n",
            "Epoch 2/2\n",
            "[CV]  dropout_1=0.6, dropout_2=0.9, lstm_units_1=150, lstm_units_2=50, score=0.277, total=  19.2s\n",
            "[CV] dropout_1=0.6, dropout_2=0.9, lstm_units_1=150, lstm_units_2=50 .\n",
            "Epoch 1/2\n",
            "Epoch 2/2\n",
            "[CV]  dropout_1=0.6, dropout_2=0.9, lstm_units_1=150, lstm_units_2=50, score=0.262, total=  20.1s\n",
            "[CV] dropout_1=0.6, dropout_2=0.9, lstm_units_1=150, lstm_units_2=50 .\n",
            "Epoch 1/2\n",
            "Epoch 2/2\n",
            "[CV]  dropout_1=0.6, dropout_2=0.9, lstm_units_1=150, lstm_units_2=50, score=0.496, total=  19.3s\n",
            "[CV] dropout_1=0.6, dropout_2=0.9, lstm_units_1=150, lstm_units_2=100 \n",
            "Epoch 1/2\n",
            "Epoch 2/2\n",
            "[CV]  dropout_1=0.6, dropout_2=0.9, lstm_units_1=150, lstm_units_2=100, score=0.237, total=  18.9s\n",
            "[CV] dropout_1=0.6, dropout_2=0.9, lstm_units_1=150, lstm_units_2=100 \n",
            "Epoch 1/2\n",
            "Epoch 2/2\n",
            "[CV]  dropout_1=0.6, dropout_2=0.9, lstm_units_1=150, lstm_units_2=100, score=0.325, total=  20.0s\n",
            "[CV] dropout_1=0.6, dropout_2=0.9, lstm_units_1=150, lstm_units_2=100 \n",
            "Epoch 1/2\n",
            "Epoch 2/2\n",
            "[CV]  dropout_1=0.6, dropout_2=0.9, lstm_units_1=150, lstm_units_2=100, score=0.356, total=  20.3s\n",
            "[CV] dropout_1=0.7, dropout_2=0.7, lstm_units_1=100, lstm_units_2=50 .\n",
            "Epoch 1/2\n",
            "Epoch 2/2\n",
            "[CV]  dropout_1=0.7, dropout_2=0.7, lstm_units_1=100, lstm_units_2=50, score=0.233, total=  19.7s\n",
            "[CV] dropout_1=0.7, dropout_2=0.7, lstm_units_1=100, lstm_units_2=50 .\n",
            "Epoch 1/2\n",
            "Epoch 2/2\n",
            "[CV]  dropout_1=0.7, dropout_2=0.7, lstm_units_1=100, lstm_units_2=50, score=0.310, total=  18.9s\n",
            "[CV] dropout_1=0.7, dropout_2=0.7, lstm_units_1=100, lstm_units_2=50 .\n",
            "Epoch 1/2\n",
            "Epoch 2/2\n",
            "[CV]  dropout_1=0.7, dropout_2=0.7, lstm_units_1=100, lstm_units_2=50, score=0.192, total=  19.8s\n",
            "[CV] dropout_1=0.7, dropout_2=0.7, lstm_units_1=100, lstm_units_2=100 \n",
            "Epoch 1/2\n",
            "Epoch 2/2\n",
            "[CV]  dropout_1=0.7, dropout_2=0.7, lstm_units_1=100, lstm_units_2=100, score=0.166, total=  20.0s\n",
            "[CV] dropout_1=0.7, dropout_2=0.7, lstm_units_1=100, lstm_units_2=100 \n",
            "Epoch 1/2\n",
            "Epoch 2/2\n",
            "[CV]  dropout_1=0.7, dropout_2=0.7, lstm_units_1=100, lstm_units_2=100, score=0.284, total=  20.1s\n",
            "[CV] dropout_1=0.7, dropout_2=0.7, lstm_units_1=100, lstm_units_2=100 \n",
            "Epoch 1/2\n",
            "Epoch 2/2\n",
            "[CV]  dropout_1=0.7, dropout_2=0.7, lstm_units_1=100, lstm_units_2=100, score=0.340, total=  19.9s\n",
            "[CV] dropout_1=0.7, dropout_2=0.7, lstm_units_1=150, lstm_units_2=50 .\n",
            "Epoch 1/2\n",
            "Epoch 2/2\n",
            "[CV]  dropout_1=0.7, dropout_2=0.7, lstm_units_1=150, lstm_units_2=50, score=0.297, total=  19.1s\n",
            "[CV] dropout_1=0.7, dropout_2=0.7, lstm_units_1=150, lstm_units_2=50 .\n",
            "Epoch 1/2\n",
            "Epoch 2/2\n",
            "[CV]  dropout_1=0.7, dropout_2=0.7, lstm_units_1=150, lstm_units_2=50, score=0.364, total=  20.0s\n",
            "[CV] dropout_1=0.7, dropout_2=0.7, lstm_units_1=150, lstm_units_2=50 .\n",
            "Epoch 1/2\n",
            "Epoch 2/2\n",
            "[CV]  dropout_1=0.7, dropout_2=0.7, lstm_units_1=150, lstm_units_2=50, score=0.356, total=  19.7s\n",
            "[CV] dropout_1=0.7, dropout_2=0.7, lstm_units_1=150, lstm_units_2=100 \n",
            "Epoch 1/2\n",
            "Epoch 2/2\n",
            "[CV]  dropout_1=0.7, dropout_2=0.7, lstm_units_1=150, lstm_units_2=100, score=0.271, total=  20.5s\n",
            "[CV] dropout_1=0.7, dropout_2=0.7, lstm_units_1=150, lstm_units_2=100 \n",
            "Epoch 1/2\n",
            "Epoch 2/2\n",
            "[CV]  dropout_1=0.7, dropout_2=0.7, lstm_units_1=150, lstm_units_2=100, score=0.348, total=  19.2s\n",
            "[CV] dropout_1=0.7, dropout_2=0.7, lstm_units_1=150, lstm_units_2=100 \n",
            "Epoch 1/2\n",
            "Epoch 2/2\n",
            "[CV]  dropout_1=0.7, dropout_2=0.7, lstm_units_1=150, lstm_units_2=100, score=0.359, total=  20.6s\n",
            "[CV] dropout_1=0.7, dropout_2=0.8, lstm_units_1=100, lstm_units_2=50 .\n",
            "Epoch 1/2\n",
            "Epoch 2/2\n",
            "[CV]  dropout_1=0.7, dropout_2=0.8, lstm_units_1=100, lstm_units_2=50, score=0.334, total=  19.5s\n",
            "[CV] dropout_1=0.7, dropout_2=0.8, lstm_units_1=100, lstm_units_2=50 .\n",
            "Epoch 1/2\n",
            "Epoch 2/2\n",
            "[CV]  dropout_1=0.7, dropout_2=0.8, lstm_units_1=100, lstm_units_2=50, score=0.316, total=  20.2s\n",
            "[CV] dropout_1=0.7, dropout_2=0.8, lstm_units_1=100, lstm_units_2=50 .\n",
            "Epoch 1/2\n",
            "Epoch 2/2\n",
            "[CV]  dropout_1=0.7, dropout_2=0.8, lstm_units_1=100, lstm_units_2=50, score=0.400, total=  19.8s\n",
            "[CV] dropout_1=0.7, dropout_2=0.8, lstm_units_1=100, lstm_units_2=100 \n",
            "Epoch 1/2\n",
            "Epoch 2/2\n",
            "[CV]  dropout_1=0.7, dropout_2=0.8, lstm_units_1=100, lstm_units_2=100, score=0.166, total=  19.0s\n",
            "[CV] dropout_1=0.7, dropout_2=0.8, lstm_units_1=100, lstm_units_2=100 \n",
            "Epoch 1/2\n",
            "Epoch 2/2\n",
            "[CV]  dropout_1=0.7, dropout_2=0.8, lstm_units_1=100, lstm_units_2=100, score=0.277, total=  21.6s\n",
            "[CV] dropout_1=0.7, dropout_2=0.8, lstm_units_1=100, lstm_units_2=100 \n",
            "Epoch 1/2\n",
            "Epoch 2/2\n",
            "[CV]  dropout_1=0.7, dropout_2=0.8, lstm_units_1=100, lstm_units_2=100, score=0.183, total=  19.5s\n",
            "[CV] dropout_1=0.7, dropout_2=0.8, lstm_units_1=150, lstm_units_2=50 .\n",
            "Epoch 1/2\n",
            "Epoch 2/2\n",
            "[CV]  dropout_1=0.7, dropout_2=0.8, lstm_units_1=150, lstm_units_2=50, score=0.175, total=  20.2s\n",
            "[CV] dropout_1=0.7, dropout_2=0.8, lstm_units_1=150, lstm_units_2=50 .\n",
            "Epoch 1/2\n",
            "Epoch 2/2\n",
            "[CV]  dropout_1=0.7, dropout_2=0.8, lstm_units_1=150, lstm_units_2=50, score=0.307, total=  19.6s\n",
            "[CV] dropout_1=0.7, dropout_2=0.8, lstm_units_1=150, lstm_units_2=50 .\n",
            "Epoch 1/2\n",
            "Epoch 2/2\n",
            "[CV]  dropout_1=0.7, dropout_2=0.8, lstm_units_1=150, lstm_units_2=50, score=0.349, total=  20.7s\n",
            "[CV] dropout_1=0.7, dropout_2=0.8, lstm_units_1=150, lstm_units_2=100 \n",
            "Epoch 1/2\n",
            "Epoch 2/2\n",
            "[CV]  dropout_1=0.7, dropout_2=0.8, lstm_units_1=150, lstm_units_2=100, score=0.271, total=  19.3s\n",
            "[CV] dropout_1=0.7, dropout_2=0.8, lstm_units_1=150, lstm_units_2=100 \n",
            "Epoch 1/2\n",
            "Epoch 2/2\n",
            "[CV]  dropout_1=0.7, dropout_2=0.8, lstm_units_1=150, lstm_units_2=100, score=0.348, total=  20.0s\n",
            "[CV] dropout_1=0.7, dropout_2=0.8, lstm_units_1=150, lstm_units_2=100 \n",
            "Epoch 1/2\n",
            "Epoch 2/2\n",
            "[CV]  dropout_1=0.7, dropout_2=0.8, lstm_units_1=150, lstm_units_2=100, score=0.252, total=  20.6s\n",
            "[CV] dropout_1=0.7, dropout_2=0.9, lstm_units_1=100, lstm_units_2=50 .\n",
            "Epoch 1/2\n",
            "Epoch 2/2\n",
            "[CV]  dropout_1=0.7, dropout_2=0.9, lstm_units_1=100, lstm_units_2=50, score=0.243, total=  19.1s\n",
            "[CV] dropout_1=0.7, dropout_2=0.9, lstm_units_1=100, lstm_units_2=50 .\n",
            "Epoch 1/2\n",
            "Epoch 2/2\n",
            "[CV]  dropout_1=0.7, dropout_2=0.9, lstm_units_1=100, lstm_units_2=50, score=0.335, total=  20.2s\n",
            "[CV] dropout_1=0.7, dropout_2=0.9, lstm_units_1=100, lstm_units_2=50 .\n",
            "Epoch 1/2\n",
            "Epoch 2/2\n",
            "[CV]  dropout_1=0.7, dropout_2=0.9, lstm_units_1=100, lstm_units_2=50, score=0.242, total=  19.7s\n",
            "[CV] dropout_1=0.7, dropout_2=0.9, lstm_units_1=100, lstm_units_2=100 \n",
            "Epoch 1/2\n",
            "Epoch 2/2\n",
            "[CV]  dropout_1=0.7, dropout_2=0.9, lstm_units_1=100, lstm_units_2=100, score=0.173, total=  21.1s\n",
            "[CV] dropout_1=0.7, dropout_2=0.9, lstm_units_1=100, lstm_units_2=100 \n",
            "Epoch 1/2\n",
            "Epoch 2/2\n",
            "[CV]  dropout_1=0.7, dropout_2=0.9, lstm_units_1=100, lstm_units_2=100, score=0.320, total=  20.2s\n",
            "[CV] dropout_1=0.7, dropout_2=0.9, lstm_units_1=100, lstm_units_2=100 \n",
            "Epoch 1/2\n",
            "Epoch 2/2\n",
            "[CV]  dropout_1=0.7, dropout_2=0.9, lstm_units_1=100, lstm_units_2=100, score=0.208, total=  19.3s\n",
            "[CV] dropout_1=0.7, dropout_2=0.9, lstm_units_1=150, lstm_units_2=50 .\n",
            "Epoch 1/2\n",
            "Epoch 2/2\n",
            "[CV]  dropout_1=0.7, dropout_2=0.9, lstm_units_1=150, lstm_units_2=50, score=0.241, total=  20.2s\n",
            "[CV] dropout_1=0.7, dropout_2=0.9, lstm_units_1=150, lstm_units_2=50 .\n",
            "Epoch 1/2\n",
            "Epoch 2/2\n",
            "[CV]  dropout_1=0.7, dropout_2=0.9, lstm_units_1=150, lstm_units_2=50, score=0.265, total=  21.7s\n",
            "[CV] dropout_1=0.7, dropout_2=0.9, lstm_units_1=150, lstm_units_2=50 .\n",
            "Epoch 1/2\n",
            "Epoch 2/2\n",
            "[CV]  dropout_1=0.7, dropout_2=0.9, lstm_units_1=150, lstm_units_2=50, score=0.372, total=  19.6s\n",
            "[CV] dropout_1=0.7, dropout_2=0.9, lstm_units_1=150, lstm_units_2=100 \n",
            "Epoch 1/2\n",
            "Epoch 2/2\n",
            "[CV]  dropout_1=0.7, dropout_2=0.9, lstm_units_1=150, lstm_units_2=100, score=0.184, total=  19.9s\n",
            "[CV] dropout_1=0.7, dropout_2=0.9, lstm_units_1=150, lstm_units_2=100 \n",
            "Epoch 1/2\n",
            "Epoch 2/2\n",
            "[CV]  dropout_1=0.7, dropout_2=0.9, lstm_units_1=150, lstm_units_2=100, score=0.320, total=  20.6s\n",
            "[CV] dropout_1=0.7, dropout_2=0.9, lstm_units_1=150, lstm_units_2=100 \n",
            "Epoch 1/2\n",
            "Epoch 2/2\n",
            "[CV]  dropout_1=0.7, dropout_2=0.9, lstm_units_1=150, lstm_units_2=100, score=0.238, total=  19.7s\n",
            "[CV] dropout_1=0.8, dropout_2=0.7, lstm_units_1=100, lstm_units_2=50 .\n",
            "Epoch 1/2\n",
            "Epoch 2/2\n",
            "[CV]  dropout_1=0.8, dropout_2=0.7, lstm_units_1=100, lstm_units_2=50, score=0.248, total=  19.6s\n",
            "[CV] dropout_1=0.8, dropout_2=0.7, lstm_units_1=100, lstm_units_2=50 .\n",
            "Epoch 1/2\n",
            "Epoch 2/2\n",
            "[CV]  dropout_1=0.8, dropout_2=0.7, lstm_units_1=100, lstm_units_2=50, score=0.320, total=  19.4s\n",
            "[CV] dropout_1=0.8, dropout_2=0.7, lstm_units_1=100, lstm_units_2=50 .\n",
            "Epoch 1/2\n",
            "Epoch 2/2\n",
            "[CV]  dropout_1=0.8, dropout_2=0.7, lstm_units_1=100, lstm_units_2=50, score=0.335, total=  21.5s\n",
            "[CV] dropout_1=0.8, dropout_2=0.7, lstm_units_1=100, lstm_units_2=100 \n",
            "Epoch 1/2\n",
            "Epoch 2/2\n",
            "[CV]  dropout_1=0.8, dropout_2=0.7, lstm_units_1=100, lstm_units_2=100, score=0.166, total=  20.1s\n",
            "[CV] dropout_1=0.8, dropout_2=0.7, lstm_units_1=100, lstm_units_2=100 \n",
            "Epoch 1/2\n",
            "Epoch 2/2\n",
            "[CV]  dropout_1=0.8, dropout_2=0.7, lstm_units_1=100, lstm_units_2=100, score=0.319, total=  21.0s\n",
            "[CV] dropout_1=0.8, dropout_2=0.7, lstm_units_1=100, lstm_units_2=100 \n",
            "Epoch 1/2\n",
            "Epoch 2/2\n",
            "[CV]  dropout_1=0.8, dropout_2=0.7, lstm_units_1=100, lstm_units_2=100, score=0.235, total=  20.3s\n",
            "[CV] dropout_1=0.8, dropout_2=0.7, lstm_units_1=150, lstm_units_2=50 .\n",
            "Epoch 1/2\n",
            "Epoch 2/2\n",
            "[CV]  dropout_1=0.8, dropout_2=0.7, lstm_units_1=150, lstm_units_2=50, score=0.276, total=  21.7s\n",
            "[CV] dropout_1=0.8, dropout_2=0.7, lstm_units_1=150, lstm_units_2=50 .\n",
            "Epoch 1/2\n",
            "Epoch 2/2\n",
            "[CV]  dropout_1=0.8, dropout_2=0.7, lstm_units_1=150, lstm_units_2=50, score=0.244, total=  20.5s\n",
            "[CV] dropout_1=0.8, dropout_2=0.7, lstm_units_1=150, lstm_units_2=50 .\n",
            "Epoch 1/2\n",
            "Epoch 2/2\n",
            "[CV]  dropout_1=0.8, dropout_2=0.7, lstm_units_1=150, lstm_units_2=50, score=0.256, total=  19.7s\n",
            "[CV] dropout_1=0.8, dropout_2=0.7, lstm_units_1=150, lstm_units_2=100 \n",
            "Epoch 1/2\n",
            "Epoch 2/2\n",
            "[CV]  dropout_1=0.8, dropout_2=0.7, lstm_units_1=150, lstm_units_2=100, score=0.238, total=  20.8s\n",
            "[CV] dropout_1=0.8, dropout_2=0.7, lstm_units_1=150, lstm_units_2=100 \n",
            "Epoch 1/2\n",
            "Epoch 2/2\n",
            "[CV]  dropout_1=0.8, dropout_2=0.7, lstm_units_1=150, lstm_units_2=100, score=0.359, total=  21.6s\n",
            "[CV] dropout_1=0.8, dropout_2=0.7, lstm_units_1=150, lstm_units_2=100 \n",
            "Epoch 1/2\n",
            "Epoch 2/2\n",
            "[CV]  dropout_1=0.8, dropout_2=0.7, lstm_units_1=150, lstm_units_2=100, score=0.213, total=  20.4s\n",
            "[CV] dropout_1=0.8, dropout_2=0.8, lstm_units_1=100, lstm_units_2=50 .\n",
            "Epoch 1/2\n",
            "Epoch 2/2\n",
            "[CV]  dropout_1=0.8, dropout_2=0.8, lstm_units_1=100, lstm_units_2=50, score=0.186, total=  19.9s\n",
            "[CV] dropout_1=0.8, dropout_2=0.8, lstm_units_1=100, lstm_units_2=50 .\n",
            "Epoch 1/2\n",
            "Epoch 2/2\n",
            "[CV]  dropout_1=0.8, dropout_2=0.8, lstm_units_1=100, lstm_units_2=50, score=0.285, total=  21.7s\n",
            "[CV] dropout_1=0.8, dropout_2=0.8, lstm_units_1=100, lstm_units_2=50 .\n",
            "Epoch 1/2\n",
            "Epoch 2/2\n",
            "[CV]  dropout_1=0.8, dropout_2=0.8, lstm_units_1=100, lstm_units_2=50, score=0.198, total=  20.3s\n",
            "[CV] dropout_1=0.8, dropout_2=0.8, lstm_units_1=100, lstm_units_2=100 \n",
            "Epoch 1/2\n",
            "Epoch 2/2\n",
            "[CV]  dropout_1=0.8, dropout_2=0.8, lstm_units_1=100, lstm_units_2=100, score=0.167, total=  19.8s\n",
            "[CV] dropout_1=0.8, dropout_2=0.8, lstm_units_1=100, lstm_units_2=100 \n",
            "Epoch 1/2\n",
            "Epoch 2/2\n",
            "[CV]  dropout_1=0.8, dropout_2=0.8, lstm_units_1=100, lstm_units_2=100, score=0.279, total=  20.8s\n",
            "[CV] dropout_1=0.8, dropout_2=0.8, lstm_units_1=100, lstm_units_2=100 \n",
            "Epoch 1/2\n",
            "Epoch 2/2\n",
            "[CV]  dropout_1=0.8, dropout_2=0.8, lstm_units_1=100, lstm_units_2=100, score=0.185, total=  21.8s\n",
            "[CV] dropout_1=0.8, dropout_2=0.8, lstm_units_1=150, lstm_units_2=50 .\n",
            "Epoch 1/2\n",
            "Epoch 2/2\n",
            "[CV]  dropout_1=0.8, dropout_2=0.8, lstm_units_1=150, lstm_units_2=50, score=0.257, total=  21.4s\n",
            "[CV] dropout_1=0.8, dropout_2=0.8, lstm_units_1=150, lstm_units_2=50 .\n",
            "Epoch 1/2\n",
            "Epoch 2/2\n",
            "[CV]  dropout_1=0.8, dropout_2=0.8, lstm_units_1=150, lstm_units_2=50, score=0.231, total=  20.0s\n",
            "[CV] dropout_1=0.8, dropout_2=0.8, lstm_units_1=150, lstm_units_2=50 .\n",
            "Epoch 1/2\n",
            "Epoch 2/2\n",
            "[CV]  dropout_1=0.8, dropout_2=0.8, lstm_units_1=150, lstm_units_2=50, score=0.180, total=  20.8s\n",
            "[CV] dropout_1=0.8, dropout_2=0.8, lstm_units_1=150, lstm_units_2=100 \n",
            "Epoch 1/2\n",
            "Epoch 2/2\n",
            "[CV]  dropout_1=0.8, dropout_2=0.8, lstm_units_1=150, lstm_units_2=100, score=0.299, total=  20.9s\n",
            "[CV] dropout_1=0.8, dropout_2=0.8, lstm_units_1=150, lstm_units_2=100 \n",
            "Epoch 1/2\n",
            "Epoch 2/2\n",
            "[CV]  dropout_1=0.8, dropout_2=0.8, lstm_units_1=150, lstm_units_2=100, score=0.209, total=  20.1s\n",
            "[CV] dropout_1=0.8, dropout_2=0.8, lstm_units_1=150, lstm_units_2=100 \n",
            "Epoch 1/2\n",
            "Epoch 2/2\n",
            "[CV]  dropout_1=0.8, dropout_2=0.8, lstm_units_1=150, lstm_units_2=100, score=0.314, total=  20.6s\n",
            "[CV] dropout_1=0.8, dropout_2=0.9, lstm_units_1=100, lstm_units_2=50 .\n",
            "Epoch 1/2\n",
            "Epoch 2/2\n",
            "[CV]  dropout_1=0.8, dropout_2=0.9, lstm_units_1=100, lstm_units_2=50, score=0.376, total=  21.8s\n",
            "[CV] dropout_1=0.8, dropout_2=0.9, lstm_units_1=100, lstm_units_2=50 .\n",
            "Epoch 1/2\n",
            "Epoch 2/2\n",
            "[CV]  dropout_1=0.8, dropout_2=0.9, lstm_units_1=100, lstm_units_2=50, score=0.395, total=  20.5s\n",
            "[CV] dropout_1=0.8, dropout_2=0.9, lstm_units_1=100, lstm_units_2=50 .\n",
            "Epoch 1/2\n",
            "Epoch 2/2\n",
            "[CV]  dropout_1=0.8, dropout_2=0.9, lstm_units_1=100, lstm_units_2=50, score=0.396, total=  20.8s\n",
            "[CV] dropout_1=0.8, dropout_2=0.9, lstm_units_1=100, lstm_units_2=100 \n",
            "Epoch 1/2\n",
            "Epoch 2/2\n",
            "[CV]  dropout_1=0.8, dropout_2=0.9, lstm_units_1=100, lstm_units_2=100, score=0.166, total=  20.9s\n",
            "[CV] dropout_1=0.8, dropout_2=0.9, lstm_units_1=100, lstm_units_2=100 \n",
            "Epoch 1/2\n",
            "Epoch 2/2\n",
            "[CV]  dropout_1=0.8, dropout_2=0.9, lstm_units_1=100, lstm_units_2=100, score=0.277, total=  22.4s\n",
            "[CV] dropout_1=0.8, dropout_2=0.9, lstm_units_1=100, lstm_units_2=100 \n",
            "Epoch 1/2\n",
            "Epoch 2/2\n",
            "[CV]  dropout_1=0.8, dropout_2=0.9, lstm_units_1=100, lstm_units_2=100, score=0.324, total=  20.0s\n",
            "[CV] dropout_1=0.8, dropout_2=0.9, lstm_units_1=150, lstm_units_2=50 .\n",
            "Epoch 1/2\n",
            "Epoch 2/2\n",
            "[CV]  dropout_1=0.8, dropout_2=0.9, lstm_units_1=150, lstm_units_2=50, score=0.284, total=  20.9s\n",
            "[CV] dropout_1=0.8, dropout_2=0.9, lstm_units_1=150, lstm_units_2=50 .\n",
            "Epoch 1/2\n",
            "Epoch 2/2\n",
            "[CV]  dropout_1=0.8, dropout_2=0.9, lstm_units_1=150, lstm_units_2=50, score=0.253, total=  20.7s\n",
            "[CV] dropout_1=0.8, dropout_2=0.9, lstm_units_1=150, lstm_units_2=50 .\n",
            "Epoch 1/2\n",
            "Epoch 2/2\n",
            "[CV]  dropout_1=0.8, dropout_2=0.9, lstm_units_1=150, lstm_units_2=50, score=0.279, total=  22.2s\n",
            "[CV] dropout_1=0.8, dropout_2=0.9, lstm_units_1=150, lstm_units_2=100 \n",
            "Epoch 1/2\n",
            "Epoch 2/2\n",
            "[CV]  dropout_1=0.8, dropout_2=0.9, lstm_units_1=150, lstm_units_2=100, score=0.208, total=  21.0s\n",
            "[CV] dropout_1=0.8, dropout_2=0.9, lstm_units_1=150, lstm_units_2=100 \n",
            "Epoch 1/2\n",
            "Epoch 2/2\n",
            "[CV]  dropout_1=0.8, dropout_2=0.9, lstm_units_1=150, lstm_units_2=100, score=0.335, total=  20.9s\n",
            "[CV] dropout_1=0.8, dropout_2=0.9, lstm_units_1=150, lstm_units_2=100 \n",
            "Epoch 1/2\n",
            "Epoch 2/2\n",
            "[CV]  dropout_1=0.8, dropout_2=0.9, lstm_units_1=150, lstm_units_2=100, score=0.307, total=  21.5s\n"
          ],
          "name": "stdout"
        },
        {
          "output_type": "stream",
          "text": [
            "[Parallel(n_jobs=1)]: Done 108 out of 108 | elapsed: 35.9min finished\n"
          ],
          "name": "stderr"
        },
        {
          "output_type": "stream",
          "text": [
            "Epoch 1/2\n",
            "Epoch 2/2\n",
            "Best: 0.389147 using {'dropout_1': 0.8, 'dropout_2': 0.9, 'lstm_units_1': 100, 'lstm_units_2': 50}\n",
            "0.269457 (0.058771) with: {'dropout_1': 0.6, 'dropout_2': 0.7, 'lstm_units_1': 100, 'lstm_units_2': 50}\n",
            "0.290260 (0.048187) with: {'dropout_1': 0.6, 'dropout_2': 0.7, 'lstm_units_1': 100, 'lstm_units_2': 100}\n",
            "0.266595 (0.038364) with: {'dropout_1': 0.6, 'dropout_2': 0.7, 'lstm_units_1': 150, 'lstm_units_2': 50}\n",
            "0.287139 (0.036463) with: {'dropout_1': 0.6, 'dropout_2': 0.7, 'lstm_units_1': 150, 'lstm_units_2': 100}\n",
            "0.240339 (0.021995) with: {'dropout_1': 0.6, 'dropout_2': 0.8, 'lstm_units_1': 100, 'lstm_units_2': 50}\n",
            "0.331482 (0.038697) with: {'dropout_1': 0.6, 'dropout_2': 0.8, 'lstm_units_1': 100, 'lstm_units_2': 100}\n",
            "0.269036 (0.060769) with: {'dropout_1': 0.6, 'dropout_2': 0.8, 'lstm_units_1': 150, 'lstm_units_2': 50}\n",
            "0.290548 (0.084069) with: {'dropout_1': 0.6, 'dropout_2': 0.8, 'lstm_units_1': 150, 'lstm_units_2': 100}\n",
            "0.276113 (0.053793) with: {'dropout_1': 0.6, 'dropout_2': 0.9, 'lstm_units_1': 100, 'lstm_units_2': 50}\n",
            "0.322640 (0.062338) with: {'dropout_1': 0.6, 'dropout_2': 0.9, 'lstm_units_1': 100, 'lstm_units_2': 100}\n",
            "0.344553 (0.106921) with: {'dropout_1': 0.6, 'dropout_2': 0.9, 'lstm_units_1': 150, 'lstm_units_2': 50}\n",
            "0.306182 (0.050277) with: {'dropout_1': 0.6, 'dropout_2': 0.9, 'lstm_units_1': 150, 'lstm_units_2': 100}\n",
            "0.245232 (0.049045) with: {'dropout_1': 0.7, 'dropout_2': 0.7, 'lstm_units_1': 100, 'lstm_units_2': 50}\n",
            "0.263204 (0.072573) with: {'dropout_1': 0.7, 'dropout_2': 0.7, 'lstm_units_1': 100, 'lstm_units_2': 100}\n",
            "0.339094 (0.029948) with: {'dropout_1': 0.7, 'dropout_2': 0.7, 'lstm_units_1': 150, 'lstm_units_2': 50}\n",
            "0.326174 (0.039056) with: {'dropout_1': 0.7, 'dropout_2': 0.7, 'lstm_units_1': 150, 'lstm_units_2': 100}\n",
            "0.349708 (0.036027) with: {'dropout_1': 0.7, 'dropout_2': 0.8, 'lstm_units_1': 100, 'lstm_units_2': 50}\n",
            "0.208647 (0.048838) with: {'dropout_1': 0.7, 'dropout_2': 0.8, 'lstm_units_1': 100, 'lstm_units_2': 100}\n",
            "0.277077 (0.073825) with: {'dropout_1': 0.7, 'dropout_2': 0.8, 'lstm_units_1': 150, 'lstm_units_2': 50}\n",
            "0.290392 (0.041456) with: {'dropout_1': 0.7, 'dropout_2': 0.8, 'lstm_units_1': 150, 'lstm_units_2': 100}\n",
            "0.273527 (0.043445) with: {'dropout_1': 0.7, 'dropout_2': 0.9, 'lstm_units_1': 100, 'lstm_units_2': 50}\n",
            "0.233810 (0.062486) with: {'dropout_1': 0.7, 'dropout_2': 0.9, 'lstm_units_1': 100, 'lstm_units_2': 100}\n",
            "0.292584 (0.057179) with: {'dropout_1': 0.7, 'dropout_2': 0.9, 'lstm_units_1': 150, 'lstm_units_2': 50}\n",
            "0.247006 (0.056033) with: {'dropout_1': 0.7, 'dropout_2': 0.9, 'lstm_units_1': 150, 'lstm_units_2': 100}\n",
            "0.300875 (0.038143) with: {'dropout_1': 0.8, 'dropout_2': 0.7, 'lstm_units_1': 100, 'lstm_units_2': 50}\n",
            "0.240206 (0.062732) with: {'dropout_1': 0.8, 'dropout_2': 0.7, 'lstm_units_1': 100, 'lstm_units_2': 100}\n",
            "0.258705 (0.013187) with: {'dropout_1': 0.8, 'dropout_2': 0.7, 'lstm_units_1': 150, 'lstm_units_2': 50}\n",
            "0.269851 (0.063641) with: {'dropout_1': 0.8, 'dropout_2': 0.7, 'lstm_units_1': 150, 'lstm_units_2': 100}\n",
            "0.222793 (0.044388) with: {'dropout_1': 0.8, 'dropout_2': 0.8, 'lstm_units_1': 100, 'lstm_units_2': 50}\n",
            "0.210551 (0.049266) with: {'dropout_1': 0.8, 'dropout_2': 0.8, 'lstm_units_1': 100, 'lstm_units_2': 100}\n",
            "0.222791 (0.032353) with: {'dropout_1': 0.8, 'dropout_2': 0.8, 'lstm_units_1': 150, 'lstm_units_2': 50}\n",
            "0.274081 (0.046511) with: {'dropout_1': 0.8, 'dropout_2': 0.8, 'lstm_units_1': 150, 'lstm_units_2': 100}\n",
            "0.389147 (0.009177) with: {'dropout_1': 0.8, 'dropout_2': 0.9, 'lstm_units_1': 100, 'lstm_units_2': 50}\n",
            "0.255314 (0.066250) with: {'dropout_1': 0.8, 'dropout_2': 0.9, 'lstm_units_1': 100, 'lstm_units_2': 100}\n",
            "0.272036 (0.013941) with: {'dropout_1': 0.8, 'dropout_2': 0.9, 'lstm_units_1': 150, 'lstm_units_2': 50}\n",
            "0.283191 (0.054684) with: {'dropout_1': 0.8, 'dropout_2': 0.9, 'lstm_units_1': 150, 'lstm_units_2': 100}\n"
          ],
          "name": "stdout"
        }
      ]
    },
    {
      "cell_type": "markdown",
      "metadata": {
        "id": "uayWH2beN8UB",
        "colab_type": "text"
      },
      "source": [
        "### 3.4 Best Hyperparameter for 2 Layered LSTM"
      ]
    },
    {
      "cell_type": "code",
      "metadata": {
        "id": "bOiF5c_Dsrcz",
        "colab_type": "code",
        "colab": {
          "base_uri": "https://localhost:8080/",
          "height": 101
        },
        "outputId": "924cf6c0-73e6-4695-91bd-1246f66c5f47"
      },
      "source": [
        "print(\"=\"*80)\n",
        "print(\"Best_Hyperparamaeter_LSTM::\")\n",
        "print(\"-\"*80)\n",
        "print(grid_result.best_params_)\n",
        "print(\"=\"*80)"
      ],
      "execution_count": 37,
      "outputs": [
        {
          "output_type": "stream",
          "text": [
            "================================================================================\n",
            "Best_Hyperparamaeter_LSTM::\n",
            "--------------------------------------------------------------------------------\n",
            "{'dropout_1': 0.8, 'dropout_2': 0.9, 'lstm_units_1': 100, 'lstm_units_2': 50}\n",
            "================================================================================\n"
          ],
          "name": "stdout"
        }
      ]
    },
    {
      "cell_type": "markdown",
      "metadata": {
        "id": "VaqepkB6NPwa",
        "colab_type": "text"
      },
      "source": [
        "## 3.5 Best LSTM model with Best Hyperparameter "
      ]
    },
    {
      "cell_type": "code",
      "metadata": {
        "id": "badMRzaRsrOR",
        "colab_type": "code",
        "colab": {}
      },
      "source": [
        "tf.keras.backend.clear_session()"
      ],
      "execution_count": 0,
      "outputs": []
    },
    {
      "cell_type": "code",
      "metadata": {
        "id": "5wKN1H4Zsi86",
        "colab_type": "code",
        "colab": {
          "base_uri": "https://localhost:8080/",
          "height": 353
        },
        "outputId": "f0a14bab-869f-46e1-e881-78cce768a741"
      },
      "source": [
        "# Importing libraries\n",
        "#https://machinelearningmastery.com/how-to-reduce-overfitting-in-deep-learning-with-weight-regularization/\n",
        "from keras.models import Sequential\n",
        "from keras.layers import LSTM\n",
        "from keras.layers.core import Dense, Dropout\n",
        "from keras.regularizers import L1L2\n",
        "from keras.layers import BatchNormalization\n",
        "\n",
        "\n",
        "model_best = Sequential()\n",
        "reg = L1L2(0.01, 0.01)    \n",
        "\n",
        "model_best.add(LSTM(100,return_sequences=True,\n",
        "                    kernel_initializer='glorot_normal',\n",
        "                    input_shape=(timesteps, input_dim),\n",
        "                    bias_regularizer=reg))\n",
        "\n",
        "model_best.add(BatchNormalization())\n",
        "model_best.add(Dropout(0.8))\n",
        "    \n",
        "model_best.add(LSTM(50))\n",
        "model_best.add(Dropout(0.9))\n",
        "    \n",
        "model_best.add(Dense(n_classes,  activation='sigmoid'))\n",
        "    \n",
        "model_best.summary()"
      ],
      "execution_count": 19,
      "outputs": [
        {
          "output_type": "stream",
          "text": [
            "Model: \"sequential_2\"\n",
            "_________________________________________________________________\n",
            "Layer (type)                 Output Shape              Param #   \n",
            "=================================================================\n",
            "lstm_3 (LSTM)                (None, 128, 100)          44000     \n",
            "_________________________________________________________________\n",
            "batch_normalization_2 (Batch (None, 128, 100)          400       \n",
            "_________________________________________________________________\n",
            "dropout_3 (Dropout)          (None, 128, 100)          0         \n",
            "_________________________________________________________________\n",
            "lstm_4 (LSTM)                (None, 50)                30200     \n",
            "_________________________________________________________________\n",
            "dropout_4 (Dropout)          (None, 50)                0         \n",
            "_________________________________________________________________\n",
            "dense_2 (Dense)              (None, 6)                 306       \n",
            "=================================================================\n",
            "Total params: 74,906\n",
            "Trainable params: 74,706\n",
            "Non-trainable params: 200\n",
            "_________________________________________________________________\n"
          ],
          "name": "stdout"
        }
      ]
    },
    {
      "cell_type": "markdown",
      "metadata": {
        "id": "SrqwDcrtNIFu",
        "colab_type": "text"
      },
      "source": [
        "### 3.6 Compilation & Model_best Evaluation On Test Data"
      ]
    },
    {
      "cell_type": "code",
      "metadata": {
        "id": "96JZuq55sh9x",
        "colab_type": "code",
        "colab": {}
      },
      "source": [
        "# Compiling the model\n",
        "from keras.callbacks import ModelCheckpoint\n",
        "model_best.compile(loss='binary_crossentropy',\n",
        "              optimizer='rmsprop',\n",
        "              metrics=['accuracy'])\n",
        "checkpoint_3 = ModelCheckpoint(\"model_best.h5\",monitor=\"val_acc\",mode=\"max\",save_best_only = True,verbose=1)"
      ],
      "execution_count": 0,
      "outputs": []
    },
    {
      "cell_type": "code",
      "metadata": {
        "id": "2vzLxMXtsXst",
        "colab_type": "code",
        "colab": {
          "base_uri": "https://localhost:8080/",
          "height": 2288
        },
        "outputId": "94ac845e-8676-4ecd-ad9c-b0540b106d24"
      },
      "source": [
        "\n",
        "##https://machinelearningmastery.com/how-to-stop-training-deep-neural-networks-at-the-right-time-using-early-stopping/\n",
        "from keras.callbacks import EarlyStopping\n",
        "es = EarlyStopping(monitor='val_loss', mode='min', verbose=1)\n",
        "\n",
        "\n",
        "# Training the model\n",
        "model_best.fit(X_train,\n",
        "          Y_train,\n",
        "          batch_size=batch_size,\n",
        "          validation_data=(X_test, Y_test),\n",
        "          epochs=65,\n",
        "          callbacks=[checkpoint_3]\n",
        "          )"
      ],
      "execution_count": 21,
      "outputs": [
        {
          "output_type": "stream",
          "text": [
            "Train on 7352 samples, validate on 2947 samples\n",
            "Epoch 1/65\n",
            "7352/7352 [==============================] - 103s 14ms/step - loss: 2.1565 - accuracy: 0.7202 - val_loss: 1.6109 - val_accuracy: 0.8636\n",
            "Epoch 2/65\n"
          ],
          "name": "stdout"
        },
        {
          "output_type": "stream",
          "text": [
            "/usr/local/lib/python3.6/dist-packages/keras/callbacks/callbacks.py:707: RuntimeWarning: Can save best model only with val_acc available, skipping.\n",
            "  'skipping.' % (self.monitor), RuntimeWarning)\n"
          ],
          "name": "stderr"
        },
        {
          "output_type": "stream",
          "text": [
            "7352/7352 [==============================] - 102s 14ms/step - loss: 1.3361 - accuracy: 0.8350 - val_loss: 0.9806 - val_accuracy: 0.8641\n",
            "Epoch 3/65\n",
            "7352/7352 [==============================] - 102s 14ms/step - loss: 0.7641 - accuracy: 0.8574 - val_loss: 0.4662 - val_accuracy: 0.8888\n",
            "Epoch 4/65\n",
            "7352/7352 [==============================] - 102s 14ms/step - loss: 0.3815 - accuracy: 0.8690 - val_loss: 0.2816 - val_accuracy: 0.8687\n",
            "Epoch 5/65\n",
            "7352/7352 [==============================] - 103s 14ms/step - loss: 0.2971 - accuracy: 0.8756 - val_loss: 0.2533 - val_accuracy: 0.8869\n",
            "Epoch 6/65\n",
            "7352/7352 [==============================] - 102s 14ms/step - loss: 0.2781 - accuracy: 0.8812 - val_loss: 0.2047 - val_accuracy: 0.8984\n",
            "Epoch 7/65\n",
            "7352/7352 [==============================] - 102s 14ms/step - loss: 0.2698 - accuracy: 0.8829 - val_loss: 0.2230 - val_accuracy: 0.8953\n",
            "Epoch 8/65\n",
            "7352/7352 [==============================] - 103s 14ms/step - loss: 0.2637 - accuracy: 0.8846 - val_loss: 0.2319 - val_accuracy: 0.8921\n",
            "Epoch 9/65\n",
            "7352/7352 [==============================] - 103s 14ms/step - loss: 0.2576 - accuracy: 0.8859 - val_loss: 0.1922 - val_accuracy: 0.8997\n",
            "Epoch 10/65\n",
            "7352/7352 [==============================] - 103s 14ms/step - loss: 0.2553 - accuracy: 0.8876 - val_loss: 0.2154 - val_accuracy: 0.9010\n",
            "Epoch 11/65\n",
            "7352/7352 [==============================] - 103s 14ms/step - loss: 0.2486 - accuracy: 0.8892 - val_loss: 0.2194 - val_accuracy: 0.9045\n",
            "Epoch 12/65\n",
            "7352/7352 [==============================] - 103s 14ms/step - loss: 0.2379 - accuracy: 0.8924 - val_loss: 0.1661 - val_accuracy: 0.9277\n",
            "Epoch 13/65\n",
            "7352/7352 [==============================] - 103s 14ms/step - loss: 0.2339 - accuracy: 0.8949 - val_loss: 0.1540 - val_accuracy: 0.9304\n",
            "Epoch 14/65\n",
            "7352/7352 [==============================] - 105s 14ms/step - loss: 0.2229 - accuracy: 0.9023 - val_loss: 0.1468 - val_accuracy: 0.9332\n",
            "Epoch 15/65\n",
            "7352/7352 [==============================] - 104s 14ms/step - loss: 0.2208 - accuracy: 0.9016 - val_loss: 0.1506 - val_accuracy: 0.9238\n",
            "Epoch 16/65\n",
            "7352/7352 [==============================] - 104s 14ms/step - loss: 0.2154 - accuracy: 0.9063 - val_loss: 0.1480 - val_accuracy: 0.9416\n",
            "Epoch 17/65\n",
            "7352/7352 [==============================] - 104s 14ms/step - loss: 0.2137 - accuracy: 0.9076 - val_loss: 0.1329 - val_accuracy: 0.9576\n",
            "Epoch 18/65\n",
            "7352/7352 [==============================] - 105s 14ms/step - loss: 0.2073 - accuracy: 0.9106 - val_loss: 0.1299 - val_accuracy: 0.9618\n",
            "Epoch 19/65\n",
            "7352/7352 [==============================] - 104s 14ms/step - loss: 0.2045 - accuracy: 0.9125 - val_loss: 0.1449 - val_accuracy: 0.9587\n",
            "Epoch 20/65\n",
            "7352/7352 [==============================] - 105s 14ms/step - loss: 0.1988 - accuracy: 0.9158 - val_loss: 0.1003 - val_accuracy: 0.9693\n",
            "Epoch 21/65\n",
            "7352/7352 [==============================] - 103s 14ms/step - loss: 0.1960 - accuracy: 0.9184 - val_loss: 0.1070 - val_accuracy: 0.9648\n",
            "Epoch 22/65\n",
            "7352/7352 [==============================] - 105s 14ms/step - loss: 0.1925 - accuracy: 0.9206 - val_loss: 0.1062 - val_accuracy: 0.9670\n",
            "Epoch 23/65\n",
            "7352/7352 [==============================] - 107s 15ms/step - loss: 0.1900 - accuracy: 0.9221 - val_loss: 0.1814 - val_accuracy: 0.9506\n",
            "Epoch 24/65\n",
            "7352/7352 [==============================] - 105s 14ms/step - loss: 0.1920 - accuracy: 0.9206 - val_loss: 0.1313 - val_accuracy: 0.9552\n",
            "Epoch 25/65\n",
            "7352/7352 [==============================] - 104s 14ms/step - loss: 0.1877 - accuracy: 0.9242 - val_loss: 0.1134 - val_accuracy: 0.9567\n",
            "Epoch 26/65\n",
            "7352/7352 [==============================] - 105s 14ms/step - loss: 0.1953 - accuracy: 0.9244 - val_loss: 0.1096 - val_accuracy: 0.9630\n",
            "Epoch 27/65\n",
            "7352/7352 [==============================] - 104s 14ms/step - loss: 0.1820 - accuracy: 0.9260 - val_loss: 0.0983 - val_accuracy: 0.9692\n",
            "Epoch 28/65\n",
            "7352/7352 [==============================] - 102s 14ms/step - loss: 0.1815 - accuracy: 0.9264 - val_loss: 0.0888 - val_accuracy: 0.9700\n",
            "Epoch 29/65\n",
            "7352/7352 [==============================] - 102s 14ms/step - loss: 0.1819 - accuracy: 0.9277 - val_loss: 0.0946 - val_accuracy: 0.9687\n",
            "Epoch 30/65\n",
            "7352/7352 [==============================] - 101s 14ms/step - loss: 0.1790 - accuracy: 0.9265 - val_loss: 0.1272 - val_accuracy: 0.9621\n",
            "Epoch 31/65\n",
            "7352/7352 [==============================] - 101s 14ms/step - loss: 0.1773 - accuracy: 0.9272 - val_loss: 0.0851 - val_accuracy: 0.9728\n",
            "Epoch 32/65\n",
            "7352/7352 [==============================] - 102s 14ms/step - loss: 0.1782 - accuracy: 0.9279 - val_loss: 0.1139 - val_accuracy: 0.9523\n",
            "Epoch 33/65\n",
            "7352/7352 [==============================] - 101s 14ms/step - loss: 0.1780 - accuracy: 0.9291 - val_loss: 0.0892 - val_accuracy: 0.9722\n",
            "Epoch 34/65\n",
            "7352/7352 [==============================] - 100s 14ms/step - loss: 0.1721 - accuracy: 0.9304 - val_loss: 0.1136 - val_accuracy: 0.9638\n",
            "Epoch 35/65\n",
            "7352/7352 [==============================] - 100s 14ms/step - loss: 0.1792 - accuracy: 0.9303 - val_loss: 0.1339 - val_accuracy: 0.9623\n",
            "Epoch 36/65\n",
            "7352/7352 [==============================] - 102s 14ms/step - loss: 0.1762 - accuracy: 0.9323 - val_loss: 0.1605 - val_accuracy: 0.9629\n",
            "Epoch 37/65\n",
            "7352/7352 [==============================] - 100s 14ms/step - loss: 0.1735 - accuracy: 0.9303 - val_loss: 0.1121 - val_accuracy: 0.9632\n",
            "Epoch 38/65\n",
            "7352/7352 [==============================] - 101s 14ms/step - loss: 0.1826 - accuracy: 0.9295 - val_loss: 0.1563 - val_accuracy: 0.9545\n",
            "Epoch 39/65\n",
            "7352/7352 [==============================] - 101s 14ms/step - loss: 0.1716 - accuracy: 0.9320 - val_loss: 0.1111 - val_accuracy: 0.9674\n",
            "Epoch 40/65\n",
            "7352/7352 [==============================] - 100s 14ms/step - loss: 0.1716 - accuracy: 0.9312 - val_loss: 0.1062 - val_accuracy: 0.9700\n",
            "Epoch 41/65\n",
            "7352/7352 [==============================] - 101s 14ms/step - loss: 0.1688 - accuracy: 0.9325 - val_loss: 0.1015 - val_accuracy: 0.9715\n",
            "Epoch 42/65\n",
            "7352/7352 [==============================] - 101s 14ms/step - loss: 0.1736 - accuracy: 0.9310 - val_loss: 0.0773 - val_accuracy: 0.9733\n",
            "Epoch 43/65\n",
            "7352/7352 [==============================] - 101s 14ms/step - loss: 0.1696 - accuracy: 0.9307 - val_loss: 0.0879 - val_accuracy: 0.9742\n",
            "Epoch 44/65\n",
            "7352/7352 [==============================] - 101s 14ms/step - loss: 0.1736 - accuracy: 0.9302 - val_loss: 0.0965 - val_accuracy: 0.9682\n",
            "Epoch 45/65\n",
            "7352/7352 [==============================] - 100s 14ms/step - loss: 0.1663 - accuracy: 0.9334 - val_loss: 0.0878 - val_accuracy: 0.9722\n",
            "Epoch 46/65\n",
            "7352/7352 [==============================] - 101s 14ms/step - loss: 0.1682 - accuracy: 0.9332 - val_loss: 0.0961 - val_accuracy: 0.9691\n",
            "Epoch 47/65\n",
            "7352/7352 [==============================] - 101s 14ms/step - loss: 0.1660 - accuracy: 0.9328 - val_loss: 0.1141 - val_accuracy: 0.9664\n",
            "Epoch 48/65\n",
            "7352/7352 [==============================] - 102s 14ms/step - loss: 0.1710 - accuracy: 0.9328 - val_loss: 0.1130 - val_accuracy: 0.9678\n",
            "Epoch 49/65\n",
            "7352/7352 [==============================] - 101s 14ms/step - loss: 0.1671 - accuracy: 0.9332 - val_loss: 0.0850 - val_accuracy: 0.9708\n",
            "Epoch 50/65\n",
            "7352/7352 [==============================] - 101s 14ms/step - loss: 0.1696 - accuracy: 0.9339 - val_loss: 0.0947 - val_accuracy: 0.9710\n",
            "Epoch 51/65\n",
            "7352/7352 [==============================] - 101s 14ms/step - loss: 0.1663 - accuracy: 0.9339 - val_loss: 0.1561 - val_accuracy: 0.9622\n",
            "Epoch 52/65\n",
            "7352/7352 [==============================] - 102s 14ms/step - loss: 0.1639 - accuracy: 0.9345 - val_loss: 0.1115 - val_accuracy: 0.9686\n",
            "Epoch 53/65\n",
            "7352/7352 [==============================] - 101s 14ms/step - loss: 0.1632 - accuracy: 0.9337 - val_loss: 0.0980 - val_accuracy: 0.9714\n",
            "Epoch 54/65\n",
            "7352/7352 [==============================] - 100s 14ms/step - loss: 0.1611 - accuracy: 0.9343 - val_loss: 0.1082 - val_accuracy: 0.9669\n",
            "Epoch 55/65\n",
            "7352/7352 [==============================] - 103s 14ms/step - loss: 0.1657 - accuracy: 0.9331 - val_loss: 0.1031 - val_accuracy: 0.9688\n",
            "Epoch 56/65\n",
            "7352/7352 [==============================] - 102s 14ms/step - loss: 0.1657 - accuracy: 0.9337 - val_loss: 0.1011 - val_accuracy: 0.9716\n",
            "Epoch 57/65\n",
            "7352/7352 [==============================] - 102s 14ms/step - loss: 0.1578 - accuracy: 0.9366 - val_loss: 0.1001 - val_accuracy: 0.9724\n",
            "Epoch 58/65\n",
            "7352/7352 [==============================] - 103s 14ms/step - loss: 0.1657 - accuracy: 0.9338 - val_loss: 0.1022 - val_accuracy: 0.9699\n",
            "Epoch 59/65\n",
            "7352/7352 [==============================] - 103s 14ms/step - loss: 0.1618 - accuracy: 0.9355 - val_loss: 0.1144 - val_accuracy: 0.9680\n",
            "Epoch 60/65\n",
            "7352/7352 [==============================] - 102s 14ms/step - loss: 0.1602 - accuracy: 0.9351 - val_loss: 0.0941 - val_accuracy: 0.9706\n",
            "Epoch 61/65\n",
            "7352/7352 [==============================] - 102s 14ms/step - loss: 0.1638 - accuracy: 0.9351 - val_loss: 0.1096 - val_accuracy: 0.9669\n",
            "Epoch 62/65\n",
            "7352/7352 [==============================] - 102s 14ms/step - loss: 0.1608 - accuracy: 0.9346 - val_loss: 0.0838 - val_accuracy: 0.9726\n",
            "Epoch 63/65\n",
            "7352/7352 [==============================] - 101s 14ms/step - loss: 0.1600 - accuracy: 0.9342 - val_loss: 0.0958 - val_accuracy: 0.9725\n",
            "Epoch 64/65\n",
            "7352/7352 [==============================] - 101s 14ms/step - loss: 0.1570 - accuracy: 0.9363 - val_loss: 0.1290 - val_accuracy: 0.9667\n",
            "Epoch 65/65\n",
            "7352/7352 [==============================] - 100s 14ms/step - loss: 0.1663 - accuracy: 0.9346 - val_loss: 0.0954 - val_accuracy: 0.9717\n"
          ],
          "name": "stdout"
        },
        {
          "output_type": "execute_result",
          "data": {
            "text/plain": [
              "<keras.callbacks.callbacks.History at 0x7f51906c2898>"
            ]
          },
          "metadata": {
            "tags": []
          },
          "execution_count": 21
        }
      ]
    },
    {
      "cell_type": "markdown",
      "metadata": {
        "id": "iPoPSU7GM8rd",
        "colab_type": "text"
      },
      "source": [
        " ### 3.7 Accuracy (Training & Validation) vs No of Epoch"
      ]
    },
    {
      "cell_type": "code",
      "metadata": {
        "id": "Tazmp_ElsRfO",
        "colab_type": "code",
        "colab": {
          "base_uri": "https://localhost:8080/",
          "height": 413
        },
        "outputId": "e9c34e03-74c2-4498-a121-1c99ac7716f9"
      },
      "source": [
        "import pandas as pd\n",
        "import numpy as np\n",
        "losses = pd.DataFrame(model_best.history.history)\n",
        "\n",
        "losses.head(2)\n",
        "\n",
        "import matplotlib\n",
        "import matplotlib.pyplot as plt\n",
        "import numpy as np\n",
        "plt.figure(figsize=(10,6))\n",
        "\n",
        "plt.plot(losses['accuracy'],color='green',label='Train_accuracy')\n",
        "plt.plot(losses['val_accuracy'],color='red',label='val_accuracy')\n",
        "plt.xlabel('no of epoch',fontsize=14)\n",
        "plt.ylabel('Accuracy',fontsize=14)\n",
        "plt.title('Accuracy (Training & Validation) vs No of Epoch',fontsize=20)\n",
        "plt.legend()\n",
        "plt.grid()"
      ],
      "execution_count": 22,
      "outputs": [
        {
          "output_type": "display_data",
          "data": {
            "image/png": "[encoded data removed]",
            "text/plain": [
              "<Figure size 720x432 with 1 Axes>"
            ]
          },
          "metadata": {
            "tags": [],
            "needs_background": "light"
          }
        }
      ]
    },
    {
      "cell_type": "markdown",
      "metadata": {
        "id": "kK9chnmUMnqZ",
        "colab_type": "text"
      },
      "source": [
        "### 3.8 Confusion Matrix on test data of LSTM "
      ]
    },
    {
      "cell_type": "code",
      "metadata": {
        "id": "MbTg-0AdInU3",
        "colab_type": "code",
        "colab": {
          "base_uri": "https://localhost:8080/",
          "height": 741
        },
        "outputId": "195c44f8-4701-4794-a103-4706ac4335ad"
      },
      "source": [
        "# Confusion Matrix\n",
        "cm_best=confusion_matrix(Y_test, model_best.predict(X_test))\n",
        "\n",
        "print(confusion_matrix(Y_test, model_best.predict(X_test)))\n",
        "\n",
        "import seaborn as sns\n",
        "plt.figure(figsize=(17,9))\n",
        "sns.heatmap(cm_best/np.sum(cm_best),annot=True,fmt='.2%',cmap='Blues',annot_kws={\"size\": 16})\n",
        "plt.title('Confusion Matrix of LSTM of Human Activity Recognition',fontsize=22)\n",
        "plt.xlabel('Predicted Label',fontsize=16)\n",
        "plt.ylabel('True Label',fontsize=16)"
      ],
      "execution_count": 48,
      "outputs": [
        {
          "output_type": "stream",
          "text": [
            "Pred                LAYING  SITTING  ...  WALKING_DOWNSTAIRS  WALKING_UPSTAIRS\n",
            "True                                 ...                                      \n",
            "LAYING                 537        0  ...                   0                 0\n",
            "SITTING                  0      426  ...                   0                 3\n",
            "STANDING                 0      119  ...                   0                 0\n",
            "WALKING                  0        9  ...                   5                 0\n",
            "WALKING_DOWNSTAIRS       0        1  ...                 419                 0\n",
            "WALKING_UPSTAIRS         0       10  ...                  22               434\n",
            "\n",
            "[6 rows x 6 columns]\n"
          ],
          "name": "stdout"
        },
        {
          "output_type": "execute_result",
          "data": {
            "text/plain": [
              "Text(131.09375, 0.5, 'True Label')"
            ]
          },
          "metadata": {
            "tags": []
          },
          "execution_count": 48
        },
        {
          "output_type": "display_data",
          "data": {
            "image/png": "[encoded data removed]",
            "text/plain": [
              "<Figure size 1224x648 with 2 Axes>"
            ]
          },
          "metadata": {
            "tags": [],
            "needs_background": "light"
          }
        }
      ]
    },
    {
      "cell_type": "code",
      "metadata": {
        "id": "kZxGmCTOHfkW",
        "colab_type": "code",
        "colab": {
          "base_uri": "https://localhost:8080/",
          "height": 34
        },
        "outputId": "e028fb0e-650c-4899-8e1d-0e6adc3b40a5"
      },
      "source": [
        "score = model_best.evaluate(X_test, Y_test)"
      ],
      "execution_count": 46,
      "outputs": [
        {
          "output_type": "stream",
          "text": [
            "2947/2947 [==============================] - 3s 1ms/step\n"
          ],
          "name": "stdout"
        }
      ]
    },
    {
      "cell_type": "code",
      "metadata": {
        "id": "muM31sukKWB5",
        "colab_type": "code",
        "colab": {
          "base_uri": "https://localhost:8080/",
          "height": 34
        },
        "outputId": "a5917ddb-00a3-4823-d1e3-7354c7401877"
      },
      "source": [
        "score"
      ],
      "execution_count": 47,
      "outputs": [
        {
          "output_type": "execute_result",
          "data": {
            "text/plain": [
              "[0.09540406648056347, 0.9716662764549255]"
            ]
          },
          "metadata": {
            "tags": []
          },
          "execution_count": 47
        }
      ]
    },
    {
      "cell_type": "markdown",
      "metadata": {
        "id": "gqjZ0PduQ45c",
        "colab_type": "text"
      },
      "source": [
        "**OBESERVATION:**\n",
        "\n",
        "1.   With 2 layered LSTM with different dropout rates we get 97.16% accuracy\n",
        "\n",
        "2.   LSTM units for 1st Layer=100||\n",
        "LSTM units for 2nd Layer=50 ||\n",
        "DropOut_1=0.8 ||\n",
        "DropOut_1=0.9 ||\n",
        "\n",
        "\n",
        "\n",
        "\n"
      ]
    },
    {
      "cell_type": "markdown",
      "metadata": {
        "id": "FSyVki44SaXq",
        "colab_type": "text"
      },
      "source": [
        "#4 Conclusion "
      ]
    },
    {
      "cell_type": "code",
      "metadata": {
        "id": "WaEhRInTScZZ",
        "colab_type": "code",
        "colab": {
          "base_uri": "https://localhost:8080/",
          "height": 134
        },
        "outputId": "da5c7860-f6ab-4806-eb94-e1410f574dc2"
      },
      "source": [
        "#!/usr/bin/python3\n",
        "\n",
        "from prettytable import PrettyTable\n",
        "    \n",
        "x = PrettyTable()\n",
        "\n",
        "x.field_names = [\"MODEL\", \"FEATURIZATION\",\"Accuracy\"]\n",
        "\n",
        "x.add_row([\"Best_LR\", \"Feature_engineered_FFT\",\"95.11%\"])\n",
        "x.add_row([\"LSTM_1_layered\", \"Raw_time_series_data\",\"90.03%\"])\n",
        "x.add_row([\"LSTM_2_layered\", \"Raw_time_series_data\",\"97.16%\"])\n",
        "\n",
        "\n",
        "print(x)"
      ],
      "execution_count": 53,
      "outputs": [
        {
          "output_type": "stream",
          "text": [
            "+----------------+------------------------+----------+\n",
            "|     MODEL      |     FEATURIZATION      | Accuracy |\n",
            "+----------------+------------------------+----------+\n",
            "|    Best_LR     | Feature_engineered_FFT |  95.11%  |\n",
            "| LSTM_1_layered |  Raw_time_series_data  |  90.03%  |\n",
            "| LSTM_2_layered |  Raw_time_series_data  |  97.16%  |\n",
            "+----------------+------------------------+----------+\n"
          ],
          "name": "stdout"
        }
      ]
    }
  ]
}