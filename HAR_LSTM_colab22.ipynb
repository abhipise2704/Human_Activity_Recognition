{
  "nbformat": 4,
  "nbformat_minor": 0,
  "metadata": {
    "kernelspec": {
      "display_name": "Python 3",
      "language": "python",
      "name": "python3"
    },
    "language_info": {
      "codemirror_mode": {
        "name": "ipython",
        "version": 3
      },
      "file_extension": ".py",
      "mimetype": "text/x-python",
      "name": "python",
      "nbconvert_exporter": "python",
      "pygments_lexer": "ipython3",
      "version": "3.6.1"
    },
    "colab": {
      "name": "HAR_LSTM_colab.ipynb",
      "provenance": [],
      "collapsed_sections": [],
      "toc_visible": true,
      "include_colab_link": true
    },
    "accelerator": "GPU"
  },
  "cells": [
    {
      "cell_type": "markdown",
      "metadata": {
        "id": "view-in-github",
        "colab_type": "text"
      },
      "source": [
        "<a href=\"https://colab.research.google.com/github/abhipise2704/Human_Activity_Recognition/blob/master/HAR_LSTM_colab22.ipynb\" target=\"_parent\"><img src=\"https://colab.research.google.com/assets/colab-badge.svg\" alt=\"Open In Colab\"/></a>"
      ]
    },
    {
      "cell_type": "markdown",
      "metadata": {
        "id": "wmlUtLGnPAVc",
        "colab_type": "text"
      },
      "source": [
        "# Assignment 21\n",
        "## LSTM ON HUMAN ACTIVITY RECOGNITION\n",
        "## abhipise2704@gmail.com_21"
      ]
    },
    {
      "cell_type": "markdown",
      "metadata": {
        "id": "4Ai7Cu78PZBB",
        "colab_type": "text"
      },
      "source": [
        "# 1: DATA UPLOADING /DATA PREPROCESSING "
      ]
    },
    {
      "cell_type": "markdown",
      "metadata": {
        "id": "FEY40-caOwzf",
        "colab_type": "text"
      },
      "source": [
        "### 1.1 Loading Folder HAR on  google drive "
      ]
    },
    {
      "cell_type": "code",
      "metadata": {
        "id": "LhF1pAL4V60U",
        "colab_type": "code",
        "colab": {}
      },
      "source": [
        "#https://colab.research.google.com/notebooks/io.ipynb#scrollTo=XDg9OBaYqRMd\n",
        "#https://medium.com/@master_yi/importing-datasets-in-google-colab-c816fc654f97\n",
        "# Code to read csv file into Colaboratory:\n",
        "#!pip install -U -q PyDrive\n",
        "from pydrive.auth import GoogleAuth\n",
        "from pydrive.drive import GoogleDrive\n",
        "from google.colab import auth\n",
        "from oauth2client.client import GoogleCredentials\n",
        "# Authenticate and create the PyDrive client.\n",
        "auth.authenticate_user()\n",
        "gauth = GoogleAuth()\n",
        "gauth.credentials = GoogleCredentials.get_application_default()\n",
        "drive = GoogleDrive(gauth)"
      ],
      "execution_count": 0,
      "outputs": []
    },
    {
      "cell_type": "code",
      "metadata": {
        "id": "giCLr-di82tb",
        "colab_type": "code",
        "outputId": "822810fc-3f7d-4d7f-acb1-1536feff64db",
        "colab": {
          "base_uri": "https://localhost:8080/",
          "height": 34
        }
      },
      "source": [
        "#https://colab.research.google.com/notebooks/io.ipynb#scrollTo=XDg9OBaYqRMd\n",
        "#https://medium.com/@master_yi/importing-datasets-in-google-colab-c816fc654f97\n",
        "# Code to read csv file into Colaboratory:\n",
        "#!pip install -U -q PyDrive\n",
        "from pydrive.auth import GoogleAuth\n",
        "from pydrive.drive import GoogleDrive\n",
        "from google.colab import auth\n",
        "from oauth2client.client import GoogleCredentials\n",
        "# Authenticate and create the PyDrive client.\n",
        "auth.authenticate_user()\n",
        "gauth = GoogleAuth()\n",
        "gauth.credentials = GoogleCredentials.get_application_default()\n",
        "drive = GoogleDrive(gauth)\n",
        "\n",
        "link = 'https://drive.google.com/open?id=118toouH8ifByKJHmmowyjOjGyir-YAvi'\n",
        "\n",
        "fluff, id = link.split('=')\n",
        "print (id) # Verify that you have everything after '='\n",
        "\n",
        "\n",
        "downloaded = drive.CreateFile({'id':id}) \n",
        "downloaded.GetContentFile('HumanActivityRecognition.zip')  \n",
        "#data = pd.read_csv('preprocessed_data')\n",
        "# Dataset is now stored in a Pandas Dataframe\n",
        "#data.shape"
      ],
      "execution_count": 2,
      "outputs": [
        {
          "output_type": "stream",
          "text": [
            "118toouH8ifByKJHmmowyjOjGyir-YAvi\n"
          ],
          "name": "stdout"
        }
      ]
    },
    {
      "cell_type": "code",
      "metadata": {
        "id": "r5r0QTs6iZ8d",
        "colab_type": "code",
        "colab": {}
      },
      "source": [
        "import zipfile\n",
        "\n",
        "\n",
        "zip_ref = zipfile.ZipFile(\"/content/HumanActivityRecognition.zip\", 'r')\n",
        "zip_ref.extractall(\"\")\n",
        "zip_ref.close()"
      ],
      "execution_count": 0,
      "outputs": []
    },
    {
      "cell_type": "markdown",
      "metadata": {
        "id": "sUMfj2wqOqt9",
        "colab_type": "text"
      },
      "source": [
        "### 1.2 Importing Library "
      ]
    },
    {
      "cell_type": "code",
      "metadata": {
        "id": "dopXtCSp7GR1",
        "colab_type": "code",
        "colab": {}
      },
      "source": [
        "import pandas as pd\n",
        "import numpy as np"
      ],
      "execution_count": 0,
      "outputs": []
    },
    {
      "cell_type": "code",
      "metadata": {
        "id": "VhheFj_D7GSI",
        "colab_type": "code",
        "colab": {}
      },
      "source": [
        "# Activities are the class labels\n",
        "# It is a 6 class classification\n",
        "ACTIVITIES = {\n",
        "    0: 'WALKING',\n",
        "    1: 'WALKING_UPSTAIRS',\n",
        "    2: 'WALKING_DOWNSTAIRS',\n",
        "    3: 'SITTING',\n",
        "    4: 'STANDING',\n",
        "    5: 'LAYING',\n",
        "}\n",
        "\n",
        "# Utility function to print the confusion matrix\n",
        "def confusion_matrix(Y_true, Y_pred):\n",
        "    Y_true = pd.Series([ACTIVITIES[y] for y in np.argmax(Y_true, axis=1)])\n",
        "    Y_pred = pd.Series([ACTIVITIES[y] for y in np.argmax(Y_pred, axis=1)])\n",
        "\n",
        "    return pd.crosstab(Y_true, Y_pred, rownames=['True'], colnames=['Pred'])"
      ],
      "execution_count": 0,
      "outputs": []
    },
    {
      "cell_type": "markdown",
      "metadata": {
        "id": "kqK7JzV07GSc",
        "colab_type": "text"
      },
      "source": [
        "### 1.4 Data Reading to Xtrain Xtest y_train and y_test"
      ]
    },
    {
      "cell_type": "code",
      "metadata": {
        "id": "umKFSQ2l7GSf",
        "colab_type": "code",
        "colab": {}
      },
      "source": [
        "# Data directory\n",
        "DATADIR = 'UCI_HAR_Dataset'"
      ],
      "execution_count": 0,
      "outputs": []
    },
    {
      "cell_type": "code",
      "metadata": {
        "id": "2er-3Rpi7GS1",
        "colab_type": "code",
        "colab": {}
      },
      "source": [
        "# Raw data signals\n",
        "# Signals are from Accelerometer and Gyroscope\n",
        "# The signals are in x,y,z directions\n",
        "# Sensor signals are filtered to have only body acceleration\n",
        "# excluding the acceleration due to gravity\n",
        "# Triaxial acceleration from the accelerometer is total acceleration\n",
        "SIGNALS = [\n",
        "    \"body_acc_x\",\n",
        "    \"body_acc_y\",\n",
        "    \"body_acc_z\",\n",
        "    \"body_gyro_x\",\n",
        "    \"body_gyro_y\",\n",
        "    \"body_gyro_z\",\n",
        "    \"total_acc_x\",\n",
        "    \"total_acc_y\",\n",
        "    \"total_acc_z\"\n",
        "]"
      ],
      "execution_count": 0,
      "outputs": []
    },
    {
      "cell_type": "code",
      "metadata": {
        "id": "Ju5bI8Rc7GTH",
        "colab_type": "code",
        "colab": {}
      },
      "source": [
        "# Utility function to read the data from csv file\n",
        "def _read_csv(filename):\n",
        "    return pd.read_csv(filename, delim_whitespace=True, header=None)\n",
        "\n",
        "# Utility function to load the load\n",
        "def load_signals(subset):\n",
        "    signals_data = []\n",
        "\n",
        "    for signal in SIGNALS:\n",
        "        filename = f'HAR/UCI_HAR_Dataset/{subset}/Inertial Signals/{signal}_{subset}.txt'\n",
        "        df=_read_csv(filename)\n",
        "        df=df.values\n",
        "        signals_data.append(np.asmatrix(df))\n",
        "\n",
        "    # Transpose is used to change the dimensionality of the output,\n",
        "    # aggregating the signals by combination of sample/timestep.\n",
        "    # Resultant shape is (7352 train/2947 test samples, 128 timesteps, 9 signals)\n",
        "    return np.transpose(signals_data, (1, 2, 0))"
      ],
      "execution_count": 0,
      "outputs": []
    },
    {
      "cell_type": "code",
      "metadata": {
        "id": "F8HQd42n7GTb",
        "colab_type": "code",
        "colab": {}
      },
      "source": [
        "\n",
        "def load_y(subset):\n",
        "    \"\"\"\n",
        "    The objective that we are trying to predict is a integer, from 1 to 6,\n",
        "    that represents a human activity. We return a binary representation of \n",
        "    every sample objective as a 6 bits vector using One Hot Encoding\n",
        "    (https://pandas.pydata.org/pandas-docs/stable/generated/pandas.get_dummies.html)\n",
        "    \"\"\"\n",
        "    filename = f'HAR/UCI_HAR_Dataset/{subset}/y_{subset}.txt'\n",
        "    y = _read_csv(filename)[0]\n",
        "    y=pd.get_dummies(y)\n",
        "    y=y.values\n",
        "    #y=np.asmatrix(y)\n",
        "    \n",
        "\n",
        "    return y"
      ],
      "execution_count": 0,
      "outputs": []
    },
    {
      "cell_type": "code",
      "metadata": {
        "id": "LcfU-DWM7GTr",
        "colab_type": "code",
        "colab": {}
      },
      "source": [
        "def load_data():\n",
        "    \"\"\"\n",
        "    Obtain the dataset from multiple files.\n",
        "    Returns: X_train, X_test, y_train, y_test\n",
        "    \"\"\"\n",
        "    X_train, X_test = load_signals('train'), load_signals('test')\n",
        "    y_train, y_test = load_y('train'), load_y('test')\n",
        "\n",
        "    return X_train, X_test, y_train, y_test"
      ],
      "execution_count": 0,
      "outputs": []
    },
    {
      "cell_type": "code",
      "metadata": {
        "id": "RqCjuP7D7GT5",
        "colab_type": "code",
        "colab": {}
      },
      "source": [
        "# Importing tensorflow\n",
        "np.random.seed(42)\n",
        "import tensorflow as tf\n",
        "tf.random.set_seed(42)"
      ],
      "execution_count": 0,
      "outputs": []
    },
    {
      "cell_type": "code",
      "metadata": {
        "id": "4gBk04tO7GUF",
        "colab_type": "code",
        "colab": {}
      },
      "source": [
        "# Configuring a session\n",
        "session_conf = tf.compat.v1.ConfigProto(\n",
        "    intra_op_parallelism_threads=1,\n",
        "    inter_op_parallelism_threads=1\n",
        ")"
      ],
      "execution_count": 0,
      "outputs": []
    },
    {
      "cell_type": "code",
      "metadata": {
        "id": "rZdMNPFZ7GUX",
        "colab_type": "code",
        "outputId": "c2a829c0-9904-4d35-f2d2-ce7809565add",
        "colab": {
          "base_uri": "https://localhost:8080/",
          "height": 51
        }
      },
      "source": [
        "# Import Keras\n",
        "from keras import backend as K\n",
        "sess = tf.compat.v1.Session(graph=tf.compat.v1.get_default_graph(), config=session_conf)\n",
        "tf.compat.v1.keras.backend.get_session(sess)"
      ],
      "execution_count": 13,
      "outputs": [
        {
          "output_type": "stream",
          "text": [
            "Using TensorFlow backend.\n"
          ],
          "name": "stderr"
        },
        {
          "output_type": "execute_result",
          "data": {
            "text/plain": [
              "<tensorflow.python.client.session.Session at 0x7f0631b0c7b8>"
            ]
          },
          "metadata": {
            "tags": []
          },
          "execution_count": 13
        }
      ]
    },
    {
      "cell_type": "code",
      "metadata": {
        "id": "jXga27_Y7GUm",
        "colab_type": "code",
        "colab": {}
      },
      "source": [
        "# Importing libraries\n",
        "from keras.models import Sequential\n",
        "from keras.layers import LSTM\n",
        "from keras.layers.core import Dense, Dropout"
      ],
      "execution_count": 0,
      "outputs": []
    },
    {
      "cell_type": "code",
      "metadata": {
        "id": "MjW7JVr77GU2",
        "colab_type": "code",
        "colab": {}
      },
      "source": [
        "# Initializing parameters\n",
        "epochs = 30\n",
        "batch_size = 16\n",
        "n_hidden = 32"
      ],
      "execution_count": 0,
      "outputs": []
    },
    {
      "cell_type": "code",
      "metadata": {
        "id": "6NNnnDrm7GVA",
        "colab_type": "code",
        "colab": {}
      },
      "source": [
        "# Utility function to count the number of classes\n",
        "def _count_classes(y):\n",
        "    return len(set([tuple(category) for category in y]))"
      ],
      "execution_count": 0,
      "outputs": []
    },
    {
      "cell_type": "code",
      "metadata": {
        "id": "r9I6cUGh7GVK",
        "colab_type": "code",
        "colab": {}
      },
      "source": [
        "# Loading the train and test data\n",
        "X_train, X_test, Y_train, Y_test = load_data()"
      ],
      "execution_count": 0,
      "outputs": []
    },
    {
      "cell_type": "code",
      "metadata": {
        "id": "C4C3s--y7GVW",
        "colab_type": "code",
        "outputId": "418a4cdf-4dfc-4cb8-c4f6-87c67be2b35b",
        "colab": {
          "base_uri": "https://localhost:8080/",
          "height": 68
        }
      },
      "source": [
        "timesteps = len(X_train[0])\n",
        "input_dim = len(X_train[0][0])\n",
        "n_classes = _count_classes(Y_train)\n",
        "\n",
        "print(timesteps)\n",
        "print(input_dim)\n",
        "print(len(X_train))"
      ],
      "execution_count": 18,
      "outputs": [
        {
          "output_type": "stream",
          "text": [
            "128\n",
            "9\n",
            "7352\n"
          ],
          "name": "stdout"
        }
      ]
    },
    {
      "cell_type": "markdown",
      "metadata": {
        "id": "XcEvsbo_7GVt",
        "colab_type": "text"
      },
      "source": [
        "# 2 Defining the Architecture of LSTM(model 1)"
      ]
    },
    {
      "cell_type": "markdown",
      "metadata": {
        "id": "H2kTr8StP6J6",
        "colab_type": "text"
      },
      "source": [
        "### 2.1 Initialize Model"
      ]
    },
    {
      "cell_type": "code",
      "metadata": {
        "id": "mFmVJd-J7GVw",
        "colab_type": "code",
        "outputId": "9073f9a9-0665-4750-b75d-af9421b703b6",
        "colab": {
          "base_uri": "https://localhost:8080/",
          "height": 255
        }
      },
      "source": [
        "# Initiliazing the sequential model\n",
        "model = Sequential()\n",
        "# Configuring the parameters\n",
        "model.add(LSTM(n_hidden, input_shape=(timesteps, input_dim)))\n",
        "# Adding a dropout layer\n",
        "model.add(Dropout(0.5))\n",
        "# Adding a dense output layer with sigmoid activation\n",
        "model.add(Dense(n_classes, activation='sigmoid'))\n",
        "model.summary()"
      ],
      "execution_count": 0,
      "outputs": [
        {
          "output_type": "stream",
          "text": [
            "Model: \"sequential_2\"\n",
            "_________________________________________________________________\n",
            "Layer (type)                 Output Shape              Param #   \n",
            "=================================================================\n",
            "lstm_1 (LSTM)                (None, 32)                5376      \n",
            "_________________________________________________________________\n",
            "dropout_1 (Dropout)          (None, 32)                0         \n",
            "_________________________________________________________________\n",
            "dense_1 (Dense)              (None, 6)                 198       \n",
            "=================================================================\n",
            "Total params: 5,574\n",
            "Trainable params: 5,574\n",
            "Non-trainable params: 0\n",
            "_________________________________________________________________\n"
          ],
          "name": "stdout"
        }
      ]
    },
    {
      "cell_type": "markdown",
      "metadata": {
        "id": "Lz29Zt9ZQA8j",
        "colab_type": "text"
      },
      "source": [
        "### 2.2 Model Compilation & Evaluation "
      ]
    },
    {
      "cell_type": "code",
      "metadata": {
        "id": "s7OMqaOI7GV_",
        "colab_type": "code",
        "colab": {}
      },
      "source": [
        "# Compiling the model\n",
        "model.compile(loss='categorical_crossentropy',\n",
        "              optimizer='rmsprop',\n",
        "              metrics=['accuracy'])"
      ],
      "execution_count": 0,
      "outputs": []
    },
    {
      "cell_type": "code",
      "metadata": {
        "id": "hfBod7ps7GWN",
        "colab_type": "code",
        "outputId": "175e822f-d7c9-40fe-a950-c8d24f147dfe",
        "colab": {
          "base_uri": "https://localhost:8080/",
          "height": 1000
        }
      },
      "source": [
        "# Training the model\n",
        "model.fit(X_train,\n",
        "          Y_train,\n",
        "          batch_size=batch_size,\n",
        "          validation_data=(X_test, Y_test),\n",
        "          epochs=epochs)"
      ],
      "execution_count": 0,
      "outputs": [
        {
          "output_type": "stream",
          "text": [
            "Train on 7352 samples, validate on 2947 samples\n",
            "Epoch 1/30\n",
            "7352/7352 [==============================] - 96s 13ms/step - loss: 1.3178 - accuracy: 0.4506 - val_loss: 1.1267 - val_accuracy: 0.5151\n",
            "Epoch 2/30\n",
            "7352/7352 [==============================] - 92s 13ms/step - loss: 0.9312 - accuracy: 0.6034 - val_loss: 0.8452 - val_accuracy: 0.6121\n",
            "Epoch 3/30\n",
            "7352/7352 [==============================] - 93s 13ms/step - loss: 0.7748 - accuracy: 0.6434 - val_loss: 0.7749 - val_accuracy: 0.6125\n",
            "Epoch 4/30\n",
            "7352/7352 [==============================] - 94s 13ms/step - loss: 0.7149 - accuracy: 0.6604 - val_loss: 0.7583 - val_accuracy: 0.5993\n",
            "Epoch 5/30\n",
            "7352/7352 [==============================] - 98s 13ms/step - loss: 0.6708 - accuracy: 0.6800 - val_loss: 1.0034 - val_accuracy: 0.6295\n",
            "Epoch 6/30\n",
            "7352/7352 [==============================] - 99s 13ms/step - loss: 0.6183 - accuracy: 0.7199 - val_loss: 0.6839 - val_accuracy: 0.7448\n",
            "Epoch 7/30\n",
            "7352/7352 [==============================] - 97s 13ms/step - loss: 0.5507 - accuracy: 0.7742 - val_loss: 0.7963 - val_accuracy: 0.7268\n",
            "Epoch 8/30\n",
            "7352/7352 [==============================] - 95s 13ms/step - loss: 0.5212 - accuracy: 0.7855 - val_loss: 0.6395 - val_accuracy: 0.7547\n",
            "Epoch 9/30\n",
            "7352/7352 [==============================] - 97s 13ms/step - loss: 0.5130 - accuracy: 0.7983 - val_loss: 0.5978 - val_accuracy: 0.7832\n",
            "Epoch 10/30\n",
            "7352/7352 [==============================] - 95s 13ms/step - loss: 0.4609 - accuracy: 0.8105 - val_loss: 0.5706 - val_accuracy: 0.7984\n",
            "Epoch 11/30\n",
            "7352/7352 [==============================] - 95s 13ms/step - loss: 0.4520 - accuracy: 0.8327 - val_loss: 0.6005 - val_accuracy: 0.7862\n",
            "Epoch 12/30\n",
            "7352/7352 [==============================] - 95s 13ms/step - loss: 0.4161 - accuracy: 0.8594 - val_loss: 0.5256 - val_accuracy: 0.8551\n",
            "Epoch 13/30\n",
            "7352/7352 [==============================] - 96s 13ms/step - loss: 0.3478 - accuracy: 0.9015 - val_loss: 0.4695 - val_accuracy: 0.8782\n",
            "Epoch 14/30\n",
            "7352/7352 [==============================] - 94s 13ms/step - loss: 0.3081 - accuracy: 0.9140 - val_loss: 0.5279 - val_accuracy: 0.8721\n",
            "Epoch 15/30\n",
            "7352/7352 [==============================] - 95s 13ms/step - loss: 0.2811 - accuracy: 0.9195 - val_loss: 0.4663 - val_accuracy: 0.8751\n",
            "Epoch 16/30\n",
            "7352/7352 [==============================] - 95s 13ms/step - loss: 0.2480 - accuracy: 0.9237 - val_loss: 0.5973 - val_accuracy: 0.8755\n",
            "Epoch 17/30\n",
            "7352/7352 [==============================] - 94s 13ms/step - loss: 0.2557 - accuracy: 0.9293 - val_loss: 0.4258 - val_accuracy: 0.8867\n",
            "Epoch 18/30\n",
            "7352/7352 [==============================] - 95s 13ms/step - loss: 0.2037 - accuracy: 0.9354 - val_loss: 0.4181 - val_accuracy: 0.8853\n",
            "Epoch 19/30\n",
            "7352/7352 [==============================] - 95s 13ms/step - loss: 0.2137 - accuracy: 0.9344 - val_loss: 0.6966 - val_accuracy: 0.8599\n",
            "Epoch 20/30\n",
            "7352/7352 [==============================] - 93s 13ms/step - loss: 0.2132 - accuracy: 0.9384 - val_loss: 0.6220 - val_accuracy: 0.8619\n",
            "Epoch 21/30\n",
            "7352/7352 [==============================] - 95s 13ms/step - loss: 0.1972 - accuracy: 0.9378 - val_loss: 0.4640 - val_accuracy: 0.8823\n",
            "Epoch 22/30\n",
            "7352/7352 [==============================] - 94s 13ms/step - loss: 0.2088 - accuracy: 0.9396 - val_loss: 0.4406 - val_accuracy: 0.8755\n",
            "Epoch 23/30\n",
            "7352/7352 [==============================] - 93s 13ms/step - loss: 0.2359 - accuracy: 0.9344 - val_loss: 0.4642 - val_accuracy: 0.8968\n",
            "Epoch 24/30\n",
            "7352/7352 [==============================] - 95s 13ms/step - loss: 0.1972 - accuracy: 0.9389 - val_loss: 0.7632 - val_accuracy: 0.8565\n",
            "Epoch 25/30\n",
            "7352/7352 [==============================] - 95s 13ms/step - loss: 0.1678 - accuracy: 0.9419 - val_loss: 0.4583 - val_accuracy: 0.9026\n",
            "Epoch 26/30\n",
            "7352/7352 [==============================] - 96s 13ms/step - loss: 0.1641 - accuracy: 0.9438 - val_loss: 0.5014 - val_accuracy: 0.8894\n",
            "Epoch 27/30\n",
            "7352/7352 [==============================] - 94s 13ms/step - loss: 0.1674 - accuracy: 0.9438 - val_loss: 0.4171 - val_accuracy: 0.8894\n",
            "Epoch 28/30\n",
            "7352/7352 [==============================] - 95s 13ms/step - loss: 0.1711 - accuracy: 0.9483 - val_loss: 0.3357 - val_accuracy: 0.9009\n",
            "Epoch 29/30\n",
            "7352/7352 [==============================] - 95s 13ms/step - loss: 0.1867 - accuracy: 0.9444 - val_loss: 0.3000 - val_accuracy: 0.9118\n",
            "Epoch 30/30\n",
            "7352/7352 [==============================] - 94s 13ms/step - loss: 0.1609 - accuracy: 0.9486 - val_loss: 0.4108 - val_accuracy: 0.9009\n"
          ],
          "name": "stdout"
        },
        {
          "output_type": "execute_result",
          "data": {
            "text/plain": [
              "<keras.callbacks.callbacks.History at 0x7f737b1ae898>"
            ]
          },
          "metadata": {
            "tags": []
          },
          "execution_count": 59
        }
      ]
    },
    {
      "cell_type": "markdown",
      "metadata": {
        "id": "A3hJwzWJQHcI",
        "colab_type": "text"
      },
      "source": [
        "### 2.4 Confusion Matrix on Test Data for Model 1 "
      ]
    },
    {
      "cell_type": "code",
      "metadata": {
        "id": "c2kc6PJg7GWb",
        "colab_type": "code",
        "outputId": "fb88804d-11df-47d8-fcd0-af486275eedf",
        "colab": {}
      },
      "source": [
        "# Confusion Matrix\n",
        "print(confusion_matrix(Y_test, model.predict(X_test)))"
      ],
      "execution_count": 0,
      "outputs": [
        {
          "output_type": "stream",
          "text": [
            "Pred                LAYING  SITTING  STANDING  WALKING  WALKING_DOWNSTAIRS  \\\n",
            "True                                                                         \n",
            "LAYING                 512        0        25        0                   0   \n",
            "SITTING                  3      410        75        0                   0   \n",
            "STANDING                 0       87       445        0                   0   \n",
            "WALKING                  0        0         0      481                   2   \n",
            "WALKING_DOWNSTAIRS       0        0         0        0                 382   \n",
            "WALKING_UPSTAIRS         0        0         0        2                  18   \n",
            "\n",
            "Pred                WALKING_UPSTAIRS  \n",
            "True                                  \n",
            "LAYING                             0  \n",
            "SITTING                            3  \n",
            "STANDING                           0  \n",
            "WALKING                           13  \n",
            "WALKING_DOWNSTAIRS                38  \n",
            "WALKING_UPSTAIRS                 451  \n"
          ],
          "name": "stdout"
        }
      ]
    },
    {
      "cell_type": "code",
      "metadata": {
        "id": "AevNjne47GWk",
        "colab_type": "code",
        "outputId": "e16159de-15ac-436b-b6a0-71145fca6c45",
        "colab": {}
      },
      "source": [
        "score = model.evaluate(X_test, Y_test)"
      ],
      "execution_count": 0,
      "outputs": [
        {
          "output_type": "stream",
          "text": [
            "2947/2947 [==============================] - 4s 2ms/step\n"
          ],
          "name": "stdout"
        }
      ]
    },
    {
      "cell_type": "code",
      "metadata": {
        "id": "9sRGPBPJ7GWx",
        "colab_type": "code",
        "outputId": "1f10c788-ca14-4c34-e7a9-0d9b2ecdd56c",
        "colab": {}
      },
      "source": [
        "score"
      ],
      "execution_count": 0,
      "outputs": [
        {
          "output_type": "execute_result",
          "data": {
            "text/plain": [
              "[0.3087582236972612, 0.9097387173396675]"
            ]
          },
          "metadata": {
            "tags": []
          },
          "execution_count": 28
        }
      ]
    },
    {
      "cell_type": "markdown",
      "metadata": {
        "id": "Lw4VQ5-U7GW-",
        "colab_type": "text"
      },
      "source": [
        "- With a simple 2 layer architecture we got 90.09% accuracy and a loss of 0.30\n",
        "- We can further imporve the performace with Hyperparameter tuning"
      ]
    },
    {
      "cell_type": "markdown",
      "metadata": {
        "id": "j2TbKm3WQSHQ",
        "colab_type": "text"
      },
      "source": [
        "# 3 LSTM model 2 "
      ]
    },
    {
      "cell_type": "markdown",
      "metadata": {
        "id": "3MDxWbquNcCJ",
        "colab_type": "text"
      },
      "source": [
        "### 3.1 GridSearchCV for droprOut and LSTM units \n"
      ]
    },
    {
      "cell_type": "markdown",
      "metadata": {
        "id": "CRscSw5nNkJj",
        "colab_type": "text"
      },
      "source": [
        "##### 3.1.1 Model Function  "
      ]
    },
    {
      "cell_type": "code",
      "metadata": {
        "id": "qufsxoU9sBfg",
        "colab_type": "code",
        "colab": {}
      },
      "source": [
        "#https://github.com/krishnaik06/Hidden-Layers-Neurons/blob/master/How%20to%20Select%20how%20many%20hidden%20layer%20and%20neurons%20in%20a%20neural%20network.ipynb\n",
        "#https://machinelearningmastery.com/grid-search-hyperparameters-deep-learning-models-python-keras/\n",
        "from keras.layers import BatchNormalization\n",
        "\n",
        "\n",
        "def create_model(lstm_units_1,lstm_units_2,dropout_1,dropout_2):\n",
        "    # create model\n",
        "    model = Sequential()\n",
        "    \n",
        "    model.add(LSTM(lstm_units_1,return_sequences=True,\n",
        "                   input_shape=(timesteps, input_dim)))\n",
        "    model.add(BatchNormalization())\n",
        "    model.add(Dropout(dropout_1))\n",
        "    \n",
        "    model.add(LSTM(lstm_units_2))\n",
        "    model.add(Dropout(dropout_2))\n",
        "    \n",
        "    model.add(Dense(n_classes, activation='softmax'))\n",
        "    # Compile model\n",
        "    model.compile(loss='categorical_crossentropy', optimizer='rmsprop', metrics=['accuracy'])\n",
        "    return model\n"
      ],
      "execution_count": 0,
      "outputs": []
    },
    {
      "cell_type": "markdown",
      "metadata": {
        "id": "JFfUHBo7NxID",
        "colab_type": "text"
      },
      "source": [
        "### 3.2 GridSearchCV to Hyperparametr tuning "
      ]
    },
    {
      "cell_type": "code",
      "metadata": {
        "id": "jwWjR5GqtJ3q",
        "colab_type": "code",
        "colab": {}
      },
      "source": [
        "from keras.wrappers.scikit_learn import KerasClassifier\n",
        "from sklearn.model_selection import GridSearchCV\n",
        "from sklearn.model_selection import RandomizedSearchCV\n",
        "\n",
        "model = KerasClassifier(build_fn=create_model, verbose=10)"
      ],
      "execution_count": 0,
      "outputs": []
    },
    {
      "cell_type": "code",
      "metadata": {
        "id": "N3CxId_gtEGF",
        "colab_type": "code",
        "colab": {}
      },
      "source": [
        "#https://machinelearningmastery.com/grid-search-hyperparameters-deep-learning-models-python-keras/\n",
        "\n",
        "lstm_units_1_list=[140,160]\n",
        "lstm_units_2_list=[80,120]\n",
        "dropout_1_list=[0.1,0.2,0.3]\n",
        "dropout_2_list=[0.4,0.5,0.6]\n",
        "#kernel_ini_list=['random_uniform','glorot_normal']\n",
        "param_grid_dict = dict(lstm_units_1=lstm_units_1_list, \n",
        "                  lstm_units_2=lstm_units_2_list,\n",
        "                  dropout_1 = dropout_1_list,\n",
        "                  dropout_2=dropout_2_list)\n",
        "\n",
        "grid = GridSearchCV( estimator=model,param_grid=param_grid_dict,verbose=10,cv=3)"
      ],
      "execution_count": 0,
      "outputs": []
    },
    {
      "cell_type": "code",
      "metadata": {
        "id": "-gWHgT_MsrpQ",
        "colab_type": "code",
        "outputId": "eb982cc6-e5c9-425c-f2cd-376ead0ae72d",
        "colab": {
          "base_uri": "https://localhost:8080/",
          "height": 1000
        }
      },
      "source": [
        "#https://machinelearningmastery.com/grid-search-hyperparameters-deep-learning-models-python-keras/\n",
        "\n",
        "grid_result = grid.fit(X_train,Y_train,epochs=2, batch_size=500)\n",
        "\n",
        "# summarize results\n",
        "print(\"Best: %f using %s\" % (grid_result.best_score_, grid_result.best_params_))\n",
        "means = grid_result.cv_results_['mean_test_score']\n",
        "stds = grid_result.cv_results_['std_test_score']\n",
        "params = grid_result.cv_results_['params']\n",
        "for mean, stdev, param in zip(means, stds, params):\n",
        "    print(\"%f (%f) with: %r\" % (mean, stdev, param))\n",
        "\n"
      ],
      "execution_count": 74,
      "outputs": [
        {
          "output_type": "stream",
          "text": [
            "Fitting 3 folds for each of 36 candidates, totalling 108 fits\n",
            "[CV] dropout_1=0.1, dropout_2=0.4, lstm_units_1=140, lstm_units_2=80 .\n"
          ],
          "name": "stdout"
        },
        {
          "output_type": "stream",
          "text": [
            "[Parallel(n_jobs=1)]: Using backend SequentialBackend with 1 concurrent workers.\n"
          ],
          "name": "stderr"
        },
        {
          "output_type": "stream",
          "text": [
            "Epoch 1/2\n",
            "Epoch 2/2\n",
            "[CV]  dropout_1=0.1, dropout_2=0.4, lstm_units_1=140, lstm_units_2=80, score=0.168, total=  12.4s\n",
            "[CV] dropout_1=0.1, dropout_2=0.4, lstm_units_1=140, lstm_units_2=80 .\n"
          ],
          "name": "stdout"
        },
        {
          "output_type": "stream",
          "text": [
            "[Parallel(n_jobs=1)]: Done   1 out of   1 | elapsed:   12.4s remaining:    0.0s\n"
          ],
          "name": "stderr"
        },
        {
          "output_type": "stream",
          "text": [
            "Epoch 1/2\n",
            "Epoch 2/2\n",
            "[CV]  dropout_1=0.1, dropout_2=0.4, lstm_units_1=140, lstm_units_2=80, score=0.293, total=  12.9s\n",
            "[CV] dropout_1=0.1, dropout_2=0.4, lstm_units_1=140, lstm_units_2=80 .\n"
          ],
          "name": "stdout"
        },
        {
          "output_type": "stream",
          "text": [
            "[Parallel(n_jobs=1)]: Done   2 out of   2 | elapsed:   25.3s remaining:    0.0s\n"
          ],
          "name": "stderr"
        },
        {
          "output_type": "stream",
          "text": [
            "Epoch 1/2\n",
            "Epoch 2/2\n",
            "[CV]  dropout_1=0.1, dropout_2=0.4, lstm_units_1=140, lstm_units_2=80, score=0.294, total=  12.6s\n",
            "[CV] dropout_1=0.1, dropout_2=0.4, lstm_units_1=140, lstm_units_2=120 \n"
          ],
          "name": "stdout"
        },
        {
          "output_type": "stream",
          "text": [
            "[Parallel(n_jobs=1)]: Done   3 out of   3 | elapsed:   37.9s remaining:    0.0s\n"
          ],
          "name": "stderr"
        },
        {
          "output_type": "stream",
          "text": [
            "Epoch 1/2\n",
            "Epoch 2/2\n",
            "[CV]  dropout_1=0.1, dropout_2=0.4, lstm_units_1=140, lstm_units_2=120, score=0.168, total=  12.5s\n",
            "[CV] dropout_1=0.1, dropout_2=0.4, lstm_units_1=140, lstm_units_2=120 \n"
          ],
          "name": "stdout"
        },
        {
          "output_type": "stream",
          "text": [
            "[Parallel(n_jobs=1)]: Done   4 out of   4 | elapsed:   50.4s remaining:    0.0s\n"
          ],
          "name": "stderr"
        },
        {
          "output_type": "stream",
          "text": [
            "Epoch 1/2\n",
            "Epoch 2/2\n",
            "[CV]  dropout_1=0.1, dropout_2=0.4, lstm_units_1=140, lstm_units_2=120, score=0.293, total=  12.8s\n",
            "[CV] dropout_1=0.1, dropout_2=0.4, lstm_units_1=140, lstm_units_2=120 \n"
          ],
          "name": "stdout"
        },
        {
          "output_type": "stream",
          "text": [
            "[Parallel(n_jobs=1)]: Done   5 out of   5 | elapsed:  1.1min remaining:    0.0s\n"
          ],
          "name": "stderr"
        },
        {
          "output_type": "stream",
          "text": [
            "Epoch 1/2\n",
            "Epoch 2/2\n",
            "[CV]  dropout_1=0.1, dropout_2=0.4, lstm_units_1=140, lstm_units_2=120, score=0.324, total=  13.2s\n",
            "[CV] dropout_1=0.1, dropout_2=0.4, lstm_units_1=160, lstm_units_2=80 .\n"
          ],
          "name": "stdout"
        },
        {
          "output_type": "stream",
          "text": [
            "[Parallel(n_jobs=1)]: Done   6 out of   6 | elapsed:  1.3min remaining:    0.0s\n"
          ],
          "name": "stderr"
        },
        {
          "output_type": "stream",
          "text": [
            "Epoch 1/2\n",
            "Epoch 2/2\n",
            "[CV]  dropout_1=0.1, dropout_2=0.4, lstm_units_1=160, lstm_units_2=80, score=0.169, total=  12.7s\n",
            "[CV] dropout_1=0.1, dropout_2=0.4, lstm_units_1=160, lstm_units_2=80 .\n"
          ],
          "name": "stdout"
        },
        {
          "output_type": "stream",
          "text": [
            "[Parallel(n_jobs=1)]: Done   7 out of   7 | elapsed:  1.5min remaining:    0.0s\n"
          ],
          "name": "stderr"
        },
        {
          "output_type": "stream",
          "text": [
            "Epoch 1/2\n",
            "Epoch 2/2\n",
            "[CV]  dropout_1=0.1, dropout_2=0.4, lstm_units_1=160, lstm_units_2=80, score=0.277, total=  12.7s\n",
            "[CV] dropout_1=0.1, dropout_2=0.4, lstm_units_1=160, lstm_units_2=80 .\n"
          ],
          "name": "stdout"
        },
        {
          "output_type": "stream",
          "text": [
            "[Parallel(n_jobs=1)]: Done   8 out of   8 | elapsed:  1.7min remaining:    0.0s\n"
          ],
          "name": "stderr"
        },
        {
          "output_type": "stream",
          "text": [
            "Epoch 1/2\n",
            "Epoch 2/2\n",
            "[CV]  dropout_1=0.1, dropout_2=0.4, lstm_units_1=160, lstm_units_2=80, score=0.182, total=  12.6s\n",
            "[CV] dropout_1=0.1, dropout_2=0.4, lstm_units_1=160, lstm_units_2=120 \n"
          ],
          "name": "stdout"
        },
        {
          "output_type": "stream",
          "text": [
            "[Parallel(n_jobs=1)]: Done   9 out of   9 | elapsed:  1.9min remaining:    0.0s\n"
          ],
          "name": "stderr"
        },
        {
          "output_type": "stream",
          "text": [
            "Epoch 1/2\n",
            "Epoch 2/2\n",
            "[CV]  dropout_1=0.1, dropout_2=0.4, lstm_units_1=160, lstm_units_2=120, score=0.233, total=  13.1s\n",
            "[CV] dropout_1=0.1, dropout_2=0.4, lstm_units_1=160, lstm_units_2=120 \n",
            "Epoch 1/2\n",
            "Epoch 2/2\n",
            "[CV]  dropout_1=0.1, dropout_2=0.4, lstm_units_1=160, lstm_units_2=120, score=0.315, total=  12.9s\n",
            "[CV] dropout_1=0.1, dropout_2=0.4, lstm_units_1=160, lstm_units_2=120 \n",
            "Epoch 1/2\n",
            "Epoch 2/2\n",
            "[CV]  dropout_1=0.1, dropout_2=0.4, lstm_units_1=160, lstm_units_2=120, score=0.312, total=  12.7s\n",
            "[CV] dropout_1=0.1, dropout_2=0.5, lstm_units_1=140, lstm_units_2=80 .\n",
            "Epoch 1/2\n",
            "Epoch 2/2\n",
            "[CV]  dropout_1=0.1, dropout_2=0.5, lstm_units_1=140, lstm_units_2=80, score=0.234, total=  12.6s\n",
            "[CV] dropout_1=0.1, dropout_2=0.5, lstm_units_1=140, lstm_units_2=80 .\n",
            "Epoch 1/2\n",
            "Epoch 2/2\n",
            "[CV]  dropout_1=0.1, dropout_2=0.5, lstm_units_1=140, lstm_units_2=80, score=0.308, total=  13.2s\n",
            "[CV] dropout_1=0.1, dropout_2=0.5, lstm_units_1=140, lstm_units_2=80 .\n",
            "Epoch 1/2\n",
            "Epoch 2/2\n",
            "[CV]  dropout_1=0.1, dropout_2=0.5, lstm_units_1=140, lstm_units_2=80, score=0.311, total=  12.7s\n",
            "[CV] dropout_1=0.1, dropout_2=0.5, lstm_units_1=140, lstm_units_2=120 \n",
            "Epoch 1/2\n",
            "Epoch 2/2\n",
            "[CV]  dropout_1=0.1, dropout_2=0.5, lstm_units_1=140, lstm_units_2=120, score=0.251, total=  12.7s\n",
            "[CV] dropout_1=0.1, dropout_2=0.5, lstm_units_1=140, lstm_units_2=120 \n",
            "Epoch 1/2\n",
            "Epoch 2/2\n",
            "[CV]  dropout_1=0.1, dropout_2=0.5, lstm_units_1=140, lstm_units_2=120, score=0.256, total=  12.8s\n",
            "[CV] dropout_1=0.1, dropout_2=0.5, lstm_units_1=140, lstm_units_2=120 \n",
            "Epoch 1/2\n",
            "Epoch 2/2\n",
            "[CV]  dropout_1=0.1, dropout_2=0.5, lstm_units_1=140, lstm_units_2=120, score=0.214, total=  13.3s\n",
            "[CV] dropout_1=0.1, dropout_2=0.5, lstm_units_1=160, lstm_units_2=80 .\n",
            "Epoch 1/2\n",
            "Epoch 2/2\n",
            "[CV]  dropout_1=0.1, dropout_2=0.5, lstm_units_1=160, lstm_units_2=80, score=0.238, total=  13.2s\n",
            "[CV] dropout_1=0.1, dropout_2=0.5, lstm_units_1=160, lstm_units_2=80 .\n",
            "Epoch 1/2\n",
            "Epoch 2/2\n",
            "[CV]  dropout_1=0.1, dropout_2=0.5, lstm_units_1=160, lstm_units_2=80, score=0.259, total=  12.7s\n",
            "[CV] dropout_1=0.1, dropout_2=0.5, lstm_units_1=160, lstm_units_2=80 .\n",
            "Epoch 1/2\n",
            "Epoch 2/2\n",
            "[CV]  dropout_1=0.1, dropout_2=0.5, lstm_units_1=160, lstm_units_2=80, score=0.315, total=  12.7s\n",
            "[CV] dropout_1=0.1, dropout_2=0.5, lstm_units_1=160, lstm_units_2=120 \n",
            "Epoch 1/2\n",
            "Epoch 2/2\n",
            "[CV]  dropout_1=0.1, dropout_2=0.5, lstm_units_1=160, lstm_units_2=120, score=0.178, total=  12.7s\n",
            "[CV] dropout_1=0.1, dropout_2=0.5, lstm_units_1=160, lstm_units_2=120 \n",
            "Epoch 1/2\n",
            "Epoch 2/2\n",
            "[CV]  dropout_1=0.1, dropout_2=0.5, lstm_units_1=160, lstm_units_2=120, score=0.268, total=  13.4s\n",
            "[CV] dropout_1=0.1, dropout_2=0.5, lstm_units_1=160, lstm_units_2=120 \n",
            "Epoch 1/2\n",
            "Epoch 2/2\n",
            "[CV]  dropout_1=0.1, dropout_2=0.5, lstm_units_1=160, lstm_units_2=120, score=0.207, total=  13.0s\n",
            "[CV] dropout_1=0.1, dropout_2=0.6, lstm_units_1=140, lstm_units_2=80 .\n",
            "Epoch 1/2\n",
            "Epoch 2/2\n",
            "[CV]  dropout_1=0.1, dropout_2=0.6, lstm_units_1=140, lstm_units_2=80, score=0.288, total=  12.8s\n",
            "[CV] dropout_1=0.1, dropout_2=0.6, lstm_units_1=140, lstm_units_2=80 .\n",
            "Epoch 1/2\n",
            "Epoch 2/2\n",
            "[CV]  dropout_1=0.1, dropout_2=0.6, lstm_units_1=140, lstm_units_2=80, score=0.304, total=  12.6s\n",
            "[CV] dropout_1=0.1, dropout_2=0.6, lstm_units_1=140, lstm_units_2=80 .\n",
            "Epoch 1/2\n",
            "Epoch 2/2\n",
            "[CV]  dropout_1=0.1, dropout_2=0.6, lstm_units_1=140, lstm_units_2=80, score=0.227, total=  13.3s\n",
            "[CV] dropout_1=0.1, dropout_2=0.6, lstm_units_1=140, lstm_units_2=120 \n",
            "Epoch 1/2\n",
            "Epoch 2/2\n",
            "[CV]  dropout_1=0.1, dropout_2=0.6, lstm_units_1=140, lstm_units_2=120, score=0.267, total=  12.8s\n",
            "[CV] dropout_1=0.1, dropout_2=0.6, lstm_units_1=140, lstm_units_2=120 \n",
            "Epoch 1/2\n",
            "Epoch 2/2\n",
            "[CV]  dropout_1=0.1, dropout_2=0.6, lstm_units_1=140, lstm_units_2=120, score=0.248, total=  12.8s\n",
            "[CV] dropout_1=0.1, dropout_2=0.6, lstm_units_1=140, lstm_units_2=120 \n",
            "Epoch 1/2\n",
            "Epoch 2/2\n",
            "[CV]  dropout_1=0.1, dropout_2=0.6, lstm_units_1=140, lstm_units_2=120, score=0.323, total=  12.7s\n",
            "[CV] dropout_1=0.1, dropout_2=0.6, lstm_units_1=160, lstm_units_2=80 .\n",
            "Epoch 1/2\n",
            "Epoch 2/2\n",
            "[CV]  dropout_1=0.1, dropout_2=0.6, lstm_units_1=160, lstm_units_2=80, score=0.200, total=  13.5s\n",
            "[CV] dropout_1=0.1, dropout_2=0.6, lstm_units_1=160, lstm_units_2=80 .\n",
            "Epoch 1/2\n",
            "Epoch 2/2\n",
            "[CV]  dropout_1=0.1, dropout_2=0.6, lstm_units_1=160, lstm_units_2=80, score=0.350, total=  12.9s\n",
            "[CV] dropout_1=0.1, dropout_2=0.6, lstm_units_1=160, lstm_units_2=80 .\n",
            "Epoch 1/2\n",
            "Epoch 2/2\n",
            "[CV]  dropout_1=0.1, dropout_2=0.6, lstm_units_1=160, lstm_units_2=80, score=0.198, total=  12.8s\n",
            "[CV] dropout_1=0.1, dropout_2=0.6, lstm_units_1=160, lstm_units_2=120 \n",
            "Epoch 1/2\n",
            "Epoch 2/2\n",
            "[CV]  dropout_1=0.1, dropout_2=0.6, lstm_units_1=160, lstm_units_2=120, score=0.268, total=  12.6s\n",
            "[CV] dropout_1=0.1, dropout_2=0.6, lstm_units_1=160, lstm_units_2=120 \n",
            "Epoch 1/2\n",
            "Epoch 2/2\n",
            "[CV]  dropout_1=0.1, dropout_2=0.6, lstm_units_1=160, lstm_units_2=120, score=0.275, total=  13.6s\n",
            "[CV] dropout_1=0.1, dropout_2=0.6, lstm_units_1=160, lstm_units_2=120 \n",
            "Epoch 1/2\n",
            "Epoch 2/2\n",
            "[CV]  dropout_1=0.1, dropout_2=0.6, lstm_units_1=160, lstm_units_2=120, score=0.193, total=  13.1s\n",
            "[CV] dropout_1=0.2, dropout_2=0.4, lstm_units_1=140, lstm_units_2=80 .\n",
            "Epoch 1/2\n",
            "Epoch 2/2\n",
            "[CV]  dropout_1=0.2, dropout_2=0.4, lstm_units_1=140, lstm_units_2=80, score=0.293, total=  12.9s\n",
            "[CV] dropout_1=0.2, dropout_2=0.4, lstm_units_1=140, lstm_units_2=80 .\n",
            "Epoch 1/2\n",
            "Epoch 2/2\n",
            "[CV]  dropout_1=0.2, dropout_2=0.4, lstm_units_1=140, lstm_units_2=80, score=0.358, total=  12.8s\n",
            "[CV] dropout_1=0.2, dropout_2=0.4, lstm_units_1=140, lstm_units_2=80 .\n",
            "Epoch 1/2\n",
            "Epoch 2/2\n",
            "[CV]  dropout_1=0.2, dropout_2=0.4, lstm_units_1=140, lstm_units_2=80, score=0.338, total=  13.6s\n",
            "[CV] dropout_1=0.2, dropout_2=0.4, lstm_units_1=140, lstm_units_2=120 \n",
            "Epoch 1/2\n",
            "Epoch 2/2\n",
            "[CV]  dropout_1=0.2, dropout_2=0.4, lstm_units_1=140, lstm_units_2=120, score=0.275, total=  13.2s\n",
            "[CV] dropout_1=0.2, dropout_2=0.4, lstm_units_1=140, lstm_units_2=120 \n",
            "Epoch 1/2\n",
            "Epoch 2/2\n",
            "[CV]  dropout_1=0.2, dropout_2=0.4, lstm_units_1=140, lstm_units_2=120, score=0.282, total=  12.9s\n",
            "[CV] dropout_1=0.2, dropout_2=0.4, lstm_units_1=140, lstm_units_2=120 \n",
            "Epoch 1/2\n",
            "Epoch 2/2\n",
            "[CV]  dropout_1=0.2, dropout_2=0.4, lstm_units_1=140, lstm_units_2=120, score=0.298, total=  13.0s\n",
            "[CV] dropout_1=0.2, dropout_2=0.4, lstm_units_1=160, lstm_units_2=80 .\n",
            "Epoch 1/2\n",
            "Epoch 2/2\n",
            "[CV]  dropout_1=0.2, dropout_2=0.4, lstm_units_1=160, lstm_units_2=80, score=0.173, total=  13.1s\n",
            "[CV] dropout_1=0.2, dropout_2=0.4, lstm_units_1=160, lstm_units_2=80 .\n",
            "Epoch 1/2\n",
            "Epoch 2/2\n",
            "[CV]  dropout_1=0.2, dropout_2=0.4, lstm_units_1=160, lstm_units_2=80, score=0.361, total=  13.8s\n",
            "[CV] dropout_1=0.2, dropout_2=0.4, lstm_units_1=160, lstm_units_2=80 .\n",
            "Epoch 1/2\n",
            "Epoch 2/2\n",
            "[CV]  dropout_1=0.2, dropout_2=0.4, lstm_units_1=160, lstm_units_2=80, score=0.331, total=  13.1s\n",
            "[CV] dropout_1=0.2, dropout_2=0.4, lstm_units_1=160, lstm_units_2=120 \n",
            "Epoch 1/2\n",
            "Epoch 2/2\n",
            "[CV]  dropout_1=0.2, dropout_2=0.4, lstm_units_1=160, lstm_units_2=120, score=0.210, total=  13.0s\n",
            "[CV] dropout_1=0.2, dropout_2=0.4, lstm_units_1=160, lstm_units_2=120 \n",
            "Epoch 1/2\n",
            "Epoch 2/2\n",
            "[CV]  dropout_1=0.2, dropout_2=0.4, lstm_units_1=160, lstm_units_2=120, score=0.208, total=  13.1s\n",
            "[CV] dropout_1=0.2, dropout_2=0.4, lstm_units_1=160, lstm_units_2=120 \n",
            "Epoch 1/2\n",
            "Epoch 2/2\n",
            "[CV]  dropout_1=0.2, dropout_2=0.4, lstm_units_1=160, lstm_units_2=120, score=0.297, total=  13.8s\n",
            "[CV] dropout_1=0.2, dropout_2=0.5, lstm_units_1=140, lstm_units_2=80 .\n",
            "Epoch 1/2\n",
            "Epoch 2/2\n",
            "[CV]  dropout_1=0.2, dropout_2=0.5, lstm_units_1=140, lstm_units_2=80, score=0.278, total=  13.2s\n",
            "[CV] dropout_1=0.2, dropout_2=0.5, lstm_units_1=140, lstm_units_2=80 .\n",
            "Epoch 1/2\n",
            "Epoch 2/2\n",
            "[CV]  dropout_1=0.2, dropout_2=0.5, lstm_units_1=140, lstm_units_2=80, score=0.320, total=  13.0s\n",
            "[CV] dropout_1=0.2, dropout_2=0.5, lstm_units_1=140, lstm_units_2=80 .\n",
            "Epoch 1/2\n",
            "Epoch 2/2\n",
            "[CV]  dropout_1=0.2, dropout_2=0.5, lstm_units_1=140, lstm_units_2=80, score=0.293, total=  13.1s\n",
            "[CV] dropout_1=0.2, dropout_2=0.5, lstm_units_1=140, lstm_units_2=120 \n",
            "Epoch 1/2\n",
            "Epoch 2/2\n",
            "[CV]  dropout_1=0.2, dropout_2=0.5, lstm_units_1=140, lstm_units_2=120, score=0.259, total=  13.8s\n",
            "[CV] dropout_1=0.2, dropout_2=0.5, lstm_units_1=140, lstm_units_2=120 \n",
            "Epoch 1/2\n",
            "Epoch 2/2\n",
            "[CV]  dropout_1=0.2, dropout_2=0.5, lstm_units_1=140, lstm_units_2=120, score=0.317, total=  13.2s\n",
            "[CV] dropout_1=0.2, dropout_2=0.5, lstm_units_1=140, lstm_units_2=120 \n",
            "Epoch 1/2\n",
            "Epoch 2/2\n",
            "[CV]  dropout_1=0.2, dropout_2=0.5, lstm_units_1=140, lstm_units_2=120, score=0.273, total=  13.1s\n",
            "[CV] dropout_1=0.2, dropout_2=0.5, lstm_units_1=160, lstm_units_2=80 .\n",
            "Epoch 1/2\n",
            "Epoch 2/2\n",
            "[CV]  dropout_1=0.2, dropout_2=0.5, lstm_units_1=160, lstm_units_2=80, score=0.242, total=  13.3s\n",
            "[CV] dropout_1=0.2, dropout_2=0.5, lstm_units_1=160, lstm_units_2=80 .\n",
            "Epoch 1/2\n",
            "Epoch 2/2\n",
            "[CV]  dropout_1=0.2, dropout_2=0.5, lstm_units_1=160, lstm_units_2=80, score=0.316, total=  14.0s\n",
            "[CV] dropout_1=0.2, dropout_2=0.5, lstm_units_1=160, lstm_units_2=80 .\n",
            "Epoch 1/2\n",
            "Epoch 2/2\n",
            "[CV]  dropout_1=0.2, dropout_2=0.5, lstm_units_1=160, lstm_units_2=80, score=0.314, total=  13.2s\n",
            "[CV] dropout_1=0.2, dropout_2=0.5, lstm_units_1=160, lstm_units_2=120 \n",
            "Epoch 1/2\n",
            "Epoch 2/2\n",
            "[CV]  dropout_1=0.2, dropout_2=0.5, lstm_units_1=160, lstm_units_2=120, score=0.242, total=  13.3s\n",
            "[CV] dropout_1=0.2, dropout_2=0.5, lstm_units_1=160, lstm_units_2=120 \n",
            "Epoch 1/2\n",
            "Epoch 2/2\n",
            "[CV]  dropout_1=0.2, dropout_2=0.5, lstm_units_1=160, lstm_units_2=120, score=0.351, total=  13.2s\n",
            "[CV] dropout_1=0.2, dropout_2=0.5, lstm_units_1=160, lstm_units_2=120 \n",
            "Epoch 1/2\n",
            "Epoch 2/2\n",
            "[CV]  dropout_1=0.2, dropout_2=0.5, lstm_units_1=160, lstm_units_2=120, score=0.332, total=  14.1s\n",
            "[CV] dropout_1=0.2, dropout_2=0.6, lstm_units_1=140, lstm_units_2=80 .\n",
            "Epoch 1/2\n",
            "Epoch 2/2\n",
            "[CV]  dropout_1=0.2, dropout_2=0.6, lstm_units_1=140, lstm_units_2=80, score=0.319, total=  13.4s\n",
            "[CV] dropout_1=0.2, dropout_2=0.6, lstm_units_1=140, lstm_units_2=80 .\n",
            "Epoch 1/2\n",
            "Epoch 2/2\n",
            "[CV]  dropout_1=0.2, dropout_2=0.6, lstm_units_1=140, lstm_units_2=80, score=0.264, total=  13.2s\n",
            "[CV] dropout_1=0.2, dropout_2=0.6, lstm_units_1=140, lstm_units_2=80 .\n",
            "Epoch 1/2\n",
            "Epoch 2/2\n",
            "[CV]  dropout_1=0.2, dropout_2=0.6, lstm_units_1=140, lstm_units_2=80, score=0.318, total=  13.3s\n",
            "[CV] dropout_1=0.2, dropout_2=0.6, lstm_units_1=140, lstm_units_2=120 \n",
            "Epoch 1/2\n",
            "Epoch 2/2\n",
            "[CV]  dropout_1=0.2, dropout_2=0.6, lstm_units_1=140, lstm_units_2=120, score=0.202, total=  14.1s\n",
            "[CV] dropout_1=0.2, dropout_2=0.6, lstm_units_1=140, lstm_units_2=120 \n",
            "Epoch 1/2\n",
            "Epoch 2/2\n",
            "[CV]  dropout_1=0.2, dropout_2=0.6, lstm_units_1=140, lstm_units_2=120, score=0.274, total=  13.3s\n",
            "[CV] dropout_1=0.2, dropout_2=0.6, lstm_units_1=140, lstm_units_2=120 \n",
            "Epoch 1/2\n",
            "Epoch 2/2\n",
            "[CV]  dropout_1=0.2, dropout_2=0.6, lstm_units_1=140, lstm_units_2=120, score=0.184, total=  13.6s\n",
            "[CV] dropout_1=0.2, dropout_2=0.6, lstm_units_1=160, lstm_units_2=80 .\n",
            "Epoch 1/2\n",
            "Epoch 2/2\n",
            "[CV]  dropout_1=0.2, dropout_2=0.6, lstm_units_1=160, lstm_units_2=80, score=0.201, total=  13.5s\n",
            "[CV] dropout_1=0.2, dropout_2=0.6, lstm_units_1=160, lstm_units_2=80 .\n",
            "Epoch 1/2\n",
            "Epoch 2/2\n",
            "[CV]  dropout_1=0.2, dropout_2=0.6, lstm_units_1=160, lstm_units_2=80, score=0.299, total=  14.2s\n",
            "[CV] dropout_1=0.2, dropout_2=0.6, lstm_units_1=160, lstm_units_2=80 .\n",
            "Epoch 1/2\n",
            "Epoch 2/2\n",
            "[CV]  dropout_1=0.2, dropout_2=0.6, lstm_units_1=160, lstm_units_2=80, score=0.235, total=  13.4s\n",
            "[CV] dropout_1=0.2, dropout_2=0.6, lstm_units_1=160, lstm_units_2=120 \n",
            "Epoch 1/2\n",
            "Epoch 2/2\n",
            "[CV]  dropout_1=0.2, dropout_2=0.6, lstm_units_1=160, lstm_units_2=120, score=0.169, total=  13.6s\n",
            "[CV] dropout_1=0.2, dropout_2=0.6, lstm_units_1=160, lstm_units_2=120 \n",
            "Epoch 1/2\n",
            "Epoch 2/2\n",
            "[CV]  dropout_1=0.2, dropout_2=0.6, lstm_units_1=160, lstm_units_2=120, score=0.234, total=  13.3s\n",
            "[CV] dropout_1=0.2, dropout_2=0.6, lstm_units_1=160, lstm_units_2=120 \n",
            "Epoch 1/2\n",
            "Epoch 2/2\n",
            "[CV]  dropout_1=0.2, dropout_2=0.6, lstm_units_1=160, lstm_units_2=120, score=0.355, total=  14.4s\n",
            "[CV] dropout_1=0.3, dropout_2=0.4, lstm_units_1=140, lstm_units_2=80 .\n",
            "Epoch 1/2\n",
            "Epoch 2/2\n",
            "[CV]  dropout_1=0.3, dropout_2=0.4, lstm_units_1=140, lstm_units_2=80, score=0.166, total=  13.6s\n",
            "[CV] dropout_1=0.3, dropout_2=0.4, lstm_units_1=140, lstm_units_2=80 .\n",
            "Epoch 1/2\n",
            "Epoch 2/2\n",
            "[CV]  dropout_1=0.3, dropout_2=0.4, lstm_units_1=140, lstm_units_2=80, score=0.208, total=  13.3s\n",
            "[CV] dropout_1=0.3, dropout_2=0.4, lstm_units_1=140, lstm_units_2=80 .\n",
            "Epoch 1/2\n",
            "Epoch 2/2\n",
            "[CV]  dropout_1=0.3, dropout_2=0.4, lstm_units_1=140, lstm_units_2=80, score=0.203, total=  13.5s\n",
            "[CV] dropout_1=0.3, dropout_2=0.4, lstm_units_1=140, lstm_units_2=120 \n",
            "Epoch 1/2\n",
            "Epoch 2/2\n",
            "[CV]  dropout_1=0.3, dropout_2=0.4, lstm_units_1=140, lstm_units_2=120, score=0.228, total=  14.4s\n",
            "[CV] dropout_1=0.3, dropout_2=0.4, lstm_units_1=140, lstm_units_2=120 \n",
            "Epoch 1/2\n",
            "Epoch 2/2\n",
            "[CV]  dropout_1=0.3, dropout_2=0.4, lstm_units_1=140, lstm_units_2=120, score=0.266, total=  13.6s\n",
            "[CV] dropout_1=0.3, dropout_2=0.4, lstm_units_1=140, lstm_units_2=120 \n",
            "Epoch 1/2\n",
            "Epoch 2/2\n",
            "[CV]  dropout_1=0.3, dropout_2=0.4, lstm_units_1=140, lstm_units_2=120, score=0.313, total=  13.6s\n",
            "[CV] dropout_1=0.3, dropout_2=0.4, lstm_units_1=160, lstm_units_2=80 .\n",
            "Epoch 1/2\n",
            "Epoch 2/2\n",
            "[CV]  dropout_1=0.3, dropout_2=0.4, lstm_units_1=160, lstm_units_2=80, score=0.278, total=  13.6s\n",
            "[CV] dropout_1=0.3, dropout_2=0.4, lstm_units_1=160, lstm_units_2=80 .\n",
            "Epoch 1/2\n",
            "Epoch 2/2\n",
            "[CV]  dropout_1=0.3, dropout_2=0.4, lstm_units_1=160, lstm_units_2=80, score=0.295, total=  14.5s\n",
            "[CV] dropout_1=0.3, dropout_2=0.4, lstm_units_1=160, lstm_units_2=80 .\n",
            "Epoch 1/2\n",
            "Epoch 2/2\n",
            "[CV]  dropout_1=0.3, dropout_2=0.4, lstm_units_1=160, lstm_units_2=80, score=0.236, total=  13.7s\n",
            "[CV] dropout_1=0.3, dropout_2=0.4, lstm_units_1=160, lstm_units_2=120 \n",
            "Epoch 1/2\n",
            "Epoch 2/2\n",
            "[CV]  dropout_1=0.3, dropout_2=0.4, lstm_units_1=160, lstm_units_2=120, score=0.197, total=  13.7s\n",
            "[CV] dropout_1=0.3, dropout_2=0.4, lstm_units_1=160, lstm_units_2=120 \n",
            "Epoch 1/2\n",
            "Epoch 2/2\n",
            "[CV]  dropout_1=0.3, dropout_2=0.4, lstm_units_1=160, lstm_units_2=120, score=0.324, total=  13.5s\n",
            "[CV] dropout_1=0.3, dropout_2=0.4, lstm_units_1=160, lstm_units_2=120 \n",
            "Epoch 1/2\n",
            "Epoch 2/2\n",
            "[CV]  dropout_1=0.3, dropout_2=0.4, lstm_units_1=160, lstm_units_2=120, score=0.290, total=  13.8s\n",
            "[CV] dropout_1=0.3, dropout_2=0.5, lstm_units_1=140, lstm_units_2=80 .\n",
            "Epoch 1/2\n",
            "Epoch 2/2\n",
            "[CV]  dropout_1=0.3, dropout_2=0.5, lstm_units_1=140, lstm_units_2=80, score=0.247, total=  14.5s\n",
            "[CV] dropout_1=0.3, dropout_2=0.5, lstm_units_1=140, lstm_units_2=80 .\n",
            "Epoch 1/2\n",
            "Epoch 2/2\n",
            "[CV]  dropout_1=0.3, dropout_2=0.5, lstm_units_1=140, lstm_units_2=80, score=0.375, total=  13.8s\n",
            "[CV] dropout_1=0.3, dropout_2=0.5, lstm_units_1=140, lstm_units_2=80 .\n",
            "Epoch 1/2\n",
            "Epoch 2/2\n",
            "[CV]  dropout_1=0.3, dropout_2=0.5, lstm_units_1=140, lstm_units_2=80, score=0.302, total=  13.6s\n",
            "[CV] dropout_1=0.3, dropout_2=0.5, lstm_units_1=140, lstm_units_2=120 \n",
            "Epoch 1/2\n",
            "Epoch 2/2\n",
            "[CV]  dropout_1=0.3, dropout_2=0.5, lstm_units_1=140, lstm_units_2=120, score=0.171, total=  13.8s\n",
            "[CV] dropout_1=0.3, dropout_2=0.5, lstm_units_1=140, lstm_units_2=120 \n",
            "Epoch 1/2\n",
            "Epoch 2/2\n",
            "[CV]  dropout_1=0.3, dropout_2=0.5, lstm_units_1=140, lstm_units_2=120, score=0.352, total=  14.9s\n",
            "[CV] dropout_1=0.3, dropout_2=0.5, lstm_units_1=140, lstm_units_2=120 \n",
            "Epoch 1/2\n",
            "Epoch 2/2\n",
            "[CV]  dropout_1=0.3, dropout_2=0.5, lstm_units_1=140, lstm_units_2=120, score=0.192, total=  13.9s\n",
            "[CV] dropout_1=0.3, dropout_2=0.5, lstm_units_1=160, lstm_units_2=80 .\n",
            "Epoch 1/2\n",
            "Epoch 2/2\n",
            "[CV]  dropout_1=0.3, dropout_2=0.5, lstm_units_1=160, lstm_units_2=80, score=0.193, total=  13.9s\n",
            "[CV] dropout_1=0.3, dropout_2=0.5, lstm_units_1=160, lstm_units_2=80 .\n",
            "Epoch 1/2\n",
            "Epoch 2/2\n",
            "[CV]  dropout_1=0.3, dropout_2=0.5, lstm_units_1=160, lstm_units_2=80, score=0.338, total=  13.9s\n",
            "[CV] dropout_1=0.3, dropout_2=0.5, lstm_units_1=160, lstm_units_2=80 .\n",
            "Epoch 1/2\n",
            "Epoch 2/2\n",
            "[CV]  dropout_1=0.3, dropout_2=0.5, lstm_units_1=160, lstm_units_2=80, score=0.187, total=  14.9s\n",
            "[CV] dropout_1=0.3, dropout_2=0.5, lstm_units_1=160, lstm_units_2=120 \n",
            "Epoch 1/2\n",
            "Epoch 2/2\n",
            "[CV]  dropout_1=0.3, dropout_2=0.5, lstm_units_1=160, lstm_units_2=120, score=0.169, total=  13.9s\n",
            "[CV] dropout_1=0.3, dropout_2=0.5, lstm_units_1=160, lstm_units_2=120 \n",
            "Epoch 1/2\n",
            "Epoch 2/2\n",
            "[CV]  dropout_1=0.3, dropout_2=0.5, lstm_units_1=160, lstm_units_2=120, score=0.350, total=  13.9s\n",
            "[CV] dropout_1=0.3, dropout_2=0.5, lstm_units_1=160, lstm_units_2=120 \n",
            "Epoch 1/2\n",
            "Epoch 2/2\n",
            "[CV]  dropout_1=0.3, dropout_2=0.5, lstm_units_1=160, lstm_units_2=120, score=0.330, total=  13.9s\n",
            "[CV] dropout_1=0.3, dropout_2=0.6, lstm_units_1=140, lstm_units_2=80 .\n",
            "Epoch 1/2\n",
            "Epoch 2/2\n",
            "[CV]  dropout_1=0.3, dropout_2=0.6, lstm_units_1=140, lstm_units_2=80, score=0.239, total=  14.9s\n",
            "[CV] dropout_1=0.3, dropout_2=0.6, lstm_units_1=140, lstm_units_2=80 .\n",
            "Epoch 1/2\n",
            "Epoch 2/2\n",
            "[CV]  dropout_1=0.3, dropout_2=0.6, lstm_units_1=140, lstm_units_2=80, score=0.249, total=  13.9s\n",
            "[CV] dropout_1=0.3, dropout_2=0.6, lstm_units_1=140, lstm_units_2=80 .\n",
            "Epoch 1/2\n",
            "Epoch 2/2\n",
            "[CV]  dropout_1=0.3, dropout_2=0.6, lstm_units_1=140, lstm_units_2=80, score=0.316, total=  13.9s\n",
            "[CV] dropout_1=0.3, dropout_2=0.6, lstm_units_1=140, lstm_units_2=120 \n",
            "Epoch 1/2\n",
            "Epoch 2/2\n",
            "[CV]  dropout_1=0.3, dropout_2=0.6, lstm_units_1=140, lstm_units_2=120, score=0.318, total=  13.9s\n",
            "[CV] dropout_1=0.3, dropout_2=0.6, lstm_units_1=140, lstm_units_2=120 \n",
            "Epoch 1/2\n",
            "Epoch 2/2\n",
            "[CV]  dropout_1=0.3, dropout_2=0.6, lstm_units_1=140, lstm_units_2=120, score=0.235, total=  15.1s\n",
            "[CV] dropout_1=0.3, dropout_2=0.6, lstm_units_1=140, lstm_units_2=120 \n",
            "Epoch 1/2\n",
            "Epoch 2/2\n",
            "[CV]  dropout_1=0.3, dropout_2=0.6, lstm_units_1=140, lstm_units_2=120, score=0.261, total=  14.1s\n",
            "[CV] dropout_1=0.3, dropout_2=0.6, lstm_units_1=160, lstm_units_2=80 .\n",
            "Epoch 1/2\n",
            "Epoch 2/2\n",
            "[CV]  dropout_1=0.3, dropout_2=0.6, lstm_units_1=160, lstm_units_2=80, score=0.181, total=  14.0s\n",
            "[CV] dropout_1=0.3, dropout_2=0.6, lstm_units_1=160, lstm_units_2=80 .\n",
            "Epoch 1/2\n",
            "Epoch 2/2\n",
            "[CV]  dropout_1=0.3, dropout_2=0.6, lstm_units_1=160, lstm_units_2=80, score=0.266, total=  14.0s\n",
            "[CV] dropout_1=0.3, dropout_2=0.6, lstm_units_1=160, lstm_units_2=80 .\n",
            "Epoch 1/2\n",
            "Epoch 2/2\n",
            "[CV]  dropout_1=0.3, dropout_2=0.6, lstm_units_1=160, lstm_units_2=80, score=0.186, total=  15.1s\n",
            "[CV] dropout_1=0.3, dropout_2=0.6, lstm_units_1=160, lstm_units_2=120 \n",
            "Epoch 1/2\n",
            "Epoch 2/2\n",
            "[CV]  dropout_1=0.3, dropout_2=0.6, lstm_units_1=160, lstm_units_2=120, score=0.313, total=  14.3s\n",
            "[CV] dropout_1=0.3, dropout_2=0.6, lstm_units_1=160, lstm_units_2=120 \n",
            "Epoch 1/2\n",
            "Epoch 2/2\n",
            "[CV]  dropout_1=0.3, dropout_2=0.6, lstm_units_1=160, lstm_units_2=120, score=0.245, total=  14.3s\n",
            "[CV] dropout_1=0.3, dropout_2=0.6, lstm_units_1=160, lstm_units_2=120 \n",
            "Epoch 1/2\n",
            "Epoch 2/2\n",
            "[CV]  dropout_1=0.3, dropout_2=0.6, lstm_units_1=160, lstm_units_2=120, score=0.188, total=  14.2s\n"
          ],
          "name": "stdout"
        },
        {
          "output_type": "stream",
          "text": [
            "[Parallel(n_jobs=1)]: Done 108 out of 108 | elapsed: 24.2min finished\n"
          ],
          "name": "stderr"
        },
        {
          "output_type": "stream",
          "text": [
            "Epoch 1/2\n",
            "Epoch 2/2\n",
            "Best: 0.329707 using {'dropout_1': 0.2, 'dropout_2': 0.4, 'lstm_units_1': 140, 'lstm_units_2': 80}\n",
            "0.251774 (0.059173) with: {'dropout_1': 0.1, 'dropout_2': 0.4, 'lstm_units_1': 140, 'lstm_units_2': 80}\n",
            "0.261570 (0.067592) with: {'dropout_1': 0.1, 'dropout_2': 0.4, 'lstm_units_1': 140, 'lstm_units_2': 120}\n",
            "0.209055 (0.048095) with: {'dropout_1': 0.1, 'dropout_2': 0.4, 'lstm_units_1': 160, 'lstm_units_2': 80}\n",
            "0.286456 (0.038133) with: {'dropout_1': 0.1, 'dropout_2': 0.4, 'lstm_units_1': 160, 'lstm_units_2': 120}\n",
            "0.284144 (0.035344) with: {'dropout_1': 0.1, 'dropout_2': 0.5, 'lstm_units_1': 140, 'lstm_units_2': 80}\n",
            "0.240203 (0.018454) with: {'dropout_1': 0.1, 'dropout_2': 0.5, 'lstm_units_1': 140, 'lstm_units_2': 120}\n",
            "0.270817 (0.032212) with: {'dropout_1': 0.1, 'dropout_2': 0.5, 'lstm_units_1': 160, 'lstm_units_2': 80}\n",
            "0.218034 (0.037578) with: {'dropout_1': 0.1, 'dropout_2': 0.5, 'lstm_units_1': 160, 'lstm_units_2': 120}\n",
            "0.272845 (0.033137) with: {'dropout_1': 0.1, 'dropout_2': 0.6, 'lstm_units_1': 140, 'lstm_units_2': 80}\n",
            "0.279658 (0.031773) with: {'dropout_1': 0.1, 'dropout_2': 0.6, 'lstm_units_1': 140, 'lstm_units_2': 120}\n",
            "0.249449 (0.071434) with: {'dropout_1': 0.1, 'dropout_2': 0.6, 'lstm_units_1': 160, 'lstm_units_2': 80}\n",
            "0.245368 (0.036820) with: {'dropout_1': 0.1, 'dropout_2': 0.6, 'lstm_units_1': 160, 'lstm_units_2': 120}\n",
            "0.329707 (0.027182) with: {'dropout_1': 0.2, 'dropout_2': 0.4, 'lstm_units_1': 140, 'lstm_units_2': 80}\n",
            "0.284958 (0.009396) with: {'dropout_1': 0.2, 'dropout_2': 0.4, 'lstm_units_1': 140, 'lstm_units_2': 120}\n",
            "0.288635 (0.082688) with: {'dropout_1': 0.2, 'dropout_2': 0.4, 'lstm_units_1': 160, 'lstm_units_2': 80}\n",
            "0.238583 (0.041414) with: {'dropout_1': 0.2, 'dropout_2': 0.4, 'lstm_units_1': 160, 'lstm_units_2': 120}\n",
            "0.297061 (0.017552) with: {'dropout_1': 0.2, 'dropout_2': 0.5, 'lstm_units_1': 140, 'lstm_units_2': 80}\n",
            "0.283459 (0.024684) with: {'dropout_1': 0.2, 'dropout_2': 0.5, 'lstm_units_1': 140, 'lstm_units_2': 120}\n",
            "0.290536 (0.034370) with: {'dropout_1': 0.2, 'dropout_2': 0.5, 'lstm_units_1': 160, 'lstm_units_2': 80}\n",
            "0.308355 (0.047884) with: {'dropout_1': 0.2, 'dropout_2': 0.5, 'lstm_units_1': 160, 'lstm_units_2': 120}\n",
            "0.300057 (0.025805) with: {'dropout_1': 0.2, 'dropout_2': 0.6, 'lstm_units_1': 140, 'lstm_units_2': 80}\n",
            "0.220071 (0.038885) with: {'dropout_1': 0.2, 'dropout_2': 0.6, 'lstm_units_1': 140, 'lstm_units_2': 120}\n",
            "0.245102 (0.040924) with: {'dropout_1': 0.2, 'dropout_2': 0.6, 'lstm_units_1': 160, 'lstm_units_2': 80}\n",
            "0.252598 (0.076955) with: {'dropout_1': 0.2, 'dropout_2': 0.6, 'lstm_units_1': 160, 'lstm_units_2': 120}\n",
            "0.192738 (0.018701) with: {'dropout_1': 0.3, 'dropout_2': 0.4, 'lstm_units_1': 140, 'lstm_units_2': 80}\n",
            "0.268912 (0.035109) with: {'dropout_1': 0.3, 'dropout_2': 0.4, 'lstm_units_1': 140, 'lstm_units_2': 120}\n",
            "0.269718 (0.024950) with: {'dropout_1': 0.3, 'dropout_2': 0.4, 'lstm_units_1': 160, 'lstm_units_2': 80}\n",
            "0.270269 (0.053524) with: {'dropout_1': 0.3, 'dropout_2': 0.4, 'lstm_units_1': 160, 'lstm_units_2': 120}\n",
            "0.307807 (0.052294) with: {'dropout_1': 0.3, 'dropout_2': 0.5, 'lstm_units_1': 140, 'lstm_units_2': 80}\n",
            "0.238432 (0.080845) with: {'dropout_1': 0.3, 'dropout_2': 0.5, 'lstm_units_1': 140, 'lstm_units_2': 120}\n",
            "0.239520 (0.069848) with: {'dropout_1': 0.3, 'dropout_2': 0.5, 'lstm_units_1': 160, 'lstm_units_2': 80}\n",
            "0.283059 (0.080817) with: {'dropout_1': 0.3, 'dropout_2': 0.5, 'lstm_units_1': 160, 'lstm_units_2': 120}\n",
            "0.268097 (0.033764) with: {'dropout_1': 0.3, 'dropout_2': 0.6, 'lstm_units_1': 140, 'lstm_units_2': 80}\n",
            "0.271489 (0.034746) with: {'dropout_1': 0.3, 'dropout_2': 0.6, 'lstm_units_1': 140, 'lstm_units_2': 120}\n",
            "0.211232 (0.039078) with: {'dropout_1': 0.3, 'dropout_2': 0.6, 'lstm_units_1': 160, 'lstm_units_2': 80}\n",
            "0.248632 (0.051161) with: {'dropout_1': 0.3, 'dropout_2': 0.6, 'lstm_units_1': 160, 'lstm_units_2': 120}\n"
          ],
          "name": "stdout"
        }
      ]
    },
    {
      "cell_type": "markdown",
      "metadata": {
        "id": "uayWH2beN8UB",
        "colab_type": "text"
      },
      "source": [
        "### 3.4 Best Hyperparameter for 2 Layered LSTM"
      ]
    },
    {
      "cell_type": "code",
      "metadata": {
        "id": "bOiF5c_Dsrcz",
        "colab_type": "code",
        "outputId": "d625b8af-07de-4fce-8478-687959b61eef",
        "colab": {
          "base_uri": "https://localhost:8080/",
          "height": 102
        }
      },
      "source": [
        "print(\"=\"*80)\n",
        "print(\"Best_Hyperparamaeter_LSTM::\")\n",
        "print(\"-\"*80)\n",
        "print(grid_result.best_params_)\n",
        "print(\"=\"*80)"
      ],
      "execution_count": 75,
      "outputs": [
        {
          "output_type": "stream",
          "text": [
            "================================================================================\n",
            "Best_Hyperparamaeter_LSTM::\n",
            "--------------------------------------------------------------------------------\n",
            "{'dropout_1': 0.2, 'dropout_2': 0.4, 'lstm_units_1': 140, 'lstm_units_2': 80}\n",
            "================================================================================\n"
          ],
          "name": "stdout"
        }
      ]
    },
    {
      "cell_type": "markdown",
      "metadata": {
        "id": "VaqepkB6NPwa",
        "colab_type": "text"
      },
      "source": [
        "## 3.5 Best LSTM model with Best Hyperparameter "
      ]
    },
    {
      "cell_type": "code",
      "metadata": {
        "id": "badMRzaRsrOR",
        "colab_type": "code",
        "colab": {}
      },
      "source": [
        "tf.keras.backend.clear_session()"
      ],
      "execution_count": 0,
      "outputs": []
    },
    {
      "cell_type": "code",
      "metadata": {
        "id": "5wKN1H4Zsi86",
        "colab_type": "code",
        "outputId": "7b74a1b6-f9c8-440a-ca0c-5e344dde7f37",
        "colab": {
          "base_uri": "https://localhost:8080/",
          "height": 323
        }
      },
      "source": [
        "# Importing libraries\n",
        "#https://machinelearningmastery.com/how-to-reduce-overfitting-in-deep-learning-with-weight-regularization/\n",
        "from keras.models import Sequential\n",
        "from keras.layers import LSTM\n",
        "from keras.layers.core import Dense, Dropout\n",
        "from keras.regularizers import L1L2\n",
        "from keras.layers import BatchNormalization\n",
        "\n",
        "\n",
        "model_best = Sequential()\n",
        "#reg = L1L2(0.01, 0.01)    \n",
        "\n",
        "model_best.add(LSTM(140,return_sequences=True,\n",
        "                    input_shape=(timesteps, input_dim),\n",
        "                   ))\n",
        "model_best.add(Dropout(0.2))\n",
        "    \n",
        "model_best.add(LSTM(80))\n",
        "model_best.add(Dropout(0.4))\n",
        "    \n",
        "model_best.add(Dense(n_classes,  activation='sigmoid'))\n",
        "    \n",
        "model_best.summary()\n",
        "\n"
      ],
      "execution_count": 78,
      "outputs": [
        {
          "output_type": "stream",
          "text": [
            "Model: \"sequential_1\"\n",
            "_________________________________________________________________\n",
            "Layer (type)                 Output Shape              Param #   \n",
            "=================================================================\n",
            "lstm_1 (LSTM)                (None, 128, 140)          84000     \n",
            "_________________________________________________________________\n",
            "dropout_1 (Dropout)          (None, 128, 140)          0         \n",
            "_________________________________________________________________\n",
            "lstm_2 (LSTM)                (None, 80)                70720     \n",
            "_________________________________________________________________\n",
            "dropout_2 (Dropout)          (None, 80)                0         \n",
            "_________________________________________________________________\n",
            "dense_1 (Dense)              (None, 6)                 486       \n",
            "=================================================================\n",
            "Total params: 155,206\n",
            "Trainable params: 155,206\n",
            "Non-trainable params: 0\n",
            "_________________________________________________________________\n"
          ],
          "name": "stdout"
        }
      ]
    },
    {
      "cell_type": "markdown",
      "metadata": {
        "id": "SrqwDcrtNIFu",
        "colab_type": "text"
      },
      "source": [
        "## 3.6 Compilation & Model_best Evaluation On Test Data"
      ]
    },
    {
      "cell_type": "code",
      "metadata": {
        "id": "96JZuq55sh9x",
        "colab_type": "code",
        "colab": {}
      },
      "source": [
        "from keras.metrics import categorical_accuracy\n",
        "# Compiling the model\n",
        "from keras.callbacks import ModelCheckpoint\n",
        "from keras.optimizers import RMSprop\n",
        "\n",
        "opt=RMSprop()\n",
        "model_best.compile(loss='categorical_crossentropy',\n",
        "              optimizer=opt,\n",
        "              metrics=['accuracy'])"
      ],
      "execution_count": 0,
      "outputs": []
    },
    {
      "cell_type": "code",
      "metadata": {
        "id": "jMajph3w4jkt",
        "colab_type": "code",
        "outputId": "2e76d009-8ee4-4e90-8d46-ee581e1e112f",
        "colab": {
          "base_uri": "https://localhost:8080/",
          "height": 34
        }
      },
      "source": [
        "print(K.eval(model_best.optimizer.lr))"
      ],
      "execution_count": 0,
      "outputs": [
        {
          "output_type": "stream",
          "text": [
            "1e-04\n"
          ],
          "name": "stdout"
        }
      ]
    },
    {
      "cell_type": "code",
      "metadata": {
        "id": "2vzLxMXtsXst",
        "colab_type": "code",
        "outputId": "08764251-16a1-4788-d780-a4176f3c3bcd",
        "colab": {
          "base_uri": "https://localhost:8080/",
          "height": 1000
        }
      },
      "source": [
        "\n",
        "##https://machinelearningmastery.com/how-to-stop-training-deep-neural-networks-at-the-right-time-using-early-stopping/\n",
        "from keras.callbacks import EarlyStopping\n",
        "es = EarlyStopping(monitor='val_loss', mode='min', verbose=1)\n",
        "\n",
        "\n",
        "# Training the model\n",
        "model_best.fit(X_train,\n",
        "          Y_train,\n",
        "          batch_size=32,\n",
        "          validation_data=(X_test, Y_test),\n",
        "          epochs=30,\n",
        "          #callbacks=[checkpoint_3]\n",
        "          )"
      ],
      "execution_count": 80,
      "outputs": [
        {
          "output_type": "stream",
          "text": [
            "Train on 7352 samples, validate on 2947 samples\n",
            "Epoch 1/30\n",
            "7352/7352 [==============================] - 91s 12ms/step - loss: 1.1114 - accuracy: 0.5224 - val_loss: 0.9161 - val_accuracy: 0.6634\n",
            "Epoch 2/30\n",
            "7352/7352 [==============================] - 90s 12ms/step - loss: 0.7161 - accuracy: 0.6933 - val_loss: 0.7694 - val_accuracy: 0.7038\n",
            "Epoch 3/30\n",
            "7352/7352 [==============================] - 91s 12ms/step - loss: 0.5643 - accuracy: 0.7542 - val_loss: 0.5115 - val_accuracy: 0.7754\n",
            "Epoch 4/30\n",
            "7352/7352 [==============================] - 91s 12ms/step - loss: 0.3286 - accuracy: 0.8802 - val_loss: 0.3644 - val_accuracy: 0.8853\n",
            "Epoch 5/30\n",
            "7352/7352 [==============================] - 91s 12ms/step - loss: 0.2218 - accuracy: 0.9256 - val_loss: 0.4902 - val_accuracy: 0.8765\n",
            "Epoch 6/30\n",
            "7352/7352 [==============================] - 91s 12ms/step - loss: 0.1768 - accuracy: 0.9374 - val_loss: 0.5044 - val_accuracy: 0.8554\n",
            "Epoch 7/30\n",
            "7352/7352 [==============================] - 90s 12ms/step - loss: 0.1663 - accuracy: 0.9391 - val_loss: 0.3624 - val_accuracy: 0.8979\n",
            "Epoch 8/30\n",
            "7352/7352 [==============================] - 90s 12ms/step - loss: 0.1411 - accuracy: 0.9465 - val_loss: 0.3206 - val_accuracy: 0.9101\n",
            "Epoch 9/30\n",
            "7352/7352 [==============================] - 91s 12ms/step - loss: 0.1826 - accuracy: 0.9415 - val_loss: 0.3153 - val_accuracy: 0.8958\n",
            "Epoch 10/30\n",
            "7352/7352 [==============================] - 90s 12ms/step - loss: 0.1428 - accuracy: 0.9493 - val_loss: 0.2337 - val_accuracy: 0.9053\n",
            "Epoch 11/30\n",
            "7352/7352 [==============================] - 90s 12ms/step - loss: 0.1436 - accuracy: 0.9493 - val_loss: 0.3052 - val_accuracy: 0.9118\n",
            "Epoch 12/30\n",
            "7352/7352 [==============================] - 90s 12ms/step - loss: 0.1260 - accuracy: 0.9489 - val_loss: 0.3181 - val_accuracy: 0.9131\n",
            "Epoch 13/30\n",
            "7352/7352 [==============================] - 90s 12ms/step - loss: 0.1338 - accuracy: 0.9498 - val_loss: 0.2680 - val_accuracy: 0.9101\n",
            "Epoch 14/30\n",
            "7352/7352 [==============================] - 90s 12ms/step - loss: 0.1192 - accuracy: 0.9506 - val_loss: 0.2214 - val_accuracy: 0.9274\n",
            "Epoch 15/30\n",
            "7352/7352 [==============================] - 90s 12ms/step - loss: 0.1349 - accuracy: 0.9464 - val_loss: 0.2515 - val_accuracy: 0.9179\n",
            "Epoch 16/30\n",
            "7352/7352 [==============================] - 91s 12ms/step - loss: 0.1295 - accuracy: 0.9524 - val_loss: 0.4407 - val_accuracy: 0.9074\n",
            "Epoch 17/30\n",
            "7352/7352 [==============================] - 90s 12ms/step - loss: 0.1434 - accuracy: 0.9502 - val_loss: 0.3988 - val_accuracy: 0.9053\n",
            "Epoch 18/30\n",
            "7352/7352 [==============================] - 90s 12ms/step - loss: 0.1182 - accuracy: 0.9529 - val_loss: 0.2336 - val_accuracy: 0.9169\n",
            "Epoch 19/30\n",
            "7352/7352 [==============================] - 91s 12ms/step - loss: 0.1226 - accuracy: 0.9517 - val_loss: 0.3589 - val_accuracy: 0.9104\n",
            "Epoch 20/30\n",
            "7352/7352 [==============================] - 91s 12ms/step - loss: 0.1143 - accuracy: 0.9539 - val_loss: 0.3452 - val_accuracy: 0.9077\n",
            "Epoch 21/30\n",
            "7352/7352 [==============================] - 91s 12ms/step - loss: 0.1310 - accuracy: 0.9498 - val_loss: 0.3561 - val_accuracy: 0.9152\n",
            "Epoch 22/30\n",
            "7352/7352 [==============================] - 90s 12ms/step - loss: 0.1214 - accuracy: 0.9533 - val_loss: 0.3936 - val_accuracy: 0.9128\n",
            "Epoch 23/30\n",
            "7352/7352 [==============================] - 91s 12ms/step - loss: 0.1174 - accuracy: 0.9527 - val_loss: 0.3062 - val_accuracy: 0.9067\n",
            "Epoch 24/30\n",
            "7352/7352 [==============================] - 91s 12ms/step - loss: 0.1137 - accuracy: 0.9538 - val_loss: 0.2191 - val_accuracy: 0.9189\n",
            "Epoch 25/30\n",
            "7352/7352 [==============================] - 90s 12ms/step - loss: 0.1105 - accuracy: 0.9540 - val_loss: 0.8460 - val_accuracy: 0.8381\n",
            "Epoch 26/30\n",
            "7352/7352 [==============================] - 91s 12ms/step - loss: 0.1144 - accuracy: 0.9525 - val_loss: 0.3895 - val_accuracy: 0.9138\n",
            "Epoch 27/30\n",
            "7352/7352 [==============================] - 90s 12ms/step - loss: 0.1165 - accuracy: 0.9523 - val_loss: 0.3282 - val_accuracy: 0.9216\n",
            "Epoch 28/30\n",
            "7352/7352 [==============================] - 91s 12ms/step - loss: 0.1063 - accuracy: 0.9573 - val_loss: 0.4833 - val_accuracy: 0.9033\n",
            "Epoch 29/30\n",
            "7352/7352 [==============================] - 91s 12ms/step - loss: 0.1141 - accuracy: 0.9532 - val_loss: 0.3350 - val_accuracy: 0.9141\n",
            "Epoch 30/30\n",
            "7352/7352 [==============================] - 91s 12ms/step - loss: 0.1335 - accuracy: 0.9489 - val_loss: 0.4794 - val_accuracy: 0.9063\n"
          ],
          "name": "stdout"
        },
        {
          "output_type": "execute_result",
          "data": {
            "text/plain": [
              "<keras.callbacks.callbacks.History at 0x7f04734d3630>"
            ]
          },
          "metadata": {
            "tags": []
          },
          "execution_count": 80
        }
      ]
    },
    {
      "cell_type": "markdown",
      "metadata": {
        "id": "iPoPSU7GM8rd",
        "colab_type": "text"
      },
      "source": [
        " ## 3.7 Accuracy (Training & Validation) vs No of Epoch"
      ]
    },
    {
      "cell_type": "code",
      "metadata": {
        "id": "Tazmp_ElsRfO",
        "colab_type": "code",
        "outputId": "e8e9dc40-4bf3-4df7-e9d8-c57773920b2c",
        "colab": {
          "base_uri": "https://localhost:8080/",
          "height": 413
        }
      },
      "source": [
        "import pandas as pd\n",
        "import numpy as np\n",
        "losses = pd.DataFrame(model_best.history.history)\n",
        "\n",
        "losses.head(2)\n",
        "\n",
        "import matplotlib\n",
        "import matplotlib.pyplot as plt\n",
        "import numpy as np\n",
        "plt.figure(figsize=(10,6))\n",
        "\n",
        "plt.plot(losses['accuracy'],color='green',label='Train_accuracy')\n",
        "plt.plot(losses['val_accuracy'],color='red',label='val_accuracy')\n",
        "plt.xlabel('no of epoch',fontsize=14)\n",
        "plt.ylabel('Accuracy',fontsize=14)\n",
        "plt.title('Accuracy (Training & Validation) vs No of Epoch',fontsize=20)\n",
        "plt.legend()\n",
        "plt.grid()"
      ],
      "execution_count": 81,
      "outputs": [
        {
          "output_type": "display_data",
          "data": {
            "image/png": "[encoded data removed]",
            "text/plain": [
              "<Figure size 720x432 with 1 Axes>"
            ]
          },
          "metadata": {
            "tags": [],
            "needs_background": "light"
          }
        }
      ]
    },
    {
      "cell_type": "markdown",
      "metadata": {
        "id": "kK9chnmUMnqZ",
        "colab_type": "text"
      },
      "source": [
        "## 3.8 Confusion Matrix on test data of LSTM "
      ]
    },
    {
      "cell_type": "code",
      "metadata": {
        "id": "MbTg-0AdInU3",
        "colab_type": "code",
        "outputId": "d74b9589-21e9-45f2-e884-02c39199af9b",
        "colab": {
          "base_uri": "https://localhost:8080/",
          "height": 374
        }
      },
      "source": [
        "# Confusion Matrix\n",
        "cm_best=confusion_matrix(Y_test, model_best.predict(X_test))\n",
        "\n",
        "print(confusion_matrix(Y_test, model_best.predict(X_test)))\n",
        "\n",
        "import seaborn as sns\n",
        "plt.figure(figsize=(17,9))\n",
        "sns.heatmap(cm_best/np.sum(cm_best),annot=True,fmt='.2%',cmap='Blues',annot_kws={\"size\": 16})\n",
        "plt.title('Confusion Matrix of LSTM of Human Activity Recognition',fontsize=22)\n",
        "plt.xlabel('Predicted Label',fontsize=16)\n",
        "plt.ylabel('True Label',fontsize=16)"
      ],
      "execution_count": 82,
      "outputs": [
        {
          "output_type": "error",
          "ename": "ValueError",
          "evalue": "ignored",
          "traceback": [
            "\u001b[0;31m---------------------------------------------------------------------------\u001b[0m",
            "\u001b[0;31mValueError\u001b[0m                                Traceback (most recent call last)",
            "\u001b[0;32m<ipython-input-82-d8b359695eeb>\u001b[0m in \u001b[0;36m<module>\u001b[0;34m()\u001b[0m\n\u001b[0;32m----> 1\u001b[0;31m \u001b[0mcm_best\u001b[0m\u001b[0;34m=\u001b[0m\u001b[0mconfusion_matrix\u001b[0m\u001b[0;34m(\u001b[0m\u001b[0mY_test\u001b[0m\u001b[0;34m,\u001b[0m \u001b[0mmodel_best\u001b[0m\u001b[0;34m.\u001b[0m\u001b[0mpredict\u001b[0m\u001b[0;34m(\u001b[0m\u001b[0mX_test\u001b[0m\u001b[0;34m)\u001b[0m\u001b[0;34m)\u001b[0m\u001b[0;34m\u001b[0m\u001b[0;34m\u001b[0m\u001b[0m\n\u001b[0m\u001b[1;32m      2\u001b[0m \u001b[0;34m\u001b[0m\u001b[0m\n\u001b[1;32m      3\u001b[0m \u001b[0mprint\u001b[0m\u001b[0;34m(\u001b[0m\u001b[0mconfusion_matrix\u001b[0m\u001b[0;34m(\u001b[0m\u001b[0mY_test\u001b[0m\u001b[0;34m,\u001b[0m \u001b[0mmodel_best\u001b[0m\u001b[0;34m.\u001b[0m\u001b[0mpredict\u001b[0m\u001b[0;34m(\u001b[0m\u001b[0mX_test\u001b[0m\u001b[0;34m)\u001b[0m\u001b[0;34m)\u001b[0m\u001b[0;34m)\u001b[0m\u001b[0;34m\u001b[0m\u001b[0;34m\u001b[0m\u001b[0m\n\u001b[1;32m      4\u001b[0m \u001b[0;34m\u001b[0m\u001b[0m\n\u001b[1;32m      5\u001b[0m \u001b[0;32mimport\u001b[0m \u001b[0mseaborn\u001b[0m \u001b[0;32mas\u001b[0m \u001b[0msns\u001b[0m\u001b[0;34m\u001b[0m\u001b[0;34m\u001b[0m\u001b[0m\n",
            "\u001b[0;32m/usr/local/lib/python3.6/dist-packages/sklearn/metrics/_classification.py\u001b[0m in \u001b[0;36mconfusion_matrix\u001b[0;34m(y_true, y_pred, labels, sample_weight, normalize)\u001b[0m\n\u001b[1;32m    266\u001b[0m \u001b[0;34m\u001b[0m\u001b[0m\n\u001b[1;32m    267\u001b[0m     \"\"\"\n\u001b[0;32m--> 268\u001b[0;31m     \u001b[0my_type\u001b[0m\u001b[0;34m,\u001b[0m \u001b[0my_true\u001b[0m\u001b[0;34m,\u001b[0m \u001b[0my_pred\u001b[0m \u001b[0;34m=\u001b[0m \u001b[0m_check_targets\u001b[0m\u001b[0;34m(\u001b[0m\u001b[0my_true\u001b[0m\u001b[0;34m,\u001b[0m \u001b[0my_pred\u001b[0m\u001b[0;34m)\u001b[0m\u001b[0;34m\u001b[0m\u001b[0;34m\u001b[0m\u001b[0m\n\u001b[0m\u001b[1;32m    269\u001b[0m     \u001b[0;32mif\u001b[0m \u001b[0my_type\u001b[0m \u001b[0;32mnot\u001b[0m \u001b[0;32min\u001b[0m \u001b[0;34m(\u001b[0m\u001b[0;34m\"binary\"\u001b[0m\u001b[0;34m,\u001b[0m \u001b[0;34m\"multiclass\"\u001b[0m\u001b[0;34m)\u001b[0m\u001b[0;34m:\u001b[0m\u001b[0;34m\u001b[0m\u001b[0;34m\u001b[0m\u001b[0m\n\u001b[1;32m    270\u001b[0m         \u001b[0;32mraise\u001b[0m \u001b[0mValueError\u001b[0m\u001b[0;34m(\u001b[0m\u001b[0;34m\"%s is not supported\"\u001b[0m \u001b[0;34m%\u001b[0m \u001b[0my_type\u001b[0m\u001b[0;34m)\u001b[0m\u001b[0;34m\u001b[0m\u001b[0;34m\u001b[0m\u001b[0m\n",
            "\u001b[0;32m/usr/local/lib/python3.6/dist-packages/sklearn/metrics/_classification.py\u001b[0m in \u001b[0;36m_check_targets\u001b[0;34m(y_true, y_pred)\u001b[0m\n\u001b[1;32m     88\u001b[0m     \u001b[0;32mif\u001b[0m \u001b[0mlen\u001b[0m\u001b[0;34m(\u001b[0m\u001b[0my_type\u001b[0m\u001b[0;34m)\u001b[0m \u001b[0;34m>\u001b[0m \u001b[0;36m1\u001b[0m\u001b[0;34m:\u001b[0m\u001b[0;34m\u001b[0m\u001b[0;34m\u001b[0m\u001b[0m\n\u001b[1;32m     89\u001b[0m         raise ValueError(\"Classification metrics can't handle a mix of {0} \"\n\u001b[0;32m---> 90\u001b[0;31m                          \"and {1} targets\".format(type_true, type_pred))\n\u001b[0m\u001b[1;32m     91\u001b[0m \u001b[0;34m\u001b[0m\u001b[0m\n\u001b[1;32m     92\u001b[0m     \u001b[0;31m# We can't have more than one value on y_type => The set is no more needed\u001b[0m\u001b[0;34m\u001b[0m\u001b[0;34m\u001b[0m\u001b[0;34m\u001b[0m\u001b[0m\n",
            "\u001b[0;31mValueError\u001b[0m: Classification metrics can't handle a mix of multilabel-indicator and continuous-multioutput targets"
          ]
        }
      ]
    },
    {
      "cell_type": "code",
      "metadata": {
        "id": "kZxGmCTOHfkW",
        "colab_type": "code",
        "colab": {}
      },
      "source": [
        "score = model_best.evaluate(X_test, Y_test)"
      ],
      "execution_count": 0,
      "outputs": []
    },
    {
      "cell_type": "code",
      "metadata": {
        "id": "muM31sukKWB5",
        "colab_type": "code",
        "colab": {}
      },
      "source": [
        "score"
      ],
      "execution_count": 0,
      "outputs": []
    },
    {
      "cell_type": "markdown",
      "metadata": {
        "id": "gqjZ0PduQ45c",
        "colab_type": "text"
      },
      "source": [
        "**OBESERVATION:**\n",
        "\n",
        "1.   With 2 layered LSTM with different dropout rates we get 97.16% accuracy\n",
        "\n",
        "2.   LSTM units for 1st Layer=100||\n",
        "LSTM units for 2nd Layer=50 ||\n",
        "DropOut_1=0.8 ||\n",
        "DropOut_1=0.9 ||\n",
        "\n",
        "\n",
        "\n",
        "\n"
      ]
    },
    {
      "cell_type": "markdown",
      "metadata": {
        "id": "EWPYS9De0kxT",
        "colab_type": "text"
      },
      "source": [
        "# 4 DIVIDE & CONQUER APPROACH"
      ]
    },
    {
      "cell_type": "markdown",
      "metadata": {
        "id": "16_DsElZ0cPA",
        "colab_type": "text"
      },
      "source": [
        "**They refer to this as a two-stage modeling approach.\n",
        "Instead of straightforwardly recognizing the individual activities using a single 6-class classifier, we apply a divide and conquer approach and build a two-stage activity recognition process, where abstract activities, i.e., dynamic and static activity, are first recognized using a 2-class or binary classifier, and then individual activities are recognized using two 3-class classifiers.**\n",
        "\n",
        "— Divide and Conquer-Based 1D CNN Human Activity Recognition Using Test Data Sharpening, 2018.\n",
        "\n",
        "https://machinelearningmastery.com/deep-learning-models-for-human-activity-recognition/"
      ]
    },
    {
      "cell_type": "markdown",
      "metadata": {
        "id": "jFpugH7G0PKA",
        "colab_type": "text"
      },
      "source": [
        "![image.png](data:image/png;base64,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)"
      ]
    },
    {
      "cell_type": "markdown",
      "metadata": {
        "id": "M_836mPpCx53",
        "colab_type": "text"
      },
      "source": [
        "## 4.1 Divide problem into Binary Class Classification Problem"
      ]
    },
    {
      "cell_type": "markdown",
      "metadata": {
        "id": "-XLJGKO5DKQW",
        "colab_type": "text"
      },
      "source": [
        "### 4.1.1 Function to load as Static Activity and Dynamic Activity "
      ]
    },
    {
      "cell_type": "code",
      "metadata": {
        "id": "DW8i8WmLMiPo",
        "colab_type": "code",
        "colab": {}
      },
      "source": [
        "from keras import backend as K \n",
        "K.clear_session()"
      ],
      "execution_count": 0,
      "outputs": []
    },
    {
      "cell_type": "code",
      "metadata": {
        "id": "uErT0QmdHct9",
        "colab_type": "code",
        "colab": {}
      },
      "source": [
        "#https://github.com/rohitgurjar058/Human-Activity-Recognition/blob/master/HAR_Deep_Learning_notebook.ipynb\n",
        "\n",
        "def load_y_binary_static_dynamic(subset):\n",
        "  \n",
        "    \"\"\"\n",
        "    This function is to convert 6 class classification into \n",
        "    into binary class problem, First Static Activity and \n",
        "    Other is Dyanmic Activity \n",
        "    \"\"\"  \n",
        "\n",
        "    filename = f'HAR/UCI_HAR_Dataset/{subset}/y_{subset}.txt'\n",
        "    y = _read_csv(filename)[0]\n",
        "  \n",
        "    y[y<=3] = 0\n",
        "    y[y>3] = 1\n",
        "  \n",
        "    return pd.get_dummies(y).values"
      ],
      "execution_count": 0,
      "outputs": []
    },
    {
      "cell_type": "code",
      "metadata": {
        "id": "us5msV501uQ5",
        "colab_type": "code",
        "colab": {}
      },
      "source": [
        "X_train_binary, X_test_binary = load_signals('train'), load_signals('test')\n",
        "Y_train_binary, Y_test_binary = load_y_binary_static_dynamic('train'), load_y_binary_static_dynamic('test')"
      ],
      "execution_count": 0,
      "outputs": []
    },
    {
      "cell_type": "code",
      "metadata": {
        "id": "M2G1_XZ22AQp",
        "colab_type": "code",
        "outputId": "a32389fe-65be-4c86-9d9c-f835f17e60c9",
        "colab": {
          "base_uri": "https://localhost:8080/",
          "height": 136
        }
      },
      "source": [
        "print(\"-\"*50)\n",
        "print(\"Shape of matrix Y_train_binary: \",Y_train_binary.shape)\n",
        "print(\"Shape of matrix Y_test_binary: \",Y_test_binary.shape)\n",
        "print(\"-\"*50)\n",
        "print(\"Shape of matrix X_train_binary: \",X_train_binary.shape)\n",
        "print(\"Shape of matrix X_test_binary: \",X_test_binary.shape)\n",
        "print(\"-\"*50)"
      ],
      "execution_count": 104,
      "outputs": [
        {
          "output_type": "stream",
          "text": [
            "--------------------------------------------------\n",
            "Shape of matrix Y_train_binary:  (7352, 2)\n",
            "Shape of matrix Y_test_binary:  (2947, 2)\n",
            "--------------------------------------------------\n",
            "Shape of matrix X_train_binary:  (7352, 128, 9)\n",
            "Shape of matrix X_test_binary:  (2947, 128, 9)\n",
            "--------------------------------------------------\n"
          ],
          "name": "stdout"
        }
      ]
    },
    {
      "cell_type": "markdown",
      "metadata": {
        "id": "M7ZYfNxzDdeT",
        "colab_type": "text"
      },
      "source": [
        "### 4.1.2 Timesteps Input Dim and n_classes"
      ]
    },
    {
      "cell_type": "code",
      "metadata": {
        "id": "5cg2EEinNrpw",
        "colab_type": "code",
        "outputId": "8fd08ea4-1d1f-41c6-b817-e01153476063",
        "colab": {
          "base_uri": "https://localhost:8080/",
          "height": 68
        }
      },
      "source": [
        "timesteps_binary = len(X_train_binary[0])\n",
        "input_dim_binary = len(X_train_binary[0][0])\n",
        "n_classes_binary = _count_classes(Y_train_binary)\n",
        "print(timesteps_binary)\n",
        "print(input_dim_binary)\n",
        "print(n_classes_binary)\n"
      ],
      "execution_count": 105,
      "outputs": [
        {
          "output_type": "stream",
          "text": [
            "128\n",
            "9\n",
            "2\n"
          ],
          "name": "stdout"
        }
      ]
    },
    {
      "cell_type": "markdown",
      "metadata": {
        "id": "UHO59Q3yDnxq",
        "colab_type": "text"
      },
      "source": [
        "### 4.1.3 Model Lstm to Classify Static or Dynamic Activity (Binary Classification)"
      ]
    },
    {
      "cell_type": "code",
      "metadata": {
        "id": "5Yv9lNL12H2F",
        "colab_type": "code",
        "outputId": "ecf27c39-b148-4796-c75b-cc45348db27d",
        "colab": {
          "base_uri": "https://localhost:8080/",
          "height": 323
        }
      },
      "source": [
        "# Importing libraries\n",
        "#https://machinelearningmastery.com/how-to-reduce-overfitting-in-deep-learning-with-weight-regularization/\n",
        "from keras.models import Sequential\n",
        "from keras.layers import LSTM\n",
        "from keras.layers.core import Dense, Dropout\n",
        "from keras.regularizers import L1L2\n",
        "from keras.layers import BatchNormalization\n",
        "\n",
        "\n",
        "model_binary_class = Sequential()\n",
        "#reg = L1L2(0.01, 0.01)    \n",
        "\n",
        "model_binary_class.add(LSTM(160,return_sequences=True,\n",
        "                    input_shape=(timesteps_binary, input_dim_binary),\n",
        "                   ))\n",
        "model_binary_class.add(Dropout(0.2))\n",
        "    \n",
        "model_binary_class.add(LSTM(90))\n",
        "model_binary_class.add(Dropout(0.6))\n",
        "    \n",
        "model_binary_class.add(Dense(n_classes_binary,  activation='sigmoid'))\n",
        "    \n",
        "model_binary_class.summary()\n",
        "\n"
      ],
      "execution_count": 106,
      "outputs": [
        {
          "output_type": "stream",
          "text": [
            "Model: \"sequential_1\"\n",
            "_________________________________________________________________\n",
            "Layer (type)                 Output Shape              Param #   \n",
            "=================================================================\n",
            "lstm_1 (LSTM)                (None, 128, 160)          108800    \n",
            "_________________________________________________________________\n",
            "dropout_1 (Dropout)          (None, 128, 160)          0         \n",
            "_________________________________________________________________\n",
            "lstm_2 (LSTM)                (None, 90)                90360     \n",
            "_________________________________________________________________\n",
            "dropout_2 (Dropout)          (None, 90)                0         \n",
            "_________________________________________________________________\n",
            "dense_1 (Dense)              (None, 2)                 182       \n",
            "=================================================================\n",
            "Total params: 199,342\n",
            "Trainable params: 199,342\n",
            "Non-trainable params: 0\n",
            "_________________________________________________________________\n"
          ],
          "name": "stdout"
        }
      ]
    },
    {
      "cell_type": "markdown",
      "metadata": {
        "id": "3jmpPxRrD67d",
        "colab_type": "text"
      },
      "source": [
        "### 4.1.4 Model Compilation & Evaluation (binary Classification)"
      ]
    },
    {
      "cell_type": "code",
      "metadata": {
        "id": "iooNZLnYOg_h",
        "colab_type": "code",
        "outputId": "11212153-533a-4c48-dfdf-03fc6c365df8",
        "colab": {
          "base_uri": "https://localhost:8080/",
          "height": 411
        }
      },
      "source": [
        "#import math\n",
        "#adam = keras.optimizers.Adam(lr=0.001)\n",
        "\n",
        "model_binary_class.compile(loss='categorical_crossentropy', optimizer='adam', metrics=['accuracy'])\n",
        "model_binary_class.fit(X_train_binary,Y_train_binary, \n",
        "                       epochs=10, \n",
        "                       batch_size=48,\n",
        "                       validation_data=(X_test_binary, Y_test_binary),\n",
        "                       verbose=1)"
      ],
      "execution_count": 107,
      "outputs": [
        {
          "output_type": "stream",
          "text": [
            "Train on 7352 samples, validate on 2947 samples\n",
            "Epoch 1/10\n",
            "7352/7352 [==============================] - 65s 9ms/step - loss: 0.2525 - accuracy: 0.8806 - val_loss: 0.0371 - val_accuracy: 0.9915\n",
            "Epoch 2/10\n",
            "7352/7352 [==============================] - 65s 9ms/step - loss: 0.0645 - accuracy: 0.9872 - val_loss: 0.1753 - val_accuracy: 0.9674\n",
            "Epoch 3/10\n",
            "7352/7352 [==============================] - 64s 9ms/step - loss: 0.4210 - accuracy: 0.8050 - val_loss: 0.5708 - val_accuracy: 0.6766\n",
            "Epoch 4/10\n",
            "7352/7352 [==============================] - 63s 9ms/step - loss: 0.4614 - accuracy: 0.7141 - val_loss: 0.4054 - val_accuracy: 0.8358\n",
            "Epoch 5/10\n",
            "7352/7352 [==============================] - 64s 9ms/step - loss: 0.4457 - accuracy: 0.7198 - val_loss: 0.4632 - val_accuracy: 0.6902\n",
            "Epoch 6/10\n",
            "7352/7352 [==============================] - 63s 9ms/step - loss: 0.3280 - accuracy: 0.8161 - val_loss: 0.3218 - val_accuracy: 0.9209\n",
            "Epoch 7/10\n",
            "7352/7352 [==============================] - 63s 9ms/step - loss: 0.0728 - accuracy: 0.9859 - val_loss: 0.0626 - val_accuracy: 0.9820\n",
            "Epoch 8/10\n",
            "7352/7352 [==============================] - 63s 9ms/step - loss: 0.0137 - accuracy: 0.9977 - val_loss: 0.0369 - val_accuracy: 0.9912\n",
            "Epoch 9/10\n",
            "7352/7352 [==============================] - 64s 9ms/step - loss: 0.0172 - accuracy: 0.9976 - val_loss: 0.1074 - val_accuracy: 0.9756\n",
            "Epoch 10/10\n",
            "7352/7352 [==============================] - 63s 9ms/step - loss: 0.0169 - accuracy: 0.9959 - val_loss: 0.0353 - val_accuracy: 0.9925\n"
          ],
          "name": "stdout"
        },
        {
          "output_type": "execute_result",
          "data": {
            "text/plain": [
              "<keras.callbacks.callbacks.History at 0x7fad53b6be48>"
            ]
          },
          "metadata": {
            "tags": []
          },
          "execution_count": 107
        }
      ]
    },
    {
      "cell_type": "markdown",
      "metadata": {
        "id": "Kw7Q_u2kENf_",
        "colab_type": "text"
      },
      "source": [
        "### 4.1.5 Accuracy of Binary Classification model "
      ]
    },
    {
      "cell_type": "code",
      "metadata": {
        "id": "Z5H_Hk1COnrR",
        "colab_type": "code",
        "outputId": "5ad10732-ef22-4ede-efad-368c09181a49",
        "colab": {
          "base_uri": "https://localhost:8080/",
          "height": 51
        }
      },
      "source": [
        "accuracy_train = model_binary_class.evaluate(X_train_binary,Y_train_binary,verbose=0)\n",
        "accuracy_val = model_binary_class.evaluate(X_test_binary,Y_test_binary,verbose=0)\n",
        "\n",
        "print('Train_accuracy on Binary Problem:',accuracy_train,'\\ntest_accuracy on Binary Problem:',accuracy_val)"
      ],
      "execution_count": 108,
      "outputs": [
        {
          "output_type": "stream",
          "text": [
            "Train_accuracy on Binary Problem: [0.0075847771210277755, 0.998775839805603] \n",
            "test_accuracy on Binary Problem: [0.035271932739286624, 0.9925347566604614]\n"
          ],
          "name": "stdout"
        }
      ]
    },
    {
      "cell_type": "markdown",
      "metadata": {
        "id": "RJ4uO4eHL92X",
        "colab_type": "text"
      },
      "source": [
        "### 4.1.6 Saving Model Binary Classification \n"
      ]
    },
    {
      "cell_type": "code",
      "metadata": {
        "id": "QsDRNW8GHv7L",
        "colab_type": "code",
        "colab": {}
      },
      "source": [
        "model_binary_class.save('model_binary_class_save.h5')\n",
        "model_file = drive.CreateFile({'model_binary_class' : 'model_binary_class_save.h5'}) \n",
        "model_file.SetContentFile('model_binary_class_save.h5')\n",
        "model_file.Upload()"
      ],
      "execution_count": 0,
      "outputs": []
    },
    {
      "cell_type": "code",
      "metadata": {
        "id": "k6L6cP9yJpJe",
        "colab_type": "code",
        "outputId": "71fb74cf-7da9-41b1-d1bf-f0fc1791082d",
        "colab": {
          "base_uri": "https://localhost:8080/",
          "height": 34
        }
      },
      "source": [
        "# download to google drive                       \n",
        "drive.CreateFile({'id': model_file.get('id')})"
      ],
      "execution_count": 114,
      "outputs": [
        {
          "output_type": "execute_result",
          "data": {
            "text/plain": [
              "GoogleDriveFile({'id': '109GPv64cAOvPpKg8kfpmx2HD2PqIiGKy'})"
            ]
          },
          "metadata": {
            "tags": []
          },
          "execution_count": 114
        }
      ]
    },
    {
      "cell_type": "markdown",
      "metadata": {
        "id": "WLBdb7bEScOf",
        "colab_type": "text"
      },
      "source": [
        "## 4.2 Classify_static_activities ,Static 3 Class Classification Problem "
      ]
    },
    {
      "cell_type": "markdown",
      "metadata": {
        "id": "1mqSfWKwYKYx",
        "colab_type": "text"
      },
      "source": [
        "### 4.2.1 Functions to load Static Acitivity "
      ]
    },
    {
      "cell_type": "code",
      "metadata": {
        "id": "Lhnabr6bf9FS",
        "colab_type": "code",
        "colab": {}
      },
      "source": [
        "from keras import backend as K \n",
        "K.clear_session()"
      ],
      "execution_count": 0,
      "outputs": []
    },
    {
      "cell_type": "code",
      "metadata": {
        "id": "o6n-QoFVSa59",
        "colab_type": "code",
        "colab": {}
      },
      "source": [
        "def load_y_static(subset):\n",
        "  \n",
        "    \"\"\"\n",
        "    This Function is get static activity sorted\n",
        "    \"\"\"\n",
        "  \n",
        "    filename = f'HAR/UCI_HAR_Dataset/{subset}/y_{subset}.txt'\n",
        "    y = _read_csv(filename)[0]\n",
        "  \n",
        "    y_true = y>3\n",
        "    y = y[y>3]\n",
        "  \n",
        "    return pd.get_dummies(y).values, y_true"
      ],
      "execution_count": 0,
      "outputs": []
    },
    {
      "cell_type": "code",
      "metadata": {
        "id": "InyImlcWSxUX",
        "colab_type": "code",
        "colab": {}
      },
      "source": [
        "X_train_static, X_test_static = load_signals('train'), load_signals('test')\n",
        "Y_train_static, y_train_true = load_y_static('train')\n",
        "Y_test_static, y_test_true   = load_y_static('test')\n",
        "X_train_static = X_train_static[y_train_true]\n",
        "X_test_static = X_test_static[y_test_true]"
      ],
      "execution_count": 0,
      "outputs": []
    },
    {
      "cell_type": "code",
      "metadata": {
        "id": "0MgNn2x2Tluc",
        "colab_type": "code",
        "outputId": "d63f5e65-3f13-4075-b066-c93f0a9f7022",
        "colab": {
          "base_uri": "https://localhost:8080/",
          "height": 136
        }
      },
      "source": [
        "print(\"-\"*50)\n",
        "print(\"Shape of matrix Y_train_static: \",Y_train_static.shape)\n",
        "print(\"Shape of matrix Y_test_static: \",Y_test_static.shape)\n",
        "print(\"-\"*50)\n",
        "print(\"Shape of matrix X_train_static: \",X_train_static.shape)\n",
        "print(\"Shape of matrix X_test_static: \",X_test_static.shape)\n",
        "print(\"-\"*50)"
      ],
      "execution_count": 75,
      "outputs": [
        {
          "output_type": "stream",
          "text": [
            "--------------------------------------------------\n",
            "Shape of matrix Y_train_static:  (4067, 3)\n",
            "Shape of matrix Y_test_static:  (1560, 3)\n",
            "--------------------------------------------------\n",
            "Shape of matrix X_train_static:  (4067, 128, 9)\n",
            "Shape of matrix X_test_static:  (1560, 128, 9)\n",
            "--------------------------------------------------\n"
          ],
          "name": "stdout"
        }
      ]
    },
    {
      "cell_type": "markdown",
      "metadata": {
        "id": "U7djs9ucYT_2",
        "colab_type": "text"
      },
      "source": [
        "### 4.2.2 Timesteps Input Dim and n_classes"
      ]
    },
    {
      "cell_type": "code",
      "metadata": {
        "id": "Upn-jWD8LN0z",
        "colab_type": "code",
        "outputId": "600f170f-8657-4920-a36e-c093931be29d",
        "colab": {
          "base_uri": "https://localhost:8080/",
          "height": 68
        }
      },
      "source": [
        "timesteps_static = len(X_train_static[0])\n",
        "input_dim_static = len(X_train_static[0][0])\n",
        "n_classes_static = _count_classes(Y_train_static)\n",
        "print(timesteps_static)\n",
        "print(input_dim_static)\n",
        "print(n_classes_static)\n"
      ],
      "execution_count": 76,
      "outputs": [
        {
          "output_type": "stream",
          "text": [
            "128\n",
            "9\n",
            "3\n"
          ],
          "name": "stdout"
        }
      ]
    },
    {
      "cell_type": "markdown",
      "metadata": {
        "id": "6UdKt2LBgId_",
        "colab_type": "text"
      },
      "source": [
        "### 4.2.3 Model CNN to Classify Static  Activity (3 Class Classification)"
      ]
    },
    {
      "cell_type": "code",
      "metadata": {
        "id": "TsB_QhTuLjCL",
        "colab_type": "code",
        "colab": {}
      },
      "source": [
        "from keras.models import Sequential\n",
        "import keras\n",
        "from keras.layers import LSTM, Conv1D, TimeDistributed, MaxPooling1D\n",
        "from keras.layers.core import Dense, Dropout, Flatten\n",
        "from keras.layers.normalization import BatchNormalization"
      ],
      "execution_count": 0,
      "outputs": []
    },
    {
      "cell_type": "code",
      "metadata": {
        "id": "MHnrxH-DLNlD",
        "colab_type": "code",
        "outputId": "11f72ac4-1541-4a10-92ec-60d6e1c7786f",
        "colab": {
          "base_uri": "https://localhost:8080/",
          "height": 765
        }
      },
      "source": [
        "#https://www.mdpi.com/1424-8220/18/4/1055\n",
        "#https://github.com/rohitgurjar058/Human-Activity-Recognition/blob/master/HAR_Deep_Learning_notebook.ipynb\n",
        "\n",
        "model_static = Sequential()\n",
        "# Configuring the parameters\n",
        "model_static.add(Conv1D(filters = 561, kernel_size=3,\n",
        "                 activation='relu',padding = 'same',\n",
        "                 input_shape = (timesteps_static,input_dim_static)))\n",
        "model_static.add(MaxPooling1D(pool_size=2))\n",
        "\n",
        "model_static.add(Conv1D(filters = 559, kernel_size=2,\n",
        "                 activation='sigmoid',padding = 'same'))\n",
        "model_static.add(MaxPooling1D(pool_size=3))\n",
        "model_static.add(BatchNormalization())\n",
        "\n",
        "model_static.add(Conv1D(filters = 557, kernel_size=4,\n",
        "             activation='sigmoid',padding = 'same'))\n",
        "model_static.add(BatchNormalization())\n",
        "model_static.add(Dropout(0.9))\n",
        "\n",
        "model_static.add(Conv1D(filters = 555, kernel_size=2,\n",
        "             activation='sigmoid',padding = 'same'))\n",
        "model_static.add(Dropout(0.5))\n",
        "\n",
        "model_static.add(Flatten())\n",
        "\n",
        "model_static.add(Dense(1024, activation='sigmoid'))\n",
        "model_static.add(Dropout(0.7))\n",
        "\n",
        "model_static.add(Dense(512, activation='sigmoid'))\n",
        "model_static.add(Dropout(0.5))\n",
        "\n",
        "model_static.add(Dense(64, activation='sigmoid'))\n",
        "model_static.add(Dropout(0.4))\n",
        "\n",
        "# Adding a dense output layer with sigmoid activation\n",
        "model_static.add(Dense(n_classes_static, activation='softmax'))\n",
        "\n",
        "model_static.summary()"
      ],
      "execution_count": 78,
      "outputs": [
        {
          "output_type": "stream",
          "text": [
            "Model: \"sequential_1\"\n",
            "_________________________________________________________________\n",
            "Layer (type)                 Output Shape              Param #   \n",
            "=================================================================\n",
            "conv1d_1 (Conv1D)            (None, 128, 561)          15708     \n",
            "_________________________________________________________________\n",
            "max_pooling1d_1 (MaxPooling1 (None, 64, 561)           0         \n",
            "_________________________________________________________________\n",
            "conv1d_2 (Conv1D)            (None, 64, 559)           627757    \n",
            "_________________________________________________________________\n",
            "max_pooling1d_2 (MaxPooling1 (None, 21, 559)           0         \n",
            "_________________________________________________________________\n",
            "batch_normalization_1 (Batch (None, 21, 559)           2236      \n",
            "_________________________________________________________________\n",
            "conv1d_3 (Conv1D)            (None, 21, 557)           1246009   \n",
            "_________________________________________________________________\n",
            "batch_normalization_2 (Batch (None, 21, 557)           2228      \n",
            "_________________________________________________________________\n",
            "dropout_1 (Dropout)          (None, 21, 557)           0         \n",
            "_________________________________________________________________\n",
            "conv1d_4 (Conv1D)            (None, 21, 555)           618825    \n",
            "_________________________________________________________________\n",
            "dropout_2 (Dropout)          (None, 21, 555)           0         \n",
            "_________________________________________________________________\n",
            "flatten_1 (Flatten)          (None, 11655)             0         \n",
            "_________________________________________________________________\n",
            "dense_1 (Dense)              (None, 1024)              11935744  \n",
            "_________________________________________________________________\n",
            "dropout_3 (Dropout)          (None, 1024)              0         \n",
            "_________________________________________________________________\n",
            "dense_2 (Dense)              (None, 512)               524800    \n",
            "_________________________________________________________________\n",
            "dropout_4 (Dropout)          (None, 512)               0         \n",
            "_________________________________________________________________\n",
            "dense_3 (Dense)              (None, 64)                32832     \n",
            "_________________________________________________________________\n",
            "dropout_5 (Dropout)          (None, 64)                0         \n",
            "_________________________________________________________________\n",
            "dense_4 (Dense)              (None, 3)                 195       \n",
            "=================================================================\n",
            "Total params: 15,006,334\n",
            "Trainable params: 15,004,102\n",
            "Non-trainable params: 2,232\n",
            "_________________________________________________________________\n"
          ],
          "name": "stdout"
        }
      ]
    },
    {
      "cell_type": "markdown",
      "metadata": {
        "id": "_eMSpYNpqH6f",
        "colab_type": "text"
      },
      "source": [
        "### 4.2.4 Model Compilation & Evaluation (Static 3 Class Classification)"
      ]
    },
    {
      "cell_type": "code",
      "metadata": {
        "id": "gEIidOsPdosq",
        "colab_type": "code",
        "colab": {
          "base_uri": "https://localhost:8080/",
          "height": 1000
        },
        "outputId": "8e842573-c5b2-4e83-cd15-28919b551cab"
      },
      "source": [
        "adam = keras.optimizers.Adam(lr=10**-4)\n",
        "model_static.compile(loss='categorical_crossentropy',\n",
        "                     metrics=['accuracy'], \n",
        "                     optimizer=adam)\n",
        "\n",
        "model_static.fit(X_train_static,Y_train_static, \n",
        "                epochs=130, \n",
        "                batch_size=32,\n",
        "                validation_data=(X_test_static, Y_test_static),\n",
        "                verbose=1)"
      ],
      "execution_count": 79,
      "outputs": [
        {
          "output_type": "stream",
          "text": [
            "Train on 4067 samples, validate on 1560 samples\n",
            "Epoch 1/130\n",
            "4067/4067 [==============================] - 3s 758us/step - loss: 0.9802 - accuracy: 0.5124 - val_loss: 1.1493 - val_accuracy: 0.3410\n",
            "Epoch 2/130\n",
            "4067/4067 [==============================] - 2s 577us/step - loss: 0.5969 - accuracy: 0.6749 - val_loss: 0.7883 - val_accuracy: 0.5756\n",
            "Epoch 3/130\n",
            "4067/4067 [==============================] - 2s 595us/step - loss: 0.4599 - accuracy: 0.7846 - val_loss: 0.3761 - val_accuracy: 0.8481\n",
            "Epoch 4/130\n",
            "4067/4067 [==============================] - 2s 574us/step - loss: 0.3171 - accuracy: 0.9058 - val_loss: 0.3225 - val_accuracy: 0.8744\n",
            "Epoch 5/130\n",
            "4067/4067 [==============================] - 2s 578us/step - loss: 0.2827 - accuracy: 0.9083 - val_loss: 0.3156 - val_accuracy: 0.8897\n",
            "Epoch 6/130\n",
            "4067/4067 [==============================] - 2s 569us/step - loss: 0.2671 - accuracy: 0.9044 - val_loss: 0.3066 - val_accuracy: 0.8865\n",
            "Epoch 7/130\n",
            "4067/4067 [==============================] - 2s 589us/step - loss: 0.2389 - accuracy: 0.9189 - val_loss: 0.3000 - val_accuracy: 0.8776\n",
            "Epoch 8/130\n",
            "4067/4067 [==============================] - 2s 563us/step - loss: 0.2460 - accuracy: 0.9127 - val_loss: 0.2770 - val_accuracy: 0.8692\n",
            "Epoch 9/130\n",
            "4067/4067 [==============================] - 2s 571us/step - loss: 0.2332 - accuracy: 0.9125 - val_loss: 0.2922 - val_accuracy: 0.8923\n",
            "Epoch 10/130\n",
            "4067/4067 [==============================] - 2s 568us/step - loss: 0.2332 - accuracy: 0.9152 - val_loss: 0.3124 - val_accuracy: 0.8724\n",
            "Epoch 11/130\n",
            "4067/4067 [==============================] - 2s 580us/step - loss: 0.2118 - accuracy: 0.9194 - val_loss: 0.3307 - val_accuracy: 0.8910\n",
            "Epoch 12/130\n",
            "4067/4067 [==============================] - 2s 577us/step - loss: 0.2276 - accuracy: 0.9189 - val_loss: 0.2836 - val_accuracy: 0.8878\n",
            "Epoch 13/130\n",
            "4067/4067 [==============================] - 2s 589us/step - loss: 0.2097 - accuracy: 0.9211 - val_loss: 0.2887 - val_accuracy: 0.8865\n",
            "Epoch 14/130\n",
            "4067/4067 [==============================] - 2s 568us/step - loss: 0.2092 - accuracy: 0.9194 - val_loss: 0.2782 - val_accuracy: 0.8981\n",
            "Epoch 15/130\n",
            "4067/4067 [==============================] - 2s 574us/step - loss: 0.2004 - accuracy: 0.9245 - val_loss: 0.3105 - val_accuracy: 0.8942\n",
            "Epoch 16/130\n",
            "4067/4067 [==============================] - 2s 601us/step - loss: 0.1963 - accuracy: 0.9235 - val_loss: 0.2581 - val_accuracy: 0.9096\n",
            "Epoch 17/130\n",
            "4067/4067 [==============================] - 2s 565us/step - loss: 0.1938 - accuracy: 0.9267 - val_loss: 0.2509 - val_accuracy: 0.9154\n",
            "Epoch 18/130\n",
            "4067/4067 [==============================] - 2s 574us/step - loss: 0.1890 - accuracy: 0.9289 - val_loss: 0.2631 - val_accuracy: 0.9109\n",
            "Epoch 19/130\n",
            "4067/4067 [==============================] - 2s 605us/step - loss: 0.1788 - accuracy: 0.9339 - val_loss: 0.3020 - val_accuracy: 0.8962\n",
            "Epoch 20/130\n",
            "4067/4067 [==============================] - 2s 579us/step - loss: 0.1714 - accuracy: 0.9405 - val_loss: 0.2755 - val_accuracy: 0.9058\n",
            "Epoch 21/130\n",
            "4067/4067 [==============================] - 2s 565us/step - loss: 0.1663 - accuracy: 0.9383 - val_loss: 0.2268 - val_accuracy: 0.9115\n",
            "Epoch 22/130\n",
            "4067/4067 [==============================] - 2s 575us/step - loss: 0.1637 - accuracy: 0.9403 - val_loss: 0.2330 - val_accuracy: 0.9173\n",
            "Epoch 23/130\n",
            "4067/4067 [==============================] - 2s 564us/step - loss: 0.1632 - accuracy: 0.9388 - val_loss: 0.2508 - val_accuracy: 0.9115\n",
            "Epoch 24/130\n",
            "4067/4067 [==============================] - 2s 562us/step - loss: 0.1567 - accuracy: 0.9400 - val_loss: 0.2632 - val_accuracy: 0.9212\n",
            "Epoch 25/130\n",
            "4067/4067 [==============================] - 2s 593us/step - loss: 0.1429 - accuracy: 0.9464 - val_loss: 0.2574 - val_accuracy: 0.9205\n",
            "Epoch 26/130\n",
            "4067/4067 [==============================] - 2s 600us/step - loss: 0.1456 - accuracy: 0.9469 - val_loss: 0.2895 - val_accuracy: 0.8821\n",
            "Epoch 27/130\n",
            "4067/4067 [==============================] - 2s 594us/step - loss: 0.1440 - accuracy: 0.9457 - val_loss: 0.3275 - val_accuracy: 0.9038\n",
            "Epoch 28/130\n",
            "4067/4067 [==============================] - 2s 581us/step - loss: 0.1518 - accuracy: 0.9439 - val_loss: 0.2872 - val_accuracy: 0.8974\n",
            "Epoch 29/130\n",
            "4067/4067 [==============================] - 2s 597us/step - loss: 0.1406 - accuracy: 0.9452 - val_loss: 0.2585 - val_accuracy: 0.9109\n",
            "Epoch 30/130\n",
            "4067/4067 [==============================] - 2s 561us/step - loss: 0.1445 - accuracy: 0.9454 - val_loss: 0.2885 - val_accuracy: 0.9103\n",
            "Epoch 31/130\n",
            "4067/4067 [==============================] - 2s 579us/step - loss: 0.1415 - accuracy: 0.9486 - val_loss: 0.2507 - val_accuracy: 0.9179\n",
            "Epoch 32/130\n",
            "4067/4067 [==============================] - 2s 588us/step - loss: 0.1362 - accuracy: 0.9530 - val_loss: 0.2375 - val_accuracy: 0.9205\n",
            "Epoch 33/130\n",
            "4067/4067 [==============================] - 2s 573us/step - loss: 0.1235 - accuracy: 0.9548 - val_loss: 0.2732 - val_accuracy: 0.9186\n",
            "Epoch 34/130\n",
            "4067/4067 [==============================] - 2s 598us/step - loss: 0.1248 - accuracy: 0.9548 - val_loss: 0.3101 - val_accuracy: 0.9000\n",
            "Epoch 35/130\n",
            "4067/4067 [==============================] - 2s 567us/step - loss: 0.1306 - accuracy: 0.9548 - val_loss: 0.2450 - val_accuracy: 0.9308\n",
            "Epoch 36/130\n",
            "4067/4067 [==============================] - 2s 565us/step - loss: 0.1143 - accuracy: 0.9572 - val_loss: 0.2746 - val_accuracy: 0.9212\n",
            "Epoch 37/130\n",
            "4067/4067 [==============================] - 2s 601us/step - loss: 0.0982 - accuracy: 0.9653 - val_loss: 0.2709 - val_accuracy: 0.9250\n",
            "Epoch 38/130\n",
            "4067/4067 [==============================] - 2s 581us/step - loss: 0.1134 - accuracy: 0.9621 - val_loss: 0.2040 - val_accuracy: 0.9378\n",
            "Epoch 39/130\n",
            "4067/4067 [==============================] - 2s 584us/step - loss: 0.1547 - accuracy: 0.9432 - val_loss: 0.1922 - val_accuracy: 0.9333\n",
            "Epoch 40/130\n",
            "4067/4067 [==============================] - 3s 623us/step - loss: 0.1146 - accuracy: 0.9584 - val_loss: 0.2612 - val_accuracy: 0.9314\n",
            "Epoch 41/130\n",
            "4067/4067 [==============================] - 2s 577us/step - loss: 0.1097 - accuracy: 0.9575 - val_loss: 0.2845 - val_accuracy: 0.9160\n",
            "Epoch 42/130\n",
            "4067/4067 [==============================] - 2s 575us/step - loss: 0.1101 - accuracy: 0.9602 - val_loss: 0.2050 - val_accuracy: 0.9321\n",
            "Epoch 43/130\n",
            "4067/4067 [==============================] - 2s 573us/step - loss: 0.1043 - accuracy: 0.9607 - val_loss: 0.2604 - val_accuracy: 0.9154\n",
            "Epoch 44/130\n",
            "4067/4067 [==============================] - 2s 576us/step - loss: 0.0973 - accuracy: 0.9663 - val_loss: 0.2729 - val_accuracy: 0.9250\n",
            "Epoch 45/130\n",
            "4067/4067 [==============================] - 2s 565us/step - loss: 0.0937 - accuracy: 0.9626 - val_loss: 0.3338 - val_accuracy: 0.9147\n",
            "Epoch 46/130\n",
            "4067/4067 [==============================] - 2s 575us/step - loss: 0.0981 - accuracy: 0.9624 - val_loss: 0.2228 - val_accuracy: 0.9199\n",
            "Epoch 47/130\n",
            "4067/4067 [==============================] - 2s 561us/step - loss: 0.1317 - accuracy: 0.9516 - val_loss: 0.2280 - val_accuracy: 0.9346\n",
            "Epoch 48/130\n",
            "4067/4067 [==============================] - 2s 571us/step - loss: 0.1025 - accuracy: 0.9614 - val_loss: 0.2369 - val_accuracy: 0.9231\n",
            "Epoch 49/130\n",
            "4067/4067 [==============================] - 2s 568us/step - loss: 0.1090 - accuracy: 0.9616 - val_loss: 0.2385 - val_accuracy: 0.9346\n",
            "Epoch 50/130\n",
            "4067/4067 [==============================] - 2s 582us/step - loss: 0.1018 - accuracy: 0.9624 - val_loss: 0.1979 - val_accuracy: 0.9378\n",
            "Epoch 51/130\n",
            "4067/4067 [==============================] - 2s 563us/step - loss: 0.0840 - accuracy: 0.9705 - val_loss: 0.4063 - val_accuracy: 0.8910\n",
            "Epoch 52/130\n",
            "4067/4067 [==============================] - 2s 567us/step - loss: 0.0979 - accuracy: 0.9643 - val_loss: 0.3243 - val_accuracy: 0.9096\n",
            "Epoch 53/130\n",
            "4067/4067 [==============================] - 2s 593us/step - loss: 0.0861 - accuracy: 0.9675 - val_loss: 0.2516 - val_accuracy: 0.9340\n",
            "Epoch 54/130\n",
            "4067/4067 [==============================] - 2s 571us/step - loss: 0.0895 - accuracy: 0.9671 - val_loss: 0.2509 - val_accuracy: 0.9231\n",
            "Epoch 55/130\n",
            "4067/4067 [==============================] - 2s 569us/step - loss: 0.1258 - accuracy: 0.9508 - val_loss: 0.2505 - val_accuracy: 0.9346\n",
            "Epoch 56/130\n",
            "4067/4067 [==============================] - 2s 581us/step - loss: 0.0906 - accuracy: 0.9705 - val_loss: 0.2565 - val_accuracy: 0.9346\n",
            "Epoch 57/130\n",
            "4067/4067 [==============================] - 2s 581us/step - loss: 0.0883 - accuracy: 0.9675 - val_loss: 0.2892 - val_accuracy: 0.9282\n",
            "Epoch 58/130\n",
            "4067/4067 [==============================] - 2s 585us/step - loss: 0.0803 - accuracy: 0.9712 - val_loss: 0.2830 - val_accuracy: 0.9244\n",
            "Epoch 59/130\n",
            "4067/4067 [==============================] - 2s 578us/step - loss: 0.0850 - accuracy: 0.9702 - val_loss: 0.2468 - val_accuracy: 0.9391\n",
            "Epoch 60/130\n",
            "4067/4067 [==============================] - 2s 585us/step - loss: 0.0788 - accuracy: 0.9725 - val_loss: 0.2332 - val_accuracy: 0.9308\n",
            "Epoch 61/130\n",
            "4067/4067 [==============================] - 2s 591us/step - loss: 0.0771 - accuracy: 0.9675 - val_loss: 0.2859 - val_accuracy: 0.9295\n",
            "Epoch 62/130\n",
            "4067/4067 [==============================] - 2s 569us/step - loss: 0.0729 - accuracy: 0.9717 - val_loss: 0.3116 - val_accuracy: 0.9282\n",
            "Epoch 63/130\n",
            "4067/4067 [==============================] - 2s 558us/step - loss: 0.0723 - accuracy: 0.9732 - val_loss: 0.2146 - val_accuracy: 0.9442\n",
            "Epoch 64/130\n",
            "4067/4067 [==============================] - 2s 589us/step - loss: 0.0816 - accuracy: 0.9705 - val_loss: 0.2344 - val_accuracy: 0.9314\n",
            "Epoch 65/130\n",
            "4067/4067 [==============================] - 2s 585us/step - loss: 0.0781 - accuracy: 0.9720 - val_loss: 0.2242 - val_accuracy: 0.9429\n",
            "Epoch 66/130\n",
            "4067/4067 [==============================] - 2s 568us/step - loss: 0.0582 - accuracy: 0.9801 - val_loss: 0.2756 - val_accuracy: 0.9346\n",
            "Epoch 67/130\n",
            "4067/4067 [==============================] - 2s 565us/step - loss: 0.0704 - accuracy: 0.9737 - val_loss: 0.2524 - val_accuracy: 0.9353\n",
            "Epoch 68/130\n",
            "4067/4067 [==============================] - 2s 575us/step - loss: 0.0750 - accuracy: 0.9734 - val_loss: 0.2521 - val_accuracy: 0.9372\n",
            "Epoch 69/130\n",
            "4067/4067 [==============================] - 2s 585us/step - loss: 0.0775 - accuracy: 0.9715 - val_loss: 0.3592 - val_accuracy: 0.9212\n",
            "Epoch 70/130\n",
            "4067/4067 [==============================] - 2s 559us/step - loss: 0.0764 - accuracy: 0.9693 - val_loss: 0.2266 - val_accuracy: 0.9340\n",
            "Epoch 71/130\n",
            "4067/4067 [==============================] - 2s 573us/step - loss: 0.0758 - accuracy: 0.9725 - val_loss: 0.2195 - val_accuracy: 0.9372\n",
            "Epoch 72/130\n",
            "4067/4067 [==============================] - 2s 576us/step - loss: 0.0948 - accuracy: 0.9634 - val_loss: 0.2541 - val_accuracy: 0.9397\n",
            "Epoch 73/130\n",
            "4067/4067 [==============================] - 2s 578us/step - loss: 0.0752 - accuracy: 0.9737 - val_loss: 0.2631 - val_accuracy: 0.9372\n",
            "Epoch 74/130\n",
            "4067/4067 [==============================] - 2s 571us/step - loss: 0.1571 - accuracy: 0.9528 - val_loss: 0.2323 - val_accuracy: 0.9308\n",
            "Epoch 75/130\n",
            "4067/4067 [==============================] - 2s 573us/step - loss: 0.0834 - accuracy: 0.9715 - val_loss: 0.2238 - val_accuracy: 0.9340\n",
            "Epoch 76/130\n",
            "4067/4067 [==============================] - 2s 574us/step - loss: 0.0732 - accuracy: 0.9747 - val_loss: 0.3324 - val_accuracy: 0.9212\n",
            "Epoch 77/130\n",
            "4067/4067 [==============================] - 2s 588us/step - loss: 0.0771 - accuracy: 0.9722 - val_loss: 0.2714 - val_accuracy: 0.9308\n",
            "Epoch 78/130\n",
            "4067/4067 [==============================] - 2s 574us/step - loss: 0.0672 - accuracy: 0.9781 - val_loss: 0.3230 - val_accuracy: 0.9256\n",
            "Epoch 79/130\n",
            "4067/4067 [==============================] - 2s 580us/step - loss: 0.0726 - accuracy: 0.9759 - val_loss: 0.2106 - val_accuracy: 0.9365\n",
            "Epoch 80/130\n",
            "4067/4067 [==============================] - 2s 586us/step - loss: 0.0883 - accuracy: 0.9668 - val_loss: 0.2199 - val_accuracy: 0.9397\n",
            "Epoch 81/130\n",
            "4067/4067 [==============================] - 2s 568us/step - loss: 0.0824 - accuracy: 0.9668 - val_loss: 0.2221 - val_accuracy: 0.9417\n",
            "Epoch 82/130\n",
            "4067/4067 [==============================] - 2s 575us/step - loss: 0.0608 - accuracy: 0.9791 - val_loss: 0.2547 - val_accuracy: 0.9378\n",
            "Epoch 83/130\n",
            "4067/4067 [==============================] - 2s 612us/step - loss: 0.0734 - accuracy: 0.9757 - val_loss: 0.2272 - val_accuracy: 0.9436\n",
            "Epoch 84/130\n",
            "4067/4067 [==============================] - 2s 581us/step - loss: 0.0606 - accuracy: 0.9779 - val_loss: 0.2900 - val_accuracy: 0.9269\n",
            "Epoch 85/130\n",
            "4067/4067 [==============================] - 2s 577us/step - loss: 0.0651 - accuracy: 0.9764 - val_loss: 0.2231 - val_accuracy: 0.9397\n",
            "Epoch 86/130\n",
            "4067/4067 [==============================] - 2s 565us/step - loss: 0.0695 - accuracy: 0.9759 - val_loss: 0.2814 - val_accuracy: 0.9276\n",
            "Epoch 87/130\n",
            "4067/4067 [==============================] - 2s 591us/step - loss: 0.0726 - accuracy: 0.9732 - val_loss: 0.2924 - val_accuracy: 0.9295\n",
            "Epoch 88/130\n",
            "4067/4067 [==============================] - 2s 570us/step - loss: 0.1001 - accuracy: 0.9663 - val_loss: 0.2233 - val_accuracy: 0.9346\n",
            "Epoch 89/130\n",
            "4067/4067 [==============================] - 2s 562us/step - loss: 0.0643 - accuracy: 0.9789 - val_loss: 0.2653 - val_accuracy: 0.9423\n",
            "Epoch 90/130\n",
            "4067/4067 [==============================] - 2s 579us/step - loss: 0.0729 - accuracy: 0.9734 - val_loss: 0.2268 - val_accuracy: 0.9391\n",
            "Epoch 91/130\n",
            "4067/4067 [==============================] - 2s 567us/step - loss: 0.0941 - accuracy: 0.9656 - val_loss: 0.2178 - val_accuracy: 0.9404\n",
            "Epoch 92/130\n",
            "4067/4067 [==============================] - 2s 577us/step - loss: 0.0601 - accuracy: 0.9801 - val_loss: 0.2832 - val_accuracy: 0.9385\n",
            "Epoch 93/130\n",
            "4067/4067 [==============================] - 2s 573us/step - loss: 0.0628 - accuracy: 0.9771 - val_loss: 0.2850 - val_accuracy: 0.9365\n",
            "Epoch 94/130\n",
            "4067/4067 [==============================] - 2s 581us/step - loss: 0.0647 - accuracy: 0.9779 - val_loss: 0.2500 - val_accuracy: 0.9410\n",
            "Epoch 95/130\n",
            "4067/4067 [==============================] - 2s 595us/step - loss: 0.0615 - accuracy: 0.9786 - val_loss: 0.2556 - val_accuracy: 0.9340\n",
            "Epoch 96/130\n",
            "4067/4067 [==============================] - 2s 567us/step - loss: 0.0523 - accuracy: 0.9821 - val_loss: 0.2688 - val_accuracy: 0.9359\n",
            "Epoch 97/130\n",
            "4067/4067 [==============================] - 2s 567us/step - loss: 0.0535 - accuracy: 0.9811 - val_loss: 0.2720 - val_accuracy: 0.9404\n",
            "Epoch 98/130\n",
            "4067/4067 [==============================] - 2s 572us/step - loss: 0.0444 - accuracy: 0.9845 - val_loss: 0.3097 - val_accuracy: 0.9333\n",
            "Epoch 99/130\n",
            "4067/4067 [==============================] - 2s 566us/step - loss: 0.0493 - accuracy: 0.9843 - val_loss: 0.2728 - val_accuracy: 0.9385\n",
            "Epoch 100/130\n",
            "4067/4067 [==============================] - 2s 592us/step - loss: 0.0488 - accuracy: 0.9838 - val_loss: 0.3404 - val_accuracy: 0.9160\n",
            "Epoch 101/130\n",
            "4067/4067 [==============================] - 2s 584us/step - loss: 0.0876 - accuracy: 0.9705 - val_loss: 0.2234 - val_accuracy: 0.9449\n",
            "Epoch 102/130\n",
            "4067/4067 [==============================] - 2s 581us/step - loss: 0.0482 - accuracy: 0.9835 - val_loss: 0.3480 - val_accuracy: 0.9212\n",
            "Epoch 103/130\n",
            "4067/4067 [==============================] - 2s 565us/step - loss: 0.0582 - accuracy: 0.9801 - val_loss: 0.2145 - val_accuracy: 0.9468\n",
            "Epoch 104/130\n",
            "4067/4067 [==============================] - 2s 573us/step - loss: 0.0553 - accuracy: 0.9796 - val_loss: 0.2327 - val_accuracy: 0.9449\n",
            "Epoch 105/130\n",
            "4067/4067 [==============================] - 2s 577us/step - loss: 0.0495 - accuracy: 0.9833 - val_loss: 0.2684 - val_accuracy: 0.9423\n",
            "Epoch 106/130\n",
            "4067/4067 [==============================] - 2s 577us/step - loss: 0.0585 - accuracy: 0.9801 - val_loss: 0.2992 - val_accuracy: 0.9346\n",
            "Epoch 107/130\n",
            "4067/4067 [==============================] - 2s 573us/step - loss: 0.0501 - accuracy: 0.9816 - val_loss: 0.2771 - val_accuracy: 0.9333\n",
            "Epoch 108/130\n",
            "4067/4067 [==============================] - 2s 568us/step - loss: 0.0519 - accuracy: 0.9806 - val_loss: 0.2204 - val_accuracy: 0.9487\n",
            "Epoch 109/130\n",
            "4067/4067 [==============================] - 2s 590us/step - loss: 0.0515 - accuracy: 0.9850 - val_loss: 0.2560 - val_accuracy: 0.9365\n",
            "Epoch 110/130\n",
            "4067/4067 [==============================] - 2s 576us/step - loss: 0.0459 - accuracy: 0.9862 - val_loss: 0.3603 - val_accuracy: 0.9096\n",
            "Epoch 111/130\n",
            "4067/4067 [==============================] - 2s 591us/step - loss: 0.0639 - accuracy: 0.9771 - val_loss: 0.2239 - val_accuracy: 0.9462\n",
            "Epoch 112/130\n",
            "4067/4067 [==============================] - 2s 575us/step - loss: 0.0568 - accuracy: 0.9811 - val_loss: 0.2266 - val_accuracy: 0.9455\n",
            "Epoch 113/130\n",
            "4067/4067 [==============================] - 2s 585us/step - loss: 0.0512 - accuracy: 0.9821 - val_loss: 0.2760 - val_accuracy: 0.9391\n",
            "Epoch 114/130\n",
            "4067/4067 [==============================] - 2s 594us/step - loss: 0.0478 - accuracy: 0.9843 - val_loss: 0.2485 - val_accuracy: 0.9397\n",
            "Epoch 115/130\n",
            "4067/4067 [==============================] - 2s 592us/step - loss: 0.0632 - accuracy: 0.9776 - val_loss: 0.2393 - val_accuracy: 0.9423\n",
            "Epoch 116/130\n",
            "4067/4067 [==============================] - 2s 571us/step - loss: 0.0550 - accuracy: 0.9803 - val_loss: 0.2485 - val_accuracy: 0.9429\n",
            "Epoch 117/130\n",
            "4067/4067 [==============================] - 2s 575us/step - loss: 0.0640 - accuracy: 0.9776 - val_loss: 0.2046 - val_accuracy: 0.9474\n",
            "Epoch 118/130\n",
            "4067/4067 [==============================] - 2s 601us/step - loss: 0.0466 - accuracy: 0.9825 - val_loss: 0.2578 - val_accuracy: 0.9410\n",
            "Epoch 119/130\n",
            "4067/4067 [==============================] - 2s 597us/step - loss: 0.0595 - accuracy: 0.9791 - val_loss: 0.2470 - val_accuracy: 0.9410\n",
            "Epoch 120/130\n",
            "4067/4067 [==============================] - 2s 589us/step - loss: 0.0644 - accuracy: 0.9784 - val_loss: 0.2296 - val_accuracy: 0.9417\n",
            "Epoch 121/130\n",
            "4067/4067 [==============================] - 2s 573us/step - loss: 0.0451 - accuracy: 0.9855 - val_loss: 0.2641 - val_accuracy: 0.9410\n",
            "Epoch 122/130\n",
            "4067/4067 [==============================] - 2s 609us/step - loss: 0.0419 - accuracy: 0.9835 - val_loss: 0.2311 - val_accuracy: 0.9494\n",
            "Epoch 123/130\n",
            "4067/4067 [==============================] - 2s 570us/step - loss: 0.0441 - accuracy: 0.9865 - val_loss: 0.2305 - val_accuracy: 0.9462\n",
            "Epoch 124/130\n",
            "4067/4067 [==============================] - 2s 567us/step - loss: 0.0443 - accuracy: 0.9850 - val_loss: 0.2503 - val_accuracy: 0.9385\n",
            "Epoch 125/130\n",
            "4067/4067 [==============================] - 2s 585us/step - loss: 0.0455 - accuracy: 0.9838 - val_loss: 0.2860 - val_accuracy: 0.9397\n",
            "Epoch 126/130\n",
            "4067/4067 [==============================] - 2s 569us/step - loss: 0.0488 - accuracy: 0.9840 - val_loss: 0.3130 - val_accuracy: 0.9340\n",
            "Epoch 127/130\n",
            "4067/4067 [==============================] - 2s 583us/step - loss: 0.1315 - accuracy: 0.9636 - val_loss: 0.2171 - val_accuracy: 0.9423\n",
            "Epoch 128/130\n",
            "4067/4067 [==============================] - 2s 587us/step - loss: 0.0472 - accuracy: 0.9852 - val_loss: 0.2877 - val_accuracy: 0.9346\n",
            "Epoch 129/130\n",
            "4067/4067 [==============================] - 2s 582us/step - loss: 0.0414 - accuracy: 0.9882 - val_loss: 0.2449 - val_accuracy: 0.9468\n",
            "Epoch 130/130\n",
            "4067/4067 [==============================] - 2s 563us/step - loss: 0.0655 - accuracy: 0.9781 - val_loss: 0.2770 - val_accuracy: 0.9404\n"
          ],
          "name": "stdout"
        },
        {
          "output_type": "execute_result",
          "data": {
            "text/plain": [
              "<keras.callbacks.callbacks.History at 0x7f0ba93c6940>"
            ]
          },
          "metadata": {
            "tags": []
          },
          "execution_count": 79
        }
      ]
    },
    {
      "cell_type": "markdown",
      "metadata": {
        "id": "alYKcfidqZK8",
        "colab_type": "text"
      },
      "source": [
        "### 4.2.5 Accuracy of static 3 classs Classification model "
      ]
    },
    {
      "cell_type": "code",
      "metadata": {
        "id": "1tRuWbC8NkJb",
        "colab_type": "code",
        "outputId": "389b8de1-e0db-43c4-e940-267156b7c05c",
        "colab": {
          "base_uri": "https://localhost:8080/",
          "height": 51
        }
      },
      "source": [
        "accuracy_train = model_static.evaluate(X_train_static,Y_train_static,verbose=0)\n",
        "accuracy_val = model_static.evaluate(X_test_static,Y_test_static,verbose=0)\n",
        "\n",
        "print('Train_accuracy on 3 classification static Problem:',\n",
        "      accuracy_train,'\\ntest_accuracy on 3 classification static Problem:',accuracy_val)"
      ],
      "execution_count": 80,
      "outputs": [
        {
          "output_type": "stream",
          "text": [
            "Train_accuracy on 3 classification static Problem: [0.021264021563142933, 0.991640031337738] \n",
            "test_accuracy on 3 classification static Problem: [0.2770053438121417, 0.9403846263885498]\n"
          ],
          "name": "stdout"
        }
      ]
    },
    {
      "cell_type": "markdown",
      "metadata": {
        "id": "khSirCIEqdXx",
        "colab_type": "text"
      },
      "source": [
        "### 4.2.6 Accuracy vs Epoch for Train and Validation Graph model 3 Class "
      ]
    },
    {
      "cell_type": "code",
      "metadata": {
        "id": "7B7abpF-RkhL",
        "colab_type": "code",
        "colab": {
          "base_uri": "https://localhost:8080/",
          "height": 413
        },
        "outputId": "f9c51bca-3dbb-4779-8a5d-498b39ac323a"
      },
      "source": [
        "import pandas as pd\n",
        "import numpy as np\n",
        "losses = pd.DataFrame(model_static.history.history)\n",
        "\n",
        "losses.head(2)\n",
        "\n",
        "import matplotlib\n",
        "import matplotlib.pyplot as plt\n",
        "import numpy as np\n",
        "plt.figure(figsize=(10,6))\n",
        "\n",
        "plt.plot(losses['accuracy'],color='green',label='Train_accuracy')\n",
        "plt.plot(losses['val_accuracy'],color='red',label='val_accuracy')\n",
        "plt.xlabel('no of epoch',fontsize=14)\n",
        "plt.ylabel('Accuracy',fontsize=14)\n",
        "plt.title('Accuracy (Training & Validation) vs No of Epoch for model_static',fontsize=20)\n",
        "plt.legend()\n",
        "plt.grid()"
      ],
      "execution_count": 81,
      "outputs": [
        {
          "output_type": "display_data",
          "data": {
            "image/png": "[encoded data removed]",
            "text/plain": [
              "<Figure size 720x432 with 1 Axes>"
            ]
          },
          "metadata": {
            "tags": [],
            "needs_background": "light"
          }
        }
      ]
    },
    {
      "cell_type": "markdown",
      "metadata": {
        "id": "U9gqmo6eqzAv",
        "colab_type": "text"
      },
      "source": [
        "### 4.2.7 Model Static Saving "
      ]
    },
    {
      "cell_type": "code",
      "metadata": {
        "id": "kX4FOL43iZnE",
        "colab_type": "code",
        "colab": {}
      },
      "source": [
        "#https://colab.research.google.com/notebooks/io.ipynb#scrollTo=XDg9OBaYqRMd\n",
        "#https://medium.com/@master_yi/importing-datasets-in-google-colab-c816fc654f97\n",
        "# Code to read csv file into Colaboratory:\n",
        "#!pip install -U -q PyDrive\n",
        "from pydrive.auth import GoogleAuth\n",
        "from pydrive.drive import GoogleDrive\n",
        "from google.colab import auth\n",
        "from oauth2client.client import GoogleCredentials\n",
        "# Authenticate and create the PyDrive client.\n",
        "auth.authenticate_user()\n",
        "gauth = GoogleAuth()\n",
        "gauth.credentials = GoogleCredentials.get_application_default()\n",
        "drive = GoogleDrive(gauth)"
      ],
      "execution_count": 0,
      "outputs": []
    },
    {
      "cell_type": "code",
      "metadata": {
        "id": "GRcbgfa-jfR5",
        "colab_type": "code",
        "colab": {}
      },
      "source": [
        "#!pip install httplib2==0.15.0"
      ],
      "execution_count": 0,
      "outputs": []
    },
    {
      "cell_type": "code",
      "metadata": {
        "colab_type": "code",
        "id": "6ViczdejRs47",
        "colab": {}
      },
      "source": [
        "model_static.save('model_static_save_CNN.h5')\n",
        "model_file = drive.CreateFile({'model_static_save_CNN' : 'model_static_save_CNN.h5'}) \n",
        "model_file.SetContentFile('model_static_save_CNN.h5')\n",
        "model_file.Upload()"
      ],
      "execution_count": 0,
      "outputs": []
    },
    {
      "cell_type": "markdown",
      "metadata": {
        "id": "38imOlygrEuV",
        "colab_type": "text"
      },
      "source": [
        "### 4.2.8 Model Static Confusion Matrix "
      ]
    },
    {
      "cell_type": "code",
      "metadata": {
        "colab_type": "code",
        "id": "pgdpZ-6BRs5H",
        "colab": {}
      },
      "source": [
        "#https://github.com/scikit-learn/scikit-learn/issues/12700\n",
        "#https://github.com/rohitgurjar058/Human-Activity-Recognition/blob/master/HAR_Deep_Learning_notebook.ipynb\n",
        "import itertools\n",
        "import numpy as np\n",
        "import matplotlib.pyplot as plt\n",
        "from sklearn.metrics import confusion_matrix\n",
        "\n",
        "def plot_confusion_matrix(cm, classes,\n",
        "                          normalize=False,\n",
        "                          title='Confusion matrix',\n",
        "                          cmap=plt.cm.Blues):\n",
        "    if normalize:\n",
        "        cm = cm.astype('float') / cm.sum(axis=1)[:, np.newaxis]\n",
        "\n",
        "    plt.imshow(cm, interpolation='nearest', cmap=cmap)\n",
        "    plt.title(title)\n",
        "    plt.colorbar()\n",
        "    tick_marks = np.arange(len(classes))\n",
        "    plt.xticks(tick_marks, classes, rotation=45)\n",
        "    plt.yticks(tick_marks, classes)\n",
        "\n",
        "    fmt = '.2f' if normalize else 'd'\n",
        "    thresh = cm.max() / 2.\n",
        "    for i, j in itertools.product(range(cm.shape[0]), range(cm.shape[1])):\n",
        "        plt.text(j, i, format(cm[i, j], fmt),\n",
        "                 horizontalalignment=\"center\",\n",
        "                 color=\"white\" if cm[i, j] > thresh else \"black\")\n",
        "\n",
        "    #plt.tight_layout()\n",
        "    plt.ylabel('True label')\n",
        "    plt.xlabel('Predicted label')"
      ],
      "execution_count": 0,
      "outputs": []
    },
    {
      "cell_type": "code",
      "metadata": {
        "id": "IymNjqpkRkQK",
        "colab_type": "code",
        "colab": {}
      },
      "source": [
        "from sklearn import metrics\n",
        "import matplotlib.pyplot as plt\n",
        "ACTIVITIES = {\n",
        "    0: 'SITTING',\n",
        "    1: 'STANDING',\n",
        "    2: 'LAYING',\n",
        "}\n",
        "\n",
        "# Utility function to print the confusion matrix\n",
        "def confusion_matrix_divide_conquer(Y_true, Y_pred):\n",
        "    Y_true = pd.Series([ACTIVITIES[y] for y in np.argmax(Y_true, axis=1)])\n",
        "    Y_pred = pd.Series([ACTIVITIES[y] for y in np.argmax(Y_pred, axis=1)])\n",
        "\n",
        "    #return pd.crosstab(Y_true, Y_pred, rownames=['True'], colnames=['Pred'])\n",
        "    return metrics.confusion_matrix(Y_true, Y_pred)"
      ],
      "execution_count": 0,
      "outputs": []
    },
    {
      "cell_type": "code",
      "metadata": {
        "id": "-VhIcow8Mqzc",
        "colab_type": "code",
        "outputId": "cd4ab0bc-ed7a-4bd4-da17-c015a919820e",
        "colab": {
          "base_uri": "https://localhost:8080/",
          "height": 68
        }
      },
      "source": [
        "print(confusion_matrix_divide_conquer(Y_test_static, model_static.predict(X_test_static)))"
      ],
      "execution_count": 86,
      "outputs": [
        {
          "output_type": "stream",
          "text": [
            "[[537   0   0]\n",
            " [  1 409  81]\n",
            " [  0  11 521]]\n"
          ],
          "name": "stdout"
        }
      ]
    },
    {
      "cell_type": "code",
      "metadata": {
        "id": "H_uoTTNqSsne",
        "colab_type": "code",
        "colab": {}
      },
      "source": [
        "cm_static=confusion_matrix_divide_conquer(Y_test_static, model_static.predict(X_test_static))"
      ],
      "execution_count": 0,
      "outputs": []
    },
    {
      "cell_type": "code",
      "metadata": {
        "id": "aC2uUWqpS9-1",
        "colab_type": "code",
        "outputId": "e825b629-e6b6-48d3-d014-b97969aa2a4c",
        "colab": {
          "base_uri": "https://localhost:8080/",
          "height": 601
        }
      },
      "source": [
        "from sklearn.metrics import classification_report,confusion_matrix\n",
        "\n",
        "#https://medium.com/@dtuk81/confusion-matrix-visualization-fc31e3f30fea\n",
        "import seaborn as sns\n",
        "plt.figure(figsize=(15,9))\n",
        "cm_static = confusion_matrix_divide_conquer(Y_test_static, model_static.predict(X_test_static))\n",
        "plot_confusion_matrix(cm_static, classes=['SITTING','STANDING','LAYING'], normalize=True, title='Model_static Confusion Matrix', cmap = plt.cm.Blues)\n",
        "plt.show()\n"
      ],
      "execution_count": 88,
      "outputs": [
        {
          "output_type": "display_data",
          "data": {
            "image/png": "[encoded data removed]",
            "text/plain": [
              "<Figure size 1080x648 with 2 Axes>"
            ]
          },
          "metadata": {
            "tags": [],
            "needs_background": "light"
          }
        }
      ]
    },
    {
      "cell_type": "markdown",
      "metadata": {
        "id": "y9JxamkmGRFq",
        "colab_type": "text"
      },
      "source": [
        "## 4.3 Classify_dynamic_activities ,Dynmaic 3 Class Classification Problem "
      ]
    },
    {
      "cell_type": "markdown",
      "metadata": {
        "id": "c_1PHWi0xJHB",
        "colab_type": "text"
      },
      "source": [
        "### 4.3.1 Functions to load Dynamic Acitivity "
      ]
    },
    {
      "cell_type": "code",
      "metadata": {
        "id": "m8P8MiUQGKTh",
        "colab_type": "code",
        "colab": {}
      },
      "source": [
        "def load_y_dynamic(subset):\n",
        "  \n",
        "    \"\"\"\n",
        "    This function separates dyanmaic activity from static activity to \n",
        "    convert the problem into 3 class classification for Dynamic Activity \n",
        "    \"\"\"\n",
        "  \n",
        "    filename = f'HAR/UCI_HAR_Dataset/{subset}/y_{subset}.txt'\n",
        "    y = _read_csv(filename)[0]\n",
        "  \n",
        "    y_true = y<=3\n",
        "    y = y[y<=3]\n",
        "  \n",
        "    return pd.get_dummies(y).values, y_true"
      ],
      "execution_count": 0,
      "outputs": []
    },
    {
      "cell_type": "code",
      "metadata": {
        "id": "XNmxMqXtGKGg",
        "colab_type": "code",
        "colab": {}
      },
      "source": [
        "X_train_dynamic, X_test_dynamic = load_signals('train'), load_signals('test')\n",
        "\n",
        "Y_train_dynamic, y_train_true = load_y_dynamic('train')\n",
        "Y_test_dynamic, y_test_true    = load_y_dynamic('test')\n",
        "\n",
        "X_train_dynamic = X_train_dynamic[y_train_true]\n",
        "X_test_dynamic = X_test_dynamic[y_test_true]"
      ],
      "execution_count": 0,
      "outputs": []
    },
    {
      "cell_type": "code",
      "metadata": {
        "id": "PAhZ3fVFHbjm",
        "colab_type": "code",
        "colab": {
          "base_uri": "https://localhost:8080/",
          "height": 136
        },
        "outputId": "f31db350-2078-4d35-fcf1-b463d00950c0"
      },
      "source": [
        "print(\"-\"*50)\n",
        "print(\"Shape of matrix Y_train_dynamic: \",Y_train_dynamic.shape)\n",
        "print(\"Shape of matrix Y_test_dynamic: \",Y_test_dynamic.shape)\n",
        "print(\"-\"*50)\n",
        "print(\"Shape of matrix X_train_dynamic: \",X_train_dynamic.shape)\n",
        "print(\"Shape of matrix X_test_dynamic: \",X_test_dynamic.shape)\n",
        "print(\"-\"*50)"
      ],
      "execution_count": 21,
      "outputs": [
        {
          "output_type": "stream",
          "text": [
            "--------------------------------------------------\n",
            "Shape of matrix Y_train_dynamic:  (3285, 3)\n",
            "Shape of matrix Y_test_dynamic:  (1387, 3)\n",
            "--------------------------------------------------\n",
            "Shape of matrix X_train_dynamic:  (3285, 128, 9)\n",
            "Shape of matrix X_test_dynamic:  (1387, 128, 9)\n",
            "--------------------------------------------------\n"
          ],
          "name": "stdout"
        }
      ]
    },
    {
      "cell_type": "markdown",
      "metadata": {
        "id": "9pNEndf9xQ5Q",
        "colab_type": "text"
      },
      "source": [
        "### 4.3.2 Timesteps Input Dim and n_classes"
      ]
    },
    {
      "cell_type": "code",
      "metadata": {
        "id": "m-nV73smHrV8",
        "colab_type": "code",
        "colab": {
          "base_uri": "https://localhost:8080/",
          "height": 68
        },
        "outputId": "c4fd37cb-1eb6-4fd1-d59e-71e3474f9bc3"
      },
      "source": [
        "timesteps_dynamic = len(X_train_dynamic[0])\n",
        "input_dim_dynamic = len(X_train_dynamic[0][0])\n",
        "n_classes_dynamic = _count_classes(Y_train_dynamic)\n",
        "print(timesteps_dynamic)\n",
        "print(input_dim_dynamic)\n",
        "print(n_classes_dynamic)\n"
      ],
      "execution_count": 22,
      "outputs": [
        {
          "output_type": "stream",
          "text": [
            "128\n",
            "9\n",
            "3\n"
          ],
          "name": "stdout"
        }
      ]
    },
    {
      "cell_type": "markdown",
      "metadata": {
        "id": "sJ0Cr0ZoxlMH",
        "colab_type": "text"
      },
      "source": [
        "### 4.3.3 Model CNN to Classifiy Dynamic Activites"
      ]
    },
    {
      "cell_type": "code",
      "metadata": {
        "id": "veLgAFzHycbm",
        "colab_type": "code",
        "colab": {}
      },
      "source": [
        "from keras import backend as K \n",
        "K.clear_session()"
      ],
      "execution_count": 0,
      "outputs": []
    },
    {
      "cell_type": "code",
      "metadata": {
        "id": "haNOjdyq1YX2",
        "colab_type": "code",
        "colab": {
          "base_uri": "https://localhost:8080/",
          "height": 561
        },
        "outputId": "d0a85041-c898-45f1-ff79-cf38bfcde1bf"
      },
      "source": [
        "##https://github.com/xSachinBharadwajx/Human-Activity-Recognition-Using-Smartphones-DivideAndConquer\n",
        "\n",
        "model_dynamic = Sequential()\n",
        "model_dynamic.add(Conv1D(filters=64, kernel_size=3,padding='same', \n",
        "                     activation='relu',\n",
        "                     kernel_initializer='he_uniform',\n",
        "                     input_shape=(128,9)))\n",
        "\n",
        "model_dynamic.add(Conv1D(filters=32, kernel_size=5,padding='same', activation='relu',kernel_initializer='he_uniform'))\n",
        "model_dynamic.add(Dropout(0.6))\n",
        "model_dynamic.add(MaxPooling1D(pool_size=1,strides=1))\n",
        "\n",
        "model_dynamic.add(Flatten())\n",
        "model_dynamic.add(Dense(64, activation='relu',kernel_initializer='he_uniform'))\n",
        "model_dynamic.add(BatchNormalization()) \n",
        "model_dynamic.add(Dropout(0.6))\n",
        "\n",
        "model_dynamic.add(Dense(32, activation='relu',kernel_initializer='he_uniform'))\n",
        "model_dynamic.add(BatchNormalization()) \n",
        "model_dynamic.add(Dropout(0.6))\n",
        "\n",
        "model_dynamic.add(Dense(3, activation='softmax'))\n",
        "\n",
        "model_dynamic.summary()"
      ],
      "execution_count": 40,
      "outputs": [
        {
          "output_type": "stream",
          "text": [
            "Model: \"sequential_1\"\n",
            "_________________________________________________________________\n",
            "Layer (type)                 Output Shape              Param #   \n",
            "=================================================================\n",
            "conv1d_1 (Conv1D)            (None, 128, 64)           1792      \n",
            "_________________________________________________________________\n",
            "conv1d_2 (Conv1D)            (None, 128, 32)           10272     \n",
            "_________________________________________________________________\n",
            "dropout_1 (Dropout)          (None, 128, 32)           0         \n",
            "_________________________________________________________________\n",
            "max_pooling1d_1 (MaxPooling1 (None, 128, 32)           0         \n",
            "_________________________________________________________________\n",
            "flatten_1 (Flatten)          (None, 4096)              0         \n",
            "_________________________________________________________________\n",
            "dense_1 (Dense)              (None, 64)                262208    \n",
            "_________________________________________________________________\n",
            "batch_normalization_1 (Batch (None, 64)                256       \n",
            "_________________________________________________________________\n",
            "dropout_2 (Dropout)          (None, 64)                0         \n",
            "_________________________________________________________________\n",
            "dense_2 (Dense)              (None, 32)                2080      \n",
            "_________________________________________________________________\n",
            "batch_normalization_2 (Batch (None, 32)                128       \n",
            "_________________________________________________________________\n",
            "dropout_3 (Dropout)          (None, 32)                0         \n",
            "_________________________________________________________________\n",
            "dense_3 (Dense)              (None, 3)                 99        \n",
            "=================================================================\n",
            "Total params: 276,835\n",
            "Trainable params: 276,643\n",
            "Non-trainable params: 192\n",
            "_________________________________________________________________\n"
          ],
          "name": "stdout"
        }
      ]
    },
    {
      "cell_type": "markdown",
      "metadata": {
        "id": "KjpsQEUrxuAZ",
        "colab_type": "text"
      },
      "source": [
        "### 4.3.4 Model Compilation & Evaluation (Dynamic 3 Class Classification)"
      ]
    },
    {
      "cell_type": "code",
      "metadata": {
        "colab_type": "code",
        "outputId": "9120cfe7-315a-4b9a-8fce-ca4adc25cb00",
        "id": "MgTff6LTIfRM",
        "colab": {
          "base_uri": "https://localhost:8080/",
          "height": 1000
        }
      },
      "source": [
        "#import math\n",
        "adam = keras.optimizers.Adam(lr=0.0001)\n",
        "\n",
        "model_dynamic.compile(loss='categorical_crossentropy',\n",
        "                           optimizer='adam', \n",
        "                           metrics=['accuracy'])\n",
        "\n",
        "model_dynamic.fit(X_train_dynamic,Y_train_dynamic, \n",
        "                epochs=120, \n",
        "                batch_size=32,\n",
        "                validation_data=(X_test_dynamic, Y_test_dynamic),\n",
        "                verbose=1)"
      ],
      "execution_count": 41,
      "outputs": [
        {
          "output_type": "stream",
          "text": [
            "Train on 3285 samples, validate on 1387 samples\n",
            "Epoch 1/120\n",
            "3285/3285 [==============================] - 1s 403us/step - loss: 1.7770 - accuracy: 0.3851 - val_loss: 1.3870 - val_accuracy: 0.3735\n",
            "Epoch 2/120\n",
            "3285/3285 [==============================] - 1s 216us/step - loss: 1.2439 - accuracy: 0.4566 - val_loss: 1.0779 - val_accuracy: 0.5141\n",
            "Epoch 3/120\n",
            "3285/3285 [==============================] - 1s 229us/step - loss: 0.8944 - accuracy: 0.5836 - val_loss: 0.6159 - val_accuracy: 0.7267\n",
            "Epoch 4/120\n",
            "3285/3285 [==============================] - 1s 222us/step - loss: 0.5998 - accuracy: 0.7239 - val_loss: 0.4338 - val_accuracy: 0.8515\n",
            "Epoch 5/120\n",
            "3285/3285 [==============================] - 1s 218us/step - loss: 0.4234 - accuracy: 0.8311 - val_loss: 0.3083 - val_accuracy: 0.8882\n",
            "Epoch 6/120\n",
            "3285/3285 [==============================] - 1s 220us/step - loss: 0.3030 - accuracy: 0.8962 - val_loss: 0.2584 - val_accuracy: 0.9056\n",
            "Epoch 7/120\n",
            "3285/3285 [==============================] - 1s 212us/step - loss: 0.2277 - accuracy: 0.9254 - val_loss: 0.2337 - val_accuracy: 0.9005\n",
            "Epoch 8/120\n",
            "3285/3285 [==============================] - 1s 216us/step - loss: 0.1758 - accuracy: 0.9455 - val_loss: 0.2008 - val_accuracy: 0.9120\n",
            "Epoch 9/120\n",
            "3285/3285 [==============================] - 1s 221us/step - loss: 0.1373 - accuracy: 0.9571 - val_loss: 0.2050 - val_accuracy: 0.9257\n",
            "Epoch 10/120\n",
            "3285/3285 [==============================] - 1s 215us/step - loss: 0.1113 - accuracy: 0.9711 - val_loss: 0.1798 - val_accuracy: 0.9517\n",
            "Epoch 11/120\n",
            "3285/3285 [==============================] - 1s 224us/step - loss: 0.0859 - accuracy: 0.9778 - val_loss: 0.2076 - val_accuracy: 0.9481\n",
            "Epoch 12/120\n",
            "3285/3285 [==============================] - 1s 216us/step - loss: 0.0737 - accuracy: 0.9826 - val_loss: 0.1756 - val_accuracy: 0.9466\n",
            "Epoch 13/120\n",
            "3285/3285 [==============================] - 1s 222us/step - loss: 0.0671 - accuracy: 0.9799 - val_loss: 0.1166 - val_accuracy: 0.9503\n",
            "Epoch 14/120\n",
            "3285/3285 [==============================] - 1s 216us/step - loss: 0.0526 - accuracy: 0.9875 - val_loss: 0.1427 - val_accuracy: 0.9539\n",
            "Epoch 15/120\n",
            "3285/3285 [==============================] - 1s 216us/step - loss: 0.0463 - accuracy: 0.9896 - val_loss: 0.1788 - val_accuracy: 0.9582\n",
            "Epoch 16/120\n",
            "3285/3285 [==============================] - 1s 216us/step - loss: 0.0423 - accuracy: 0.9887 - val_loss: 0.2730 - val_accuracy: 0.9524\n",
            "Epoch 17/120\n",
            "3285/3285 [==============================] - 1s 219us/step - loss: 0.0429 - accuracy: 0.9903 - val_loss: 0.1927 - val_accuracy: 0.9560\n",
            "Epoch 18/120\n",
            "3285/3285 [==============================] - 1s 215us/step - loss: 0.0329 - accuracy: 0.9939 - val_loss: 0.1797 - val_accuracy: 0.9596\n",
            "Epoch 19/120\n",
            "3285/3285 [==============================] - 1s 219us/step - loss: 0.0321 - accuracy: 0.9924 - val_loss: 0.2164 - val_accuracy: 0.9567\n",
            "Epoch 20/120\n",
            "3285/3285 [==============================] - 1s 216us/step - loss: 0.0294 - accuracy: 0.9930 - val_loss: 0.2539 - val_accuracy: 0.9567\n",
            "Epoch 21/120\n",
            "3285/3285 [==============================] - 1s 209us/step - loss: 0.0358 - accuracy: 0.9912 - val_loss: 0.2220 - val_accuracy: 0.9596\n",
            "Epoch 22/120\n",
            "3285/3285 [==============================] - 1s 219us/step - loss: 0.0386 - accuracy: 0.9909 - val_loss: 0.5987 - val_accuracy: 0.8637\n",
            "Epoch 23/120\n",
            "3285/3285 [==============================] - 1s 217us/step - loss: 0.0322 - accuracy: 0.9912 - val_loss: 0.2350 - val_accuracy: 0.9632\n",
            "Epoch 24/120\n",
            "3285/3285 [==============================] - 1s 212us/step - loss: 0.0289 - accuracy: 0.9924 - val_loss: 0.2886 - val_accuracy: 0.9113\n",
            "Epoch 25/120\n",
            "3285/3285 [==============================] - 1s 220us/step - loss: 0.0295 - accuracy: 0.9927 - val_loss: 0.2996 - val_accuracy: 0.9618\n",
            "Epoch 26/120\n",
            "3285/3285 [==============================] - 1s 224us/step - loss: 0.0284 - accuracy: 0.9912 - val_loss: 0.1041 - val_accuracy: 0.9661\n",
            "Epoch 27/120\n",
            "3285/3285 [==============================] - 1s 217us/step - loss: 0.0289 - accuracy: 0.9924 - val_loss: 0.2035 - val_accuracy: 0.9611\n",
            "Epoch 28/120\n",
            "3285/3285 [==============================] - 1s 218us/step - loss: 0.0323 - accuracy: 0.9918 - val_loss: 0.1972 - val_accuracy: 0.9625\n",
            "Epoch 29/120\n",
            "3285/3285 [==============================] - 1s 220us/step - loss: 0.0450 - accuracy: 0.9860 - val_loss: 0.2941 - val_accuracy: 0.9452\n",
            "Epoch 30/120\n",
            "3285/3285 [==============================] - 1s 218us/step - loss: 0.0198 - accuracy: 0.9936 - val_loss: 0.3320 - val_accuracy: 0.9596\n",
            "Epoch 31/120\n",
            "3285/3285 [==============================] - 1s 217us/step - loss: 0.0146 - accuracy: 0.9954 - val_loss: 0.2763 - val_accuracy: 0.9618\n",
            "Epoch 32/120\n",
            "3285/3285 [==============================] - 1s 217us/step - loss: 0.0185 - accuracy: 0.9954 - val_loss: 0.3802 - val_accuracy: 0.9539\n",
            "Epoch 33/120\n",
            "3285/3285 [==============================] - 1s 223us/step - loss: 0.0207 - accuracy: 0.9939 - val_loss: 0.3432 - val_accuracy: 0.9589\n",
            "Epoch 34/120\n",
            "3285/3285 [==============================] - 1s 217us/step - loss: 0.0137 - accuracy: 0.9954 - val_loss: 0.2733 - val_accuracy: 0.9589\n",
            "Epoch 35/120\n",
            "3285/3285 [==============================] - 1s 218us/step - loss: 0.0118 - accuracy: 0.9970 - val_loss: 0.3362 - val_accuracy: 0.9618\n",
            "Epoch 36/120\n",
            "3285/3285 [==============================] - 1s 216us/step - loss: 0.0210 - accuracy: 0.9921 - val_loss: 0.2502 - val_accuracy: 0.9618\n",
            "Epoch 37/120\n",
            "3285/3285 [==============================] - 1s 220us/step - loss: 0.0112 - accuracy: 0.9970 - val_loss: 0.1274 - val_accuracy: 0.9712\n",
            "Epoch 38/120\n",
            "3285/3285 [==============================] - 1s 218us/step - loss: 0.0099 - accuracy: 0.9979 - val_loss: 0.1607 - val_accuracy: 0.9668\n",
            "Epoch 39/120\n",
            "3285/3285 [==============================] - 1s 217us/step - loss: 0.0196 - accuracy: 0.9945 - val_loss: 0.1075 - val_accuracy: 0.9683\n",
            "Epoch 40/120\n",
            "3285/3285 [==============================] - 1s 221us/step - loss: 0.0082 - accuracy: 0.9979 - val_loss: 0.2186 - val_accuracy: 0.9668\n",
            "Epoch 41/120\n",
            "3285/3285 [==============================] - 1s 220us/step - loss: 0.0116 - accuracy: 0.9970 - val_loss: 0.1551 - val_accuracy: 0.9640\n",
            "Epoch 42/120\n",
            "3285/3285 [==============================] - 1s 220us/step - loss: 0.0089 - accuracy: 0.9973 - val_loss: 0.1430 - val_accuracy: 0.9726\n",
            "Epoch 43/120\n",
            "3285/3285 [==============================] - 1s 215us/step - loss: 0.0106 - accuracy: 0.9976 - val_loss: 0.1873 - val_accuracy: 0.9683\n",
            "Epoch 44/120\n",
            "3285/3285 [==============================] - 1s 219us/step - loss: 0.0099 - accuracy: 0.9976 - val_loss: 0.2977 - val_accuracy: 0.9589\n",
            "Epoch 45/120\n",
            "3285/3285 [==============================] - 1s 218us/step - loss: 0.0492 - accuracy: 0.9881 - val_loss: 0.3370 - val_accuracy: 0.9603\n",
            "Epoch 46/120\n",
            "3285/3285 [==============================] - 1s 218us/step - loss: 0.0162 - accuracy: 0.9954 - val_loss: 0.2036 - val_accuracy: 0.9661\n",
            "Epoch 47/120\n",
            "3285/3285 [==============================] - 1s 221us/step - loss: 0.0270 - accuracy: 0.9924 - val_loss: 0.2915 - val_accuracy: 0.9575\n",
            "Epoch 48/120\n",
            "3285/3285 [==============================] - 1s 215us/step - loss: 0.0100 - accuracy: 0.9988 - val_loss: 0.2703 - val_accuracy: 0.9611\n",
            "Epoch 49/120\n",
            "3285/3285 [==============================] - 1s 224us/step - loss: 0.0081 - accuracy: 0.9979 - val_loss: 0.3219 - val_accuracy: 0.9611\n",
            "Epoch 50/120\n",
            "3285/3285 [==============================] - 1s 218us/step - loss: 0.0094 - accuracy: 0.9967 - val_loss: 0.1756 - val_accuracy: 0.9661\n",
            "Epoch 51/120\n",
            "3285/3285 [==============================] - 1s 219us/step - loss: 0.0152 - accuracy: 0.9951 - val_loss: 0.2993 - val_accuracy: 0.9654\n",
            "Epoch 52/120\n",
            "3285/3285 [==============================] - 1s 216us/step - loss: 0.0115 - accuracy: 0.9963 - val_loss: 0.1910 - val_accuracy: 0.9776\n",
            "Epoch 53/120\n",
            "3285/3285 [==============================] - 1s 215us/step - loss: 0.0128 - accuracy: 0.9963 - val_loss: 0.4144 - val_accuracy: 0.9618\n",
            "Epoch 54/120\n",
            "3285/3285 [==============================] - 1s 218us/step - loss: 0.0148 - accuracy: 0.9948 - val_loss: 0.4655 - val_accuracy: 0.9438\n",
            "Epoch 55/120\n",
            "3285/3285 [==============================] - 1s 217us/step - loss: 0.0254 - accuracy: 0.9918 - val_loss: 0.2330 - val_accuracy: 0.9791\n",
            "Epoch 56/120\n",
            "3285/3285 [==============================] - 1s 216us/step - loss: 0.0101 - accuracy: 0.9979 - val_loss: 0.3124 - val_accuracy: 0.9632\n",
            "Epoch 57/120\n",
            "3285/3285 [==============================] - 1s 219us/step - loss: 0.0073 - accuracy: 0.9976 - val_loss: 0.3418 - val_accuracy: 0.9640\n",
            "Epoch 58/120\n",
            "3285/3285 [==============================] - 1s 218us/step - loss: 0.0059 - accuracy: 0.9988 - val_loss: 0.2197 - val_accuracy: 0.9697\n",
            "Epoch 59/120\n",
            "3285/3285 [==============================] - 1s 217us/step - loss: 0.0046 - accuracy: 0.9991 - val_loss: 0.2602 - val_accuracy: 0.9668\n",
            "Epoch 60/120\n",
            "3285/3285 [==============================] - 1s 214us/step - loss: 0.0143 - accuracy: 0.9963 - val_loss: 0.4912 - val_accuracy: 0.9603\n",
            "Epoch 61/120\n",
            "3285/3285 [==============================] - 1s 217us/step - loss: 0.0183 - accuracy: 0.9948 - val_loss: 0.3912 - val_accuracy: 0.9423\n",
            "Epoch 62/120\n",
            "3285/3285 [==============================] - 1s 213us/step - loss: 0.0205 - accuracy: 0.9970 - val_loss: 0.3232 - val_accuracy: 0.9632\n",
            "Epoch 63/120\n",
            "3285/3285 [==============================] - 1s 216us/step - loss: 0.0283 - accuracy: 0.9936 - val_loss: 0.2458 - val_accuracy: 0.9560\n",
            "Epoch 64/120\n",
            "3285/3285 [==============================] - 1s 219us/step - loss: 0.0068 - accuracy: 0.9985 - val_loss: 0.3515 - val_accuracy: 0.9640\n",
            "Epoch 65/120\n",
            "3285/3285 [==============================] - 1s 210us/step - loss: 0.0094 - accuracy: 0.9976 - val_loss: 0.3755 - val_accuracy: 0.9423\n",
            "Epoch 66/120\n",
            "3285/3285 [==============================] - 1s 219us/step - loss: 0.0078 - accuracy: 0.9988 - val_loss: 0.2441 - val_accuracy: 0.9690\n",
            "Epoch 67/120\n",
            "3285/3285 [==============================] - 1s 218us/step - loss: 0.0049 - accuracy: 0.9988 - val_loss: 0.3807 - val_accuracy: 0.9640\n",
            "Epoch 68/120\n",
            "3285/3285 [==============================] - 1s 210us/step - loss: 0.0197 - accuracy: 0.9948 - val_loss: 0.3730 - val_accuracy: 0.9625\n",
            "Epoch 69/120\n",
            "3285/3285 [==============================] - 1s 220us/step - loss: 0.0100 - accuracy: 0.9970 - val_loss: 0.2555 - val_accuracy: 0.9647\n",
            "Epoch 70/120\n",
            "3285/3285 [==============================] - 1s 220us/step - loss: 0.0140 - accuracy: 0.9951 - val_loss: 0.2777 - val_accuracy: 0.9452\n",
            "Epoch 71/120\n",
            "3285/3285 [==============================] - 1s 217us/step - loss: 0.0050 - accuracy: 0.9991 - val_loss: 0.4112 - val_accuracy: 0.9640\n",
            "Epoch 72/120\n",
            "3285/3285 [==============================] - 1s 212us/step - loss: 0.0065 - accuracy: 0.9988 - val_loss: 0.4857 - val_accuracy: 0.9618\n",
            "Epoch 73/120\n",
            "3285/3285 [==============================] - 1s 216us/step - loss: 0.0066 - accuracy: 0.9988 - val_loss: 0.3017 - val_accuracy: 0.9668\n",
            "Epoch 74/120\n",
            "3285/3285 [==============================] - 1s 215us/step - loss: 0.0074 - accuracy: 0.9982 - val_loss: 0.4696 - val_accuracy: 0.9603\n",
            "Epoch 75/120\n",
            "3285/3285 [==============================] - 1s 218us/step - loss: 0.0095 - accuracy: 0.9967 - val_loss: 0.3528 - val_accuracy: 0.9402\n",
            "Epoch 76/120\n",
            "3285/3285 [==============================] - 1s 216us/step - loss: 0.0090 - accuracy: 0.9979 - val_loss: 0.3932 - val_accuracy: 0.9596\n",
            "Epoch 77/120\n",
            "3285/3285 [==============================] - 1s 218us/step - loss: 0.0074 - accuracy: 0.9973 - val_loss: 0.2142 - val_accuracy: 0.9690\n",
            "Epoch 78/120\n",
            "3285/3285 [==============================] - 1s 215us/step - loss: 0.0061 - accuracy: 0.9988 - val_loss: 0.4741 - val_accuracy: 0.9524\n",
            "Epoch 79/120\n",
            "3285/3285 [==============================] - 1s 217us/step - loss: 0.0069 - accuracy: 0.9982 - val_loss: 0.3852 - val_accuracy: 0.9611\n",
            "Epoch 80/120\n",
            "3285/3285 [==============================] - 1s 218us/step - loss: 0.0092 - accuracy: 0.9976 - val_loss: 0.3796 - val_accuracy: 0.9503\n",
            "Epoch 81/120\n",
            "3285/3285 [==============================] - 1s 216us/step - loss: 0.0066 - accuracy: 0.9979 - val_loss: 0.2905 - val_accuracy: 0.9676\n",
            "Epoch 82/120\n",
            "3285/3285 [==============================] - 1s 215us/step - loss: 0.0101 - accuracy: 0.9970 - val_loss: 0.5100 - val_accuracy: 0.9236\n",
            "Epoch 83/120\n",
            "3285/3285 [==============================] - 1s 223us/step - loss: 0.0212 - accuracy: 0.9948 - val_loss: 0.5432 - val_accuracy: 0.9373\n",
            "Epoch 84/120\n",
            "3285/3285 [==============================] - 1s 217us/step - loss: 0.0138 - accuracy: 0.9951 - val_loss: 0.2555 - val_accuracy: 0.9683\n",
            "Epoch 85/120\n",
            "3285/3285 [==============================] - 1s 218us/step - loss: 0.0047 - accuracy: 0.9985 - val_loss: 0.1728 - val_accuracy: 0.9712\n",
            "Epoch 86/120\n",
            "3285/3285 [==============================] - 1s 214us/step - loss: 0.0096 - accuracy: 0.9982 - val_loss: 0.2145 - val_accuracy: 0.9740\n",
            "Epoch 87/120\n",
            "3285/3285 [==============================] - 1s 236us/step - loss: 0.0046 - accuracy: 0.9988 - val_loss: 0.1136 - val_accuracy: 0.9805\n",
            "Epoch 88/120\n",
            "3285/3285 [==============================] - 1s 217us/step - loss: 0.0066 - accuracy: 0.9985 - val_loss: 0.1719 - val_accuracy: 0.9769\n",
            "Epoch 89/120\n",
            "3285/3285 [==============================] - 1s 215us/step - loss: 0.0048 - accuracy: 0.9979 - val_loss: 0.2492 - val_accuracy: 0.9748\n",
            "Epoch 90/120\n",
            "3285/3285 [==============================] - 1s 214us/step - loss: 0.0036 - accuracy: 0.9991 - val_loss: 0.3528 - val_accuracy: 0.9611\n",
            "Epoch 91/120\n",
            "3285/3285 [==============================] - 1s 218us/step - loss: 0.0191 - accuracy: 0.9951 - val_loss: 0.4243 - val_accuracy: 0.9632\n",
            "Epoch 92/120\n",
            "3285/3285 [==============================] - 1s 213us/step - loss: 0.0071 - accuracy: 0.9976 - val_loss: 0.4736 - val_accuracy: 0.9524\n",
            "Epoch 93/120\n",
            "3285/3285 [==============================] - 1s 218us/step - loss: 0.0061 - accuracy: 0.9985 - val_loss: 0.4682 - val_accuracy: 0.9618\n",
            "Epoch 94/120\n",
            "3285/3285 [==============================] - 1s 222us/step - loss: 0.0050 - accuracy: 0.9988 - val_loss: 0.3034 - val_accuracy: 0.9546\n",
            "Epoch 95/120\n",
            "3285/3285 [==============================] - 1s 219us/step - loss: 0.0087 - accuracy: 0.9973 - val_loss: 0.3218 - val_accuracy: 0.9647\n",
            "Epoch 96/120\n",
            "3285/3285 [==============================] - 1s 218us/step - loss: 0.0102 - accuracy: 0.9970 - val_loss: 0.2638 - val_accuracy: 0.9640\n",
            "Epoch 97/120\n",
            "3285/3285 [==============================] - 1s 223us/step - loss: 0.0059 - accuracy: 0.9976 - val_loss: 0.2575 - val_accuracy: 0.9668\n",
            "Epoch 98/120\n",
            "3285/3285 [==============================] - 1s 222us/step - loss: 0.0019 - accuracy: 0.9997 - val_loss: 0.2924 - val_accuracy: 0.9647\n",
            "Epoch 99/120\n",
            "3285/3285 [==============================] - 1s 215us/step - loss: 0.0035 - accuracy: 0.9988 - val_loss: 0.3374 - val_accuracy: 0.9640\n",
            "Epoch 100/120\n",
            "3285/3285 [==============================] - 1s 223us/step - loss: 0.0088 - accuracy: 0.9976 - val_loss: 0.2475 - val_accuracy: 0.9712\n",
            "Epoch 101/120\n",
            "3285/3285 [==============================] - 1s 220us/step - loss: 0.0062 - accuracy: 0.9982 - val_loss: 0.3950 - val_accuracy: 0.9575\n",
            "Epoch 102/120\n",
            "3285/3285 [==============================] - 1s 215us/step - loss: 0.0040 - accuracy: 0.9994 - val_loss: 0.2039 - val_accuracy: 0.9733\n",
            "Epoch 103/120\n",
            "3285/3285 [==============================] - 1s 219us/step - loss: 0.0117 - accuracy: 0.9973 - val_loss: 0.4623 - val_accuracy: 0.9200\n",
            "Epoch 104/120\n",
            "3285/3285 [==============================] - 1s 218us/step - loss: 0.0077 - accuracy: 0.9970 - val_loss: 0.2520 - val_accuracy: 0.9654\n",
            "Epoch 105/120\n",
            "3285/3285 [==============================] - 1s 221us/step - loss: 0.0035 - accuracy: 0.9988 - val_loss: 0.3171 - val_accuracy: 0.9625\n",
            "Epoch 106/120\n",
            "3285/3285 [==============================] - 1s 218us/step - loss: 0.0047 - accuracy: 0.9991 - val_loss: 0.2743 - val_accuracy: 0.9712\n",
            "Epoch 107/120\n",
            "3285/3285 [==============================] - 1s 213us/step - loss: 0.0075 - accuracy: 0.9976 - val_loss: 0.2907 - val_accuracy: 0.9632\n",
            "Epoch 108/120\n",
            "3285/3285 [==============================] - 1s 220us/step - loss: 0.0037 - accuracy: 0.9988 - val_loss: 0.2713 - val_accuracy: 0.9611\n",
            "Epoch 109/120\n",
            "3285/3285 [==============================] - 1s 215us/step - loss: 0.0026 - accuracy: 0.9991 - val_loss: 0.4167 - val_accuracy: 0.9625\n",
            "Epoch 110/120\n",
            "3285/3285 [==============================] - 1s 214us/step - loss: 0.0099 - accuracy: 0.9970 - val_loss: 0.3836 - val_accuracy: 0.9567\n",
            "Epoch 111/120\n",
            "3285/3285 [==============================] - 1s 218us/step - loss: 0.0113 - accuracy: 0.9973 - val_loss: 0.2474 - val_accuracy: 0.9618\n",
            "Epoch 112/120\n",
            "3285/3285 [==============================] - 1s 216us/step - loss: 0.0039 - accuracy: 0.9988 - val_loss: 0.2048 - val_accuracy: 0.9690\n",
            "Epoch 113/120\n",
            "3285/3285 [==============================] - 1s 218us/step - loss: 0.0065 - accuracy: 0.9976 - val_loss: 0.1164 - val_accuracy: 0.9784\n",
            "Epoch 114/120\n",
            "3285/3285 [==============================] - 1s 217us/step - loss: 0.0154 - accuracy: 0.9954 - val_loss: 0.1302 - val_accuracy: 0.9683\n",
            "Epoch 115/120\n",
            "3285/3285 [==============================] - 1s 219us/step - loss: 0.0100 - accuracy: 0.9973 - val_loss: 0.1152 - val_accuracy: 0.9798\n",
            "Epoch 116/120\n",
            "3285/3285 [==============================] - 1s 220us/step - loss: 0.0038 - accuracy: 0.9988 - val_loss: 0.1145 - val_accuracy: 0.9805\n",
            "Epoch 117/120\n",
            "3285/3285 [==============================] - 1s 215us/step - loss: 0.0035 - accuracy: 0.9982 - val_loss: 0.0770 - val_accuracy: 0.9798\n",
            "Epoch 118/120\n",
            "3285/3285 [==============================] - 1s 217us/step - loss: 0.0074 - accuracy: 0.9979 - val_loss: 0.1629 - val_accuracy: 0.9784\n",
            "Epoch 119/120\n",
            "3285/3285 [==============================] - 1s 216us/step - loss: 0.0067 - accuracy: 0.9973 - val_loss: 0.1770 - val_accuracy: 0.9776\n",
            "Epoch 120/120\n",
            "3285/3285 [==============================] - 1s 213us/step - loss: 0.0092 - accuracy: 0.9982 - val_loss: 0.1123 - val_accuracy: 0.9776\n"
          ],
          "name": "stdout"
        },
        {
          "output_type": "execute_result",
          "data": {
            "text/plain": [
              "<keras.callbacks.callbacks.History at 0x7f0499da6d30>"
            ]
          },
          "metadata": {
            "tags": []
          },
          "execution_count": 41
        }
      ]
    },
    {
      "cell_type": "markdown",
      "metadata": {
        "id": "8KJ_vUolx1cD",
        "colab_type": "text"
      },
      "source": [
        "### 4.3.5 Accuracy on Dynamic Activities"
      ]
    },
    {
      "cell_type": "code",
      "metadata": {
        "colab_type": "code",
        "outputId": "f020df4e-2f3c-42a6-f74f-999bd97935ac",
        "id": "ZiILkfB-IfRQ",
        "colab": {
          "base_uri": "https://localhost:8080/",
          "height": 51
        }
      },
      "source": [
        "accuracy_train = model_dynamic.evaluate(X_train_dynamic,Y_train_dynamic,verbose=0)\n",
        "accuracy_val = model_dynamic.evaluate(X_test_dynamic,Y_test_dynamic,verbose=0)\n",
        "\n",
        "print('Train_accuracy on 3 classification dynamic Problem:',\n",
        "      accuracy_train,'\\ntest_accuracy on 3 classification dynamic Problem:',accuracy_val)"
      ],
      "execution_count": 42,
      "outputs": [
        {
          "output_type": "stream",
          "text": [
            "Train_accuracy on 3 classification dynamic Problem: [1.8037837257979763e-07, 1.0] \n",
            "test_accuracy on 3 classification dynamic Problem: [0.11225277295033208, 0.9776496291160583]\n"
          ],
          "name": "stdout"
        }
      ]
    },
    {
      "cell_type": "markdown",
      "metadata": {
        "id": "ZOfiVqRayBdH",
        "colab_type": "text"
      },
      "source": [
        "### 4.3.6 Accuracy vs Epoch for Train and Validation Graph modelDynamic 3 Class "
      ]
    },
    {
      "cell_type": "code",
      "metadata": {
        "colab_type": "code",
        "id": "JaAXVAF6IfRY",
        "colab": {
          "base_uri": "https://localhost:8080/",
          "height": 413
        },
        "outputId": "a8e1132f-1bac-4685-e685-560ca1502bee"
      },
      "source": [
        "import pandas as pd\n",
        "import numpy as np\n",
        "losses = pd.DataFrame(model_dynamic.history.history)\n",
        "\n",
        "losses.head(2)\n",
        "\n",
        "import matplotlib\n",
        "import matplotlib.pyplot as plt\n",
        "import numpy as np\n",
        "plt.figure(figsize=(10,6))\n",
        "\n",
        "plt.plot(losses['accuracy'],color='green',label='Train_accuracy')\n",
        "plt.plot(losses['val_accuracy'],color='red',label='val_accuracy')\n",
        "plt.xlabel('no of epoch',fontsize=14)\n",
        "plt.ylabel('Accuracy',fontsize=14)\n",
        "plt.title('Accuracy (Training & Validation) vs No of Epoch for model_dynamic',fontsize=20)\n",
        "plt.legend()\n",
        "plt.grid()"
      ],
      "execution_count": 43,
      "outputs": [
        {
          "output_type": "display_data",
          "data": {
            "image/png": "[encoded data removed]",
            "text/plain": [
              "<Figure size 720x432 with 1 Axes>"
            ]
          },
          "metadata": {
            "tags": [],
            "needs_background": "light"
          }
        }
      ]
    },
    {
      "cell_type": "code",
      "metadata": {
        "colab_type": "code",
        "id": "RxN8GfJ3IfRf",
        "colab": {}
      },
      "source": [
        "model_dynamic.save('model_dynamic_save_CNN.h5')\n",
        "model_file = drive.CreateFile({'model_dynamic_3class' : 'model_dynamic_save_CNN.h5'}) \n",
        "model_file.SetContentFile('model_dynamic_save_CNN.h5')\n",
        "model_file.Upload()"
      ],
      "execution_count": 0,
      "outputs": []
    },
    {
      "cell_type": "code",
      "metadata": {
        "colab_type": "code",
        "id": "OCD9UX5EIfRq",
        "colab": {}
      },
      "source": [
        "#https://github.com/rohitgurjar058/Human-Activity-Recognition/blob/master/HAR_Deep_Learning_notebook.ipynb\n",
        "import itertools\n",
        "import numpy as np\n",
        "import matplotlib.pyplot as plt\n",
        "from sklearn.metrics import confusion_matrix\n",
        "\n",
        "def plot_confusion_matrix(cm, classes,\n",
        "                          normalize=False,\n",
        "                          title='Confusion matrix',\n",
        "                          cmap=plt.cm.Blues):\n",
        "    if normalize:\n",
        "        cm = cm.astype('float') / cm.sum(axis=1)[:, np.newaxis]\n",
        "\n",
        "    plt.imshow(cm, interpolation='nearest', cmap=cmap)\n",
        "    plt.title(title,fontsize=20)\n",
        "    plt.colorbar()\n",
        "    tick_marks = np.arange(len(classes))\n",
        "    plt.xticks(tick_marks, classes, rotation=45)\n",
        "    plt.yticks(tick_marks, classes)\n",
        "\n",
        "    fmt = '.2f' if normalize else 'd'\n",
        "    thresh = cm.max() / 2.\n",
        "    for i, j in itertools.product(range(cm.shape[0]), range(cm.shape[1])):\n",
        "        plt.text(j, i, format(cm[i, j], fmt),\n",
        "                 horizontalalignment=\"center\",\n",
        "                 color=\"white\" if cm[i, j] > thresh else \"black\")\n",
        "\n",
        "    #plt.tight_layout()\n",
        "    plt.ylabel('True label',fontsize=15)\n",
        "    plt.xlabel('Predicted label',fontsize=15)"
      ],
      "execution_count": 0,
      "outputs": []
    },
    {
      "cell_type": "code",
      "metadata": {
        "colab_type": "code",
        "id": "T5_YcRKHIfRv",
        "colab": {}
      },
      "source": [
        "from sklearn import metrics\n",
        "import matplotlib.pyplot as plt\n",
        "ACTIVITIES = {\n",
        "    0: 'WALKING',\n",
        "    1: 'WALKING_UPSTAIRS',\n",
        "    2: 'WALKING_DOWNSTAIRS',\n",
        "}\n",
        "\n",
        "# Utility function to print the confusion matrix\n",
        "def confusion_matrix_divide_conquer(Y_true, Y_pred):\n",
        "    Y_true = pd.Series([ACTIVITIES[y] for y in np.argmax(Y_true, axis=1)])\n",
        "    Y_pred = pd.Series([ACTIVITIES[y] for y in np.argmax(Y_pred, axis=1)])\n",
        "\n",
        "    #return pd.crosstab(Y_true, Y_pred, rownames=['True'], colnames=['Pred'])\n",
        "    return metrics.confusion_matrix(Y_true, Y_pred)"
      ],
      "execution_count": 0,
      "outputs": []
    },
    {
      "cell_type": "code",
      "metadata": {
        "colab_type": "code",
        "outputId": "94d52458-7e28-424f-800e-7c65429b0844",
        "id": "l4F7zCd1IfRy",
        "colab": {
          "base_uri": "https://localhost:8080/",
          "height": 68
        }
      },
      "source": [
        "print(confusion_matrix_divide_conquer(Y_test_dynamic, model_dynamic.predict(X_test_dynamic)))"
      ],
      "execution_count": 47,
      "outputs": [
        {
          "output_type": "stream",
          "text": [
            "[[488   8   0]\n",
            " [  1 419   0]\n",
            " [  0  22 449]]\n"
          ],
          "name": "stdout"
        }
      ]
    },
    {
      "cell_type": "code",
      "metadata": {
        "colab_type": "code",
        "id": "fPcFKXP4IfR2",
        "colab": {}
      },
      "source": [
        ""
      ],
      "execution_count": 0,
      "outputs": []
    },
    {
      "cell_type": "code",
      "metadata": {
        "colab_type": "code",
        "outputId": "97cd6793-fb53-409c-e8a6-fa969761521c",
        "id": "mEvIMH7BIfR5",
        "colab": {
          "base_uri": "https://localhost:8080/",
          "height": 713
        }
      },
      "source": [
        "from sklearn.metrics import classification_report,confusion_matrix\n",
        "\n",
        "#https://medium.com/@dtuk81/confusion-matrix-visualization-fc31e3f30fea\n",
        "import seaborn as sns\n",
        "plt.figure(figsize=(12,9))\n",
        "cm_dynamic=confusion_matrix_divide_conquer(Y_test_dynamic, model_dynamic.predict(X_test_dynamic))\n",
        "plot_confusion_matrix(cm_dynamic, classes=['WALKING','WALKING_UPSTAIRS','WALKING_DOWNSTAIRS'],\n",
        "                      normalize=True, title='Model_dynamic Confusion Matrix', cmap = plt.cm.Blues)\n",
        "plt.show()\n"
      ],
      "execution_count": 48,
      "outputs": [
        {
          "output_type": "stream",
          "text": [
            "/usr/local/lib/python3.6/dist-packages/statsmodels/tools/_testing.py:19: FutureWarning: pandas.util.testing is deprecated. Use the functions in the public API at pandas.testing instead.\n",
            "  import pandas.util.testing as tm\n"
          ],
          "name": "stderr"
        },
        {
          "output_type": "display_data",
          "data": {
            "image/png": "[encoded data removed]",
            "text/plain": [
              "<Figure size 864x648 with 2 Axes>"
            ]
          },
          "metadata": {
            "tags": [],
            "needs_background": "light"
          }
        }
      ]
    },
    {
      "cell_type": "code",
      "metadata": {
        "colab_type": "code",
        "id": "wGE1GTf4IfR8",
        "colab": {}
      },
      "source": [
        ""
      ],
      "execution_count": 0,
      "outputs": []
    },
    {
      "cell_type": "code",
      "metadata": {
        "id": "05YxgoBRN_j8",
        "colab_type": "code",
        "colab": {}
      },
      "source": [
        ""
      ],
      "execution_count": 0,
      "outputs": []
    },
    {
      "cell_type": "code",
      "metadata": {
        "id": "4FWZ-3xXO4za",
        "colab_type": "code",
        "colab": {}
      },
      "source": [
        ""
      ],
      "execution_count": 0,
      "outputs": []
    },
    {
      "cell_type": "markdown",
      "metadata": {
        "id": "IsdM_XRsroCu",
        "colab_type": "text"
      },
      "source": [
        "## 4.4 Final Prediction "
      ]
    },
    {
      "cell_type": "code",
      "metadata": {
        "id": "kZCSL_n_r3Sm",
        "colab_type": "code",
        "colab": {}
      },
      "source": [
        "#https://colab.research.google.com/notebooks/io.ipynb#scrollTo=XDg9OBaYqRMd\n",
        "#https://medium.com/@master_yi/importing-datasets-in-google-colab-c816fc654f97\n",
        "# Code to read csv file into Colaboratory:\n",
        "#!pip install -U -q PyDrive\n",
        "from pydrive.auth import GoogleAuth\n",
        "from pydrive.drive import GoogleDrive\n",
        "from google.colab import auth\n",
        "from oauth2client.client import GoogleCredentials\n",
        "# Authenticate and create the PyDrive client.\n",
        "auth.authenticate_user()\n",
        "gauth = GoogleAuth()\n",
        "gauth.credentials = GoogleCredentials.get_application_default()\n",
        "drive = GoogleDrive(gauth)\n"
      ],
      "execution_count": 0,
      "outputs": []
    },
    {
      "cell_type": "code",
      "metadata": {
        "id": "NPbDtjxZO4ww",
        "colab_type": "code",
        "colab": {
          "base_uri": "https://localhost:8080/",
          "height": 34
        },
        "outputId": "46f024db-4db4-4bfa-9b7e-8f784c625c18"
      },
      "source": [
        "\n",
        "link = 'https://drive.google.com/open?id=1lCSxTT2xiQ3HYIHVJImd0i2hoFrgpEWs'\n",
        "\n",
        "fluff, id = link.split('=')\n",
        "print (id) # Verify that you have everything after '='\n",
        "\n",
        "\n",
        "downloaded = drive.CreateFile({'id':id}) \n",
        "downloaded.GetContentFile('model_dynamic_save_CNN.h5')  \n",
        "#data = pd.read_csv('preprocessed_data')\n",
        "# Dataset is now stored in a Pandas Dataframe\n",
        "#data.shape"
      ],
      "execution_count": 50,
      "outputs": [
        {
          "output_type": "stream",
          "text": [
            "1lCSxTT2xiQ3HYIHVJImd0i2hoFrgpEWs\n"
          ],
          "name": "stdout"
        }
      ]
    },
    {
      "cell_type": "code",
      "metadata": {
        "id": "xaPje4T3O4qE",
        "colab_type": "code",
        "colab": {
          "base_uri": "https://localhost:8080/",
          "height": 34
        },
        "outputId": "a9862ba0-dac0-46ce-f1db-671e648f2eea"
      },
      "source": [
        "\n",
        "link = 'https://drive.google.com/open?id=1J2dmOg7XVe9zAe_UdWSoOghESjGocbOD'\n",
        "\n",
        "fluff, id = link.split('=')\n",
        "print (id) # Verify that you have everything after '='\n",
        "\n",
        "\n",
        "downloaded = drive.CreateFile({'id':id}) \n",
        "downloaded.GetContentFile('model_static_save_CNN.h5')  \n",
        "#data = pd.read_csv('preprocessed_data')\n",
        "# Dataset is now stored in a Pandas Dataframe\n",
        "#data.shape"
      ],
      "execution_count": 51,
      "outputs": [
        {
          "output_type": "stream",
          "text": [
            "1J2dmOg7XVe9zAe_UdWSoOghESjGocbOD\n"
          ],
          "name": "stdout"
        }
      ]
    },
    {
      "cell_type": "code",
      "metadata": {
        "id": "fhfK5M12O4nu",
        "colab_type": "code",
        "colab": {
          "base_uri": "https://localhost:8080/",
          "height": 34
        },
        "outputId": "be047577-b76f-4cbe-b6dc-d30c6feda561"
      },
      "source": [
        "link = 'https://drive.google.com/open?id=109GPv64cAOvPpKg8kfpmx2HD2PqIiGKy'\n",
        "\n",
        "fluff, id = link.split('=')\n",
        "print (id) # Verify that you have everything after '='\n",
        "\n",
        "\n",
        "downloaded = drive.CreateFile({'id':id}) \n",
        "downloaded.GetContentFile('model_binary_class_save.h5')  \n",
        "#data = pd.read_csv('preprocessed_data')\n",
        "# Dataset is now stored in a Pandas Dataframe\n",
        "#data.shape"
      ],
      "execution_count": 52,
      "outputs": [
        {
          "output_type": "stream",
          "text": [
            "109GPv64cAOvPpKg8kfpmx2HD2PqIiGKy\n"
          ],
          "name": "stdout"
        }
      ]
    },
    {
      "cell_type": "code",
      "metadata": {
        "id": "48h5SMrhO4lc",
        "colab_type": "code",
        "colab": {}
      },
      "source": [
        ""
      ],
      "execution_count": 0,
      "outputs": []
    },
    {
      "cell_type": "code",
      "metadata": {
        "id": "bRZFL1RzO4bq",
        "colab_type": "code",
        "colab": {}
      },
      "source": [
        ""
      ],
      "execution_count": 0,
      "outputs": []
    },
    {
      "cell_type": "code",
      "metadata": {
        "id": "u4jugx6hO4Yg",
        "colab_type": "code",
        "colab": {}
      },
      "source": [
        ""
      ],
      "execution_count": 0,
      "outputs": []
    },
    {
      "cell_type": "code",
      "metadata": {
        "id": "kHO792AIN_gL",
        "colab_type": "code",
        "colab": {}
      },
      "source": [
        ""
      ],
      "execution_count": 0,
      "outputs": []
    },
    {
      "cell_type": "markdown",
      "metadata": {
        "id": "TMaE6qv15TMm",
        "colab_type": "text"
      },
      "source": [
        "### 4.4.1 Load Models "
      ]
    },
    {
      "cell_type": "code",
      "metadata": {
        "id": "PVGLu8YcN_Tw",
        "colab_type": "code",
        "colab": {}
      },
      "source": [
        "##loading keras models and picle files for scaling data \n",
        "from keras.models import load_model\n",
        "import pickle\n",
        "model_binary_class_save= load_model('model_binary_class_save.h5')\n",
        "model_dynamic_save = load_model('model_dynamic_save_CNN.h5')\n",
        "model_static_save = load_model('model_static_save_CNN.h5')"
      ],
      "execution_count": 0,
      "outputs": []
    },
    {
      "cell_type": "markdown",
      "metadata": {
        "id": "0FsQjXfs5FSX",
        "colab_type": "text"
      },
      "source": [
        "### 4.4.2 Final Prediction Function "
      ]
    },
    {
      "cell_type": "code",
      "metadata": {
        "id": "h-cmcUn5PsvE",
        "colab_type": "code",
        "colab": {}
      },
      "source": [
        "#https://github.com/rohitgurjar058/Human-Activity-Recognition/blob/master/HAR_Deep_Learning_notebook.ipynb\n",
        "\n",
        "def final_prediction_function(X):\n",
        "\n",
        "    \"\"\"\n",
        "    This Function Firstly Predict Static or Dynamic(Binary Classification)\n",
        "    After classifying into static(3 Class classification) And Dynamic(3 Class \n",
        "    Classification) then it is classfied into 3 class claassification Problem.\n",
        "    Function return final prediction\n",
        "    \"\"\" \n",
        "\n",
        "\n",
        "    predict_static_dynamic = model_binary_class_save.predict(X)\n",
        "    y_predict_static_dynamic =  np.argmax(predict_static_dynamic, axis=1)\n",
        "  \n",
        "    #static data,Data is divided into static or dynamic based on labels\n",
        "    X_static = X[y_predict_static_dynamic==1]\n",
        "    #dynamic data,Data is divided into static or dynamic based on labels\n",
        "    X_dynamic = X[y_predict_static_dynamic==0]\n",
        "  \n",
        "\n",
        "    #predicting Static Activity 3 class classification \n",
        "    predict_static = model_static_save.predict(X_static)\n",
        "    y_predict_static = np.argmax(predict_static,axis=1)\n",
        "    y_predict_static_class_label = y_predict_static + 4\n",
        "\n",
        "    #predicting Dynamic Activity 3 class classification \n",
        "    predict_dy = model_dynamic_save.predict(X_dynamic)\n",
        "    predict_dynamic = np.argmax(predict_dy,axis=1)\n",
        "    y_predict_dynamic_class_label = predict_dynamic + 1\n",
        "\n",
        "\n",
        "    #for sequence of data the prediction is saved into list called as final Prediction\n",
        "    i,j = 0,0 \n",
        "    final_prediction = []\n",
        "    for prediction in y_predict_static_dynamic:\n",
        "        if prediction == 1:\n",
        "          final_prediction.append(y_predict_static_class_label[i])\n",
        "          i = i + 1\n",
        "        else:\n",
        "          final_prediction.append(y_predict_dynamic_class_label[j])\n",
        "          j = j + 1 \n",
        "      \n",
        "    return final_prediction"
      ],
      "execution_count": 0,
      "outputs": []
    },
    {
      "cell_type": "code",
      "metadata": {
        "id": "e5pQ2R7q2R4R",
        "colab_type": "code",
        "colab": {}
      },
      "source": [
        "\n",
        "#predicting final output on Trian and test\n",
        "final_pred_test = final_prediction_function(X_test)\n",
        "rounded_labels_test=np.argmax(final_pred_test)\n",
        "\n",
        "\n",
        "final_pred_train = final_prediction_function(X_train)\n",
        "rounded_labels_train=np.argmax(final_pred_train)\n"
      ],
      "execution_count": 0,
      "outputs": []
    },
    {
      "cell_type": "code",
      "metadata": {
        "id": "iymb7b6-_CYd",
        "colab_type": "code",
        "colab": {}
      },
      "source": [
        "def load_y_final(subset):\n",
        "    filename = f'HAR/UCI_HAR_Dataset/{subset}/y_{subset}.txt'\n",
        "    y = _read_csv(filename)[0]\n",
        "\n",
        "    return y"
      ],
      "execution_count": 0,
      "outputs": []
    },
    {
      "cell_type": "markdown",
      "metadata": {
        "id": "eh6zlWGv4-J3",
        "colab_type": "text"
      },
      "source": [
        "### 4.4.3 Final Accuracy on Complete Data "
      ]
    },
    {
      "cell_type": "code",
      "metadata": {
        "id": "AxU0QA6X3khH",
        "colab_type": "code",
        "colab": {
          "base_uri": "https://localhost:8080/",
          "height": 102
        },
        "outputId": "fa66a7ee-38a2-4ebd-ce06-70875bf186b0"
      },
      "source": [
        "##accuracy of train and test\n",
        "from sklearn.metrics import accuracy_score\n",
        "print(\"=\"*50)\n",
        "print('Accuracy of Train data:',accuracy_score(load_y_final('train'),final_pred_train))\n",
        "print(\"-\"*50)\n",
        "print('Accuracy of Test data:',accuracy_score(load_y_final('test'),final_pred_test))\n",
        "print(\"=\"*50)"
      ],
      "execution_count": 62,
      "outputs": [
        {
          "output_type": "stream",
          "text": [
            "==================================================\n",
            "Accuracy of Train data: 0.9941512513601741\n",
            "--------------------------------------------------\n",
            "Accuracy of Test data: 0.9511367492365117\n",
            "==================================================\n"
          ],
          "name": "stdout"
        }
      ]
    },
    {
      "cell_type": "markdown",
      "metadata": {
        "id": "zPZvUqDC43J0",
        "colab_type": "text"
      },
      "source": [
        "### 4.4.4 Final Confusion Matrix"
      ]
    },
    {
      "cell_type": "code",
      "metadata": {
        "id": "JYujKFRC4TjS",
        "colab_type": "code",
        "colab": {
          "base_uri": "https://localhost:8080/",
          "height": 119
        },
        "outputId": "ec6537d5-5e6d-45b8-9937-14e512b85358"
      },
      "source": [
        "\n",
        "from sklearn.metrics import confusion_matrix\n",
        "cm_final = confusion_matrix(load_y_final('test'), final_pred_test)\n",
        "cm_final"
      ],
      "execution_count": 58,
      "outputs": [
        {
          "output_type": "execute_result",
          "data": {
            "text/plain": [
              "array([[488,   0,   8,   0,   0,   0],\n",
              "       [  0, 447,  22,   1,   1,   0],\n",
              "       [  1,   0, 412,   0,   7,   0],\n",
              "       [  2,   2,   0, 406,  80,   1],\n",
              "       [  4,   3,   0,  10, 515,   0],\n",
              "       [  0,   2,   0,   0,   0, 535]])"
            ]
          },
          "metadata": {
            "tags": []
          },
          "execution_count": 58
        }
      ]
    },
    {
      "cell_type": "code",
      "metadata": {
        "id": "77HLjocg_mUS",
        "colab_type": "code",
        "colab": {
          "base_uri": "https://localhost:8080/",
          "height": 792
        },
        "outputId": "83f35610-c49f-4c96-862b-f31e1a37149c"
      },
      "source": [
        "import matplotlib.pyplot as plt\n",
        "plt.figure(figsize=(13,13))\n",
        "labels=['WALKING','WALKING_UPSTAIRS','WALKING_DOWNSTAIRS','SITTING','STANDING','LAYING']\n",
        "plot_confusion_matrix(cm_final, classes=labels, \n",
        "                      normalize=True, \n",
        "                      title='Final Confusion Matrix ',\n",
        "                      cmap = plt.cm.Blues)\n",
        "plt.show()"
      ],
      "execution_count": 63,
      "outputs": [
        {
          "output_type": "display_data",
          "data": {
            "image/png": "[encoded data removed]",
            "text/plain": [
              "<Figure size 936x936 with 2 Axes>"
            ]
          },
          "metadata": {
            "tags": [],
            "needs_background": "light"
          }
        }
      ]
    },
    {
      "cell_type": "markdown",
      "metadata": {
        "id": "dAEaWBxi5paK",
        "colab_type": "text"
      },
      "source": [
        "# 5 Conclusion "
      ]
    },
    {
      "cell_type": "code",
      "metadata": {
        "id": "0uRChd3rAWgF",
        "colab_type": "code",
        "colab": {}
      },
      "source": [
        "#!/usr/bin/python3\n",
        "\n",
        "from prettytable import PrettyTable\n",
        "    \n",
        "x = PrettyTable()\n",
        "\n",
        "x.field_names = [\"MODEL\", \"FEATURIZATION\",\"Accuracy\"]\n",
        "\n",
        "x.add_row([\"Best_LR\", \"Feature_engineered_FFT\",\"95.11%\"])\n",
        "x.add_row([\"LSTM_1_layered\", \"Raw_time_series_data\",\"90.03%\"])\n",
        "x.add_row([\"LSTM_2_layered\", \"Raw_time_series_data\",\"97.16%\"])\n",
        "x.add_row([\"Divide & Conquer Approarch \", \"Raw_time_series_data\",\"95.11%\"])\n",
        "\n",
        "\n",
        "print(x)"
      ],
      "execution_count": 0,
      "outputs": []
    }
  ]
}